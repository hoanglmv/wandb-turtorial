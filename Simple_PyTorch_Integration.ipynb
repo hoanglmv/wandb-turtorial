{
  "cells": [
    {
      "cell_type": "markdown",
      "metadata": {
        "id": "8wMXhpHWIWYE"
      },
      "source": [
        "<a href=\"https://colab.research.google.com/github/wandb/examples/blob/master/colabs/pytorch/Simple_PyTorch_Integration.ipynb\" target=\"_parent\"><img src=\"https://colab.research.google.com/assets/colab-badge.svg\" alt=\"Open In Colab\"/></a>\n",
        "<!--- @wandbcode{pytorch-video} -->"
      ]
    },
    {
      "cell_type": "markdown",
      "metadata": {
        "id": "4DqFSv2bIWYI"
      },
      "source": [
        "<img src=\"http://wandb.me/logo-im-png\" width=\"400\" alt=\"Weights & Biases\" />\n",
        "\n",
        "<!--- @wandbcode{pytorch-video} -->\n"
      ]
    },
    {
      "cell_type": "markdown",
      "metadata": {
        "id": "KeREhEL8IWYJ"
      },
      "source": [
        "# 🔥 = W&B ➕ PyTorch"
      ]
    },
    {
      "cell_type": "markdown",
      "metadata": {
        "id": "3mSlsYMnIWYK"
      },
      "source": [
        "\n",
        "Use [Weights & Biases](https://wandb.com) for machine learning experiment tracking, dataset versioning, and project collaboration.\n",
        "\n",
        "<div><img /></div>\n",
        "\n",
        "<img src=\"https://wandb.me/mini-diagram\" width=\"650\" alt=\"Weights & Biases\" />\n",
        "\n",
        "<div><img /></div>\n",
        "\n"
      ]
    },
    {
      "cell_type": "markdown",
      "metadata": {
        "id": "ox9nMJ48IWYK"
      },
      "source": [
        "\n",
        "## What this notebook covers:\n",
        "\n",
        "We show you how to integrate Weights & Biases with your PyTorch code to add experiment tracking to your pipeline.\n",
        "\n",
        "## The resulting interactive W&B dashboard will look like:\n",
        "![](https://i.imgur.com/z8TK2Et.png)\n",
        "\n",
        "## In pseudocode, what we'll do is:\n",
        "```python\n",
        "# import the library\n",
        "import wandb\n",
        "\n",
        "# start a new experiment\n",
        "wandb.init(project=\"new-sota-model\")\n",
        "\n",
        "# capture a dictionary of hyperparameters with config\n",
        "wandb.config = {\"learning_rate\": 0.001, \"epochs\": 100, \"batch_size\": 128}\n",
        "\n",
        "# set up model and data\n",
        "model, dataloader = get_model(), get_data()\n",
        "\n",
        "# optional: track gradients\n",
        "wandb.watch(model)\n",
        "\n",
        "for batch in dataloader:\n",
        "  metrics = model.training_step()\n",
        "  # log metrics inside your training loop to visualize model performance\n",
        "  wandb.log(metrics)\n",
        "\n",
        "# optional: save model at the end\n",
        "model.to_onnx()\n",
        "wandb.save(\"model.onnx\")\n",
        "```"
      ]
    },
    {
      "cell_type": "markdown",
      "metadata": {
        "id": "KIynXLk-IWYK"
      },
      "source": [
        "\n",
        "\n",
        "## Follow along with a [video tutorial](http://wandb.me/pytorch-video)!\n",
        "**Note**: Sections starting with _Step_ are all you need to integrate W&B in an existing pipeline. The rest just loads data and defines a model."
      ]
    },
    {
      "cell_type": "markdown",
      "metadata": {
        "id": "EpDYfgTvIWYL"
      },
      "source": [
        "# 🚀 Install, Import, and Log In"
      ]
    },
    {
      "cell_type": "code",
      "execution_count": 14,
      "metadata": {},
      "outputs": [
        {
          "name": "stderr",
          "output_type": "stream",
          "text": [
            "WARNING: Ignoring invalid distribution -ip (c:\\users\\firek\\appdata\\roaming\\python\\python39\\site-packages)\n",
            "WARNING: Ignoring invalid distribution -ip (c:\\users\\firek\\appdata\\roaming\\python\\python39\\site-packages)\n",
            "WARNING: Ignoring invalid distribution -ip (c:\\users\\firek\\appdata\\roaming\\python\\python39\\site-packages)\n",
            "WARNING: Ignoring invalid distribution -ip (c:\\users\\firek\\appdata\\roaming\\python\\python39\\site-packages)\n"
          ]
        }
      ],
      "source": [
        "!pip install onnx"
      ]
    },
    {
      "cell_type": "markdown",
      "metadata": {
        "id": "rW2Z3AVZIWYL"
      },
      "source": [
        "### 0️⃣ Step 0: Install W&B"
      ]
    },
    {
      "cell_type": "markdown",
      "metadata": {
        "id": "9lAE3dJUIWYL"
      },
      "source": [
        "To get started, we'll need to get the library.\n",
        "`wandb` is easily installed using `pip`."
      ]
    },
    {
      "cell_type": "code",
      "execution_count": 15,
      "metadata": {
        "id": "G2xGmCUjIWYN"
      },
      "outputs": [],
      "source": [
        "import os\n",
        "import random\n",
        "\n",
        "import numpy as np\n",
        "import torch\n",
        "import torch.nn as nn\n",
        "import torchvision\n",
        "import torchvision.transforms as transforms\n",
        "from tqdm.auto import tqdm\n",
        "\n",
        "# Ensure deterministic behavior\n",
        "torch.backends.cudnn.deterministic = True\n",
        "random.seed(hash(\"setting random seeds\") % 2**32 - 1)\n",
        "np.random.seed(hash(\"improves reproducibility\") % 2**32 - 1)\n",
        "torch.manual_seed(hash(\"by removing stochasticity\") % 2**32 - 1)\n",
        "torch.cuda.manual_seed_all(hash(\"so runs are repeatable\") % 2**32 - 1)\n",
        "\n",
        "# Device configuration\n",
        "device = torch.device(\"cuda:0\" if torch.cuda.is_available() else \"cpu\")\n",
        "\n",
        "# remove slow mirror from list of MNIST mirrors\n",
        "torchvision.datasets.MNIST.mirrors = [mirror for mirror in torchvision.datasets.MNIST.mirrors\n",
        "                                      if not mirror.startswith(\"http://yann.lecun.com\")]"
      ]
    },
    {
      "cell_type": "markdown",
      "metadata": {
        "id": "o8lH52VxIWYN"
      },
      "source": [
        "### 1️⃣ Step 1: Import W&B and Login"
      ]
    },
    {
      "cell_type": "markdown",
      "metadata": {
        "id": "QppzA2mHIWYN"
      },
      "source": [
        "In order to log data to our web service,\n",
        "you'll need to log in.\n",
        "\n",
        "If this is your first time using W&B,\n",
        "you'll need to sign up for a free account at the link that appears."
      ]
    },
    {
      "cell_type": "code",
      "execution_count": 16,
      "metadata": {
        "id": "L0xudKsCIWYO"
      },
      "outputs": [],
      "source": [
        "import wandb\n"
      ]
    },
    {
      "cell_type": "code",
      "execution_count": 17,
      "metadata": {
        "colab": {
          "base_uri": "https://localhost:8080/",
          "height": 122
        },
        "id": "B5_MpIfHIWYO",
        "outputId": "0b9b0385-631e-4ba0-f225-c9c9f00878ea"
      },
      "outputs": [
        {
          "data": {
            "text/plain": [
              "True"
            ]
          },
          "execution_count": 17,
          "metadata": {},
          "output_type": "execute_result"
        }
      ],
      "source": [
        "wandb.login()"
      ]
    },
    {
      "cell_type": "markdown",
      "metadata": {
        "id": "pI9ah7qRIWYO"
      },
      "source": [
        "# 👩‍🔬 Define the Experiment and Pipeline"
      ]
    },
    {
      "cell_type": "markdown",
      "metadata": {
        "id": "e9kkzwpAIWYO"
      },
      "source": [
        "## 2️⃣ Step 2: Track metadata and hyperparameters with `wandb.init`"
      ]
    },
    {
      "cell_type": "markdown",
      "metadata": {
        "id": "6YxRD4r8IWYO"
      },
      "source": [
        "Programmatically, the first thing we do is define our experiment:\n",
        "what are the hyperparameters? what metadata is associated with this run?\n",
        "\n",
        "It's a pretty common workflow to store this information in a `config` dictionary\n",
        "(or similar object)\n",
        "and then access it as needed.\n",
        "\n",
        "For this example, we're only letting a few hyperparameters vary\n",
        "and hand-coding the rest.\n",
        "But any part of your model can be part of the `config`!\n",
        "\n",
        "We also include some metadata: we're using the MNIST dataset and a convolutional\n",
        "architecture. If we later work with, say,\n",
        "fully-connected architectures on CIFAR in the same project,\n",
        "this will help us separate our runs."
      ]
    },
    {
      "cell_type": "code",
      "execution_count": 18,
      "metadata": {
        "id": "iVZJL0RAIWYO"
      },
      "outputs": [],
      "source": [
        "config = dict(\n",
        "    epochs=5,\n",
        "    classes=10,\n",
        "    kernels=[16, 32],\n",
        "    batch_size=128,\n",
        "    learning_rate=0.005,\n",
        "    dataset=\"MNIST\",\n",
        "    architecture=\"CNN\")"
      ]
    },
    {
      "cell_type": "markdown",
      "metadata": {
        "id": "UT25ezZFIWYP"
      },
      "source": [
        "Now, let's define the overall pipeline,\n",
        "which is pretty typical for model-training:\n",
        "\n",
        "1. we first `make` a model, plus associated data and optimizer, then\n",
        "2. we `train` the model accordingly and finally\n",
        "3. `test` it to see how training went.\n",
        "\n",
        "We'll implement these functions below."
      ]
    },
    {
      "cell_type": "code",
      "execution_count": 19,
      "metadata": {
        "id": "xNxPB4tkIWYP"
      },
      "outputs": [],
      "source": [
        "def model_pipeline(hyperparameters):\n",
        "\n",
        "    # tell wandb to get started\n",
        "    with wandb.init(project=\"pytorch-demo\", config=hyperparameters):\n",
        "      # access all HPs through wandb.config, so logging matches execution!\n",
        "      config = wandb.config\n",
        "\n",
        "      # make the model, data, and optimization problem\n",
        "      model, train_loader, test_loader, criterion, optimizer = make(config)\n",
        "      print(model)\n",
        "\n",
        "      # and use them to train the model\n",
        "      train(model, train_loader, criterion, optimizer, config)\n",
        "\n",
        "      # and test its final performance\n",
        "      test(model, test_loader)\n",
        "\n",
        "    return model"
      ]
    },
    {
      "cell_type": "markdown",
      "metadata": {
        "id": "Rhpm-edKIWYP"
      },
      "source": [
        "The only difference here from a standard pipeline\n",
        "is that it all occurs inside the context of `wandb.init`.\n",
        "Calling this function sets up a line of communication\n",
        "between your code and our servers.\n",
        "\n",
        "Passing the `config` dictionary to `wandb.init`\n",
        "immediately logs all that information to us,\n",
        "so you'll always know what hyperparameter values\n",
        "you set your experiment to use.\n",
        "\n",
        "To ensure the values you chose and logged are always the ones that get used\n",
        "in your model, we recommend using the `wandb.config` copy of your object.\n",
        "Check the definition of `make` below to see some examples.\n",
        "\n",
        "> *Side Note*: We take care to run our code in separate processes,\n",
        "so that any issues on our end\n",
        "(e.g. a giant sea monster attacks our data centers)\n",
        "don't crash your code.\n",
        "Once the issue is resolved (e.g. the Kraken returns to the deep)\n",
        "you can log the data with `wandb sync`."
      ]
    },
    {
      "cell_type": "code",
      "execution_count": 20,
      "metadata": {
        "id": "tIuydzdCIWYP"
      },
      "outputs": [],
      "source": [
        "def make(config):\n",
        "    # Make the data\n",
        "    train, test = get_data(train=True), get_data(train=False)\n",
        "    train_loader = make_loader(train, batch_size=config.batch_size)\n",
        "    test_loader = make_loader(test, batch_size=config.batch_size)\n",
        "\n",
        "    # Make the model\n",
        "    model = ConvNet(config.kernels, config.classes).to(device)\n",
        "\n",
        "    # Make the loss and optimizer\n",
        "    criterion = nn.CrossEntropyLoss()\n",
        "    optimizer = torch.optim.Adam(\n",
        "        model.parameters(), lr=config.learning_rate)\n",
        "\n",
        "    return model, train_loader, test_loader, criterion, optimizer"
      ]
    },
    {
      "cell_type": "markdown",
      "metadata": {
        "id": "wBvD3msQIWYP"
      },
      "source": [
        "# 📡 Define the Data Loading and Model"
      ]
    },
    {
      "cell_type": "markdown",
      "metadata": {
        "id": "T7C5zV50IWYP"
      },
      "source": [
        "Now, we need to specify how the data is loaded and what the model looks like.\n",
        "\n",
        "This part is very important, but it's\n",
        "no different from what it would be without `wandb`,\n",
        "so we won't dwell on it."
      ]
    },
    {
      "cell_type": "code",
      "execution_count": 21,
      "metadata": {
        "id": "_DmO-vrPIWYP"
      },
      "outputs": [],
      "source": [
        "def get_data(slice=5, train=True):\n",
        "    full_dataset = torchvision.datasets.MNIST(root=\".\",\n",
        "                                              train=train,\n",
        "                                              transform=transforms.ToTensor(),\n",
        "                                              download=True)\n",
        "    #  equiv to slicing with [::slice]\n",
        "    sub_dataset = torch.utils.data.Subset(\n",
        "      full_dataset, indices=range(0, len(full_dataset), slice))\n",
        "\n",
        "    return sub_dataset\n",
        "\n",
        "\n",
        "def make_loader(dataset, batch_size):\n",
        "    loader = torch.utils.data.DataLoader(dataset=dataset,\n",
        "                                         batch_size=batch_size,\n",
        "                                         shuffle=True,\n",
        "                                         pin_memory=True, num_workers=2)\n",
        "    return loader"
      ]
    },
    {
      "cell_type": "markdown",
      "metadata": {
        "id": "mVFA72O9IWYQ"
      },
      "source": [
        "Defining the model is normally the fun part!\n",
        "\n",
        "But nothing changes with `wandb`,\n",
        "so we're gonna stick with a standard ConvNet architecture.\n",
        "\n",
        "Don't be afraid to mess around with this and try some experiments --\n",
        "all your results will be logged on [wandb.ai](https://wandb.ai)!\n",
        "\n"
      ]
    },
    {
      "cell_type": "code",
      "execution_count": 22,
      "metadata": {
        "id": "-FFRoSfcIWYQ"
      },
      "outputs": [],
      "source": [
        "# Conventional and convolutional neural network\n",
        "\n",
        "class ConvNet(nn.Module):\n",
        "    def __init__(self, kernels, classes=10):\n",
        "        super(ConvNet, self).__init__()\n",
        "\n",
        "        self.layer1 = nn.Sequential(\n",
        "            nn.Conv2d(1, kernels[0], kernel_size=5, stride=1, padding=2),\n",
        "            nn.ReLU(),\n",
        "            nn.MaxPool2d(kernel_size=2, stride=2))\n",
        "        self.layer2 = nn.Sequential(\n",
        "            nn.Conv2d(16, kernels[1], kernel_size=5, stride=1, padding=2),\n",
        "            nn.ReLU(),\n",
        "            nn.MaxPool2d(kernel_size=2, stride=2))\n",
        "        self.fc = nn.Linear(7 * 7 * kernels[-1], classes)\n",
        "\n",
        "    def forward(self, x):\n",
        "        out = self.layer1(x)\n",
        "        out = self.layer2(out)\n",
        "        out = out.reshape(out.size(0), -1)\n",
        "        out = self.fc(out)\n",
        "        return out"
      ]
    },
    {
      "cell_type": "markdown",
      "metadata": {
        "id": "nBx4dnK8IWYQ"
      },
      "source": [
        "# 👟 Define Training Logic"
      ]
    },
    {
      "cell_type": "markdown",
      "metadata": {
        "id": "lvlJpIqqIWYQ"
      },
      "source": [
        "Moving on in our `model_pipeline`, it's time to specify how we `train`.\n",
        "\n",
        "Two `wandb` functions come into play here: `watch` and `log`."
      ]
    },
    {
      "cell_type": "markdown",
      "metadata": {
        "id": "_DEc5yiCIWYQ"
      },
      "source": [
        "### 3️⃣ Step 3. Track gradients with `wandb.watch` and everything else with `wandb.log`"
      ]
    },
    {
      "cell_type": "markdown",
      "metadata": {
        "id": "OhOtYg8xIWYQ"
      },
      "source": [
        "`wandb.watch` will log the gradients and the parameters of your model,\n",
        "every `log_freq` steps of training.\n",
        "\n",
        "All you need to do is call it before you start training.\n",
        "\n",
        "The rest of the training code remains the same:\n",
        "we iterate over epochs and batches,\n",
        "running forward and backward passes\n",
        "and applying our `optimizer`."
      ]
    },
    {
      "cell_type": "code",
      "execution_count": 23,
      "metadata": {
        "id": "o1G3m3ttIWYR"
      },
      "outputs": [],
      "source": [
        "def train(model, loader, criterion, optimizer, config):\n",
        "    # Tell wandb to watch what the model gets up to: gradients, weights, and more!\n",
        "    wandb.watch(model, criterion, log=\"all\", log_freq=10)\n",
        "\n",
        "    # Run training and track with wandb\n",
        "    total_batches = len(loader) * config.epochs\n",
        "    example_ct = 0  # number of examples seen\n",
        "    batch_ct = 0\n",
        "    for epoch in tqdm(range(config.epochs)):\n",
        "        for _, (images, labels) in enumerate(loader):\n",
        "\n",
        "            loss = train_batch(images, labels, model, optimizer, criterion)\n",
        "            example_ct +=  len(images)\n",
        "            batch_ct += 1\n",
        "\n",
        "            # Report metrics every 25th batch\n",
        "            if ((batch_ct + 1) % 25) == 0:\n",
        "                train_log(loss, example_ct, epoch)\n",
        "\n",
        "\n",
        "def train_batch(images, labels, model, optimizer, criterion):\n",
        "    images, labels = images.to(device), labels.to(device)\n",
        "\n",
        "    # Forward pass ➡\n",
        "    outputs = model(images)\n",
        "    loss = criterion(outputs, labels)\n",
        "\n",
        "    # Backward pass ⬅\n",
        "    optimizer.zero_grad()\n",
        "    loss.backward()\n",
        "\n",
        "    # Step with optimizer\n",
        "    optimizer.step()\n",
        "\n",
        "    return loss"
      ]
    },
    {
      "cell_type": "markdown",
      "metadata": {
        "id": "7BVgplUSIWYR"
      },
      "source": [
        "The only difference is in the logging code:\n",
        "where previously you might have reported metrics by printing to the terminal,\n",
        "now you pass the same information to `wandb.log`.\n",
        "\n",
        "`wandb.log` expects a dictionary with strings as keys.\n",
        "These strings identify the objects being logged, which make up the values.\n",
        "You can also optionally log which `step` of training you're on.\n",
        "\n",
        "> *Side Note*: I like to use the number of examples the model has seen,\n",
        "since this makes for easier comparison across batch sizes,\n",
        "but you can use raw steps or batch count. For longer training runs, it can also make sense to log by `epoch`."
      ]
    },
    {
      "cell_type": "code",
      "execution_count": 24,
      "metadata": {
        "id": "EUDXkbF4IWYR"
      },
      "outputs": [],
      "source": [
        "def train_log(loss, example_ct, epoch):\n",
        "    # Where the magic happens\n",
        "    wandb.log({\"epoch\": epoch, \"loss\": loss}, step=example_ct)\n",
        "    print(f\"Loss after {str(example_ct).zfill(5)} examples: {loss:.3f}\")"
      ]
    },
    {
      "cell_type": "markdown",
      "metadata": {
        "id": "H1VlkOSgIWYR"
      },
      "source": [
        "# 🧪 Define Testing Logic"
      ]
    },
    {
      "cell_type": "markdown",
      "metadata": {
        "id": "9xTvdORwIWYR"
      },
      "source": [
        "Once the model is done training, we want to test it:\n",
        "run it against some fresh data from production, perhaps,\n",
        "or apply it to some hand-curated \"hard examples\".\n",
        "\n"
      ]
    },
    {
      "cell_type": "markdown",
      "metadata": {
        "id": "ywgjNpYTIWYR"
      },
      "source": [
        "#### 4️⃣ Optional Step 4: Call `wandb.save`\n",
        "\n",
        "This is also a great time to save the model's architecture\n",
        "and final parameters to disk.\n",
        "For maximum compatibility, we'll `export` our model in the\n",
        "[Open Neural Network eXchange (ONNX) format](https://onnx.ai/).\n",
        "\n",
        "Passing that filename to `wandb.save` ensures that the model parameters\n",
        "are saved to W&B's servers: no more losing track of which `.h5` or `.pb`\n",
        "corresponds to which training runs!\n",
        "\n",
        "For more advanced `wandb` features for storing, versioning, and distributing\n",
        "models, check out our [Artifacts tools](https://www.wandb.com/artifacts)."
      ]
    },
    {
      "cell_type": "code",
      "execution_count": 25,
      "metadata": {
        "id": "PO3CcAxGIWYS"
      },
      "outputs": [],
      "source": [
        "def test(model, test_loader):\n",
        "    model.eval()\n",
        "\n",
        "    # Run the model on some test examples\n",
        "    with torch.no_grad():\n",
        "        correct, total = 0, 0\n",
        "        for images, labels in test_loader:\n",
        "            images, labels = images.to(device), labels.to(device)\n",
        "            outputs = model(images)\n",
        "            _, predicted = torch.max(outputs.data, 1)\n",
        "            total += labels.size(0)\n",
        "            correct += (predicted == labels).sum().item()\n",
        "\n",
        "        print(f\"Accuracy of the model on the {total} \" +\n",
        "              f\"test images: {correct / total:%}\")\n",
        "\n",
        "        wandb.log({\"test_accuracy\": correct / total})\n",
        "\n",
        "    # Save the model in the exchangeable ONNX format\n",
        "    torch.onnx.export(model, images, \"model.onnx\")\n",
        "    wandb.save(\"model.onnx\")"
      ]
    },
    {
      "cell_type": "markdown",
      "metadata": {
        "id": "lPSkIUoHIWYY"
      },
      "source": [
        "# 🏃‍♀️ Run training and watch your metrics live on wandb.ai!"
      ]
    },
    {
      "cell_type": "markdown",
      "metadata": {
        "id": "fDLBFNkBIWYY"
      },
      "source": [
        "Now that we've defined the whole pipeline and slipped in\n",
        "those few lines of W&B code,\n",
        "we're ready to run our fully-tracked experiment.\n",
        "\n",
        "We'll report a few links to you:\n",
        "our documentation,\n",
        "the Project page, which organizes all the runs in a project, and\n",
        "the Run page, where this run's results will be stored.\n",
        "\n",
        "Navigate to the Run page and check out these tabs:\n",
        "\n",
        "1. **Charts**, where the model gradients, parameter values, and loss are logged throughout training\n",
        "2. **System**, which contains a variety of system metrics, including Disk I/O utilization, CPU and GPU metrics (watch that temperature soar 🔥), and more\n",
        "3. **Logs**, which has a copy of anything pushed to standard out during training\n",
        "4. **Files**, where, once training is complete, you can click on the `model.onnx` to view our network with the [Netron model viewer](https://github.com/lutzroeder/netron).\n",
        "\n",
        "Once the run in finished\n",
        "(i.e. the `with wandb.init` block is exited),\n",
        "we'll also print a summary of the results in the cell output."
      ]
    },
    {
      "cell_type": "code",
      "execution_count": 26,
      "metadata": {
        "id": "ITDJ5rXQIWYZ"
      },
      "outputs": [
        {
          "data": {
            "text/html": [
              "Tracking run with wandb version 0.18.1"
            ],
            "text/plain": [
              "<IPython.core.display.HTML object>"
            ]
          },
          "metadata": {},
          "output_type": "display_data"
        },
        {
          "data": {
            "text/html": [
              "Run data is saved locally in <code>d:\\lmvh\\wandb-turtorial\\wandb\\run-20241015_101409-s6r9lfxq</code>"
            ],
            "text/plain": [
              "<IPython.core.display.HTML object>"
            ]
          },
          "metadata": {},
          "output_type": "display_data"
        },
        {
          "data": {
            "text/html": [
              "Syncing run <strong><a href='https://wandb.ai/fire-kidboy1505-vietnam-national-university-hanoi/pytorch-demo/runs/s6r9lfxq' target=\"_blank\">pleasant-serenity-1</a></strong> to <a href='https://wandb.ai/fire-kidboy1505-vietnam-national-university-hanoi/pytorch-demo' target=\"_blank\">Weights & Biases</a> (<a href='https://wandb.me/run' target=\"_blank\">docs</a>)<br/>"
            ],
            "text/plain": [
              "<IPython.core.display.HTML object>"
            ]
          },
          "metadata": {},
          "output_type": "display_data"
        },
        {
          "data": {
            "text/html": [
              " View project at <a href='https://wandb.ai/fire-kidboy1505-vietnam-national-university-hanoi/pytorch-demo' target=\"_blank\">https://wandb.ai/fire-kidboy1505-vietnam-national-university-hanoi/pytorch-demo</a>"
            ],
            "text/plain": [
              "<IPython.core.display.HTML object>"
            ]
          },
          "metadata": {},
          "output_type": "display_data"
        },
        {
          "data": {
            "text/html": [
              " View run at <a href='https://wandb.ai/fire-kidboy1505-vietnam-national-university-hanoi/pytorch-demo/runs/s6r9lfxq' target=\"_blank\">https://wandb.ai/fire-kidboy1505-vietnam-national-university-hanoi/pytorch-demo/runs/s6r9lfxq</a>"
            ],
            "text/plain": [
              "<IPython.core.display.HTML object>"
            ]
          },
          "metadata": {},
          "output_type": "display_data"
        },
        {
          "name": "stdout",
          "output_type": "stream",
          "text": [
            "ConvNet(\n",
            "  (layer1): Sequential(\n",
            "    (0): Conv2d(1, 16, kernel_size=(5, 5), stride=(1, 1), padding=(2, 2))\n",
            "    (1): ReLU()\n",
            "    (2): MaxPool2d(kernel_size=2, stride=2, padding=0, dilation=1, ceil_mode=False)\n",
            "  )\n",
            "  (layer2): Sequential(\n",
            "    (0): Conv2d(16, 32, kernel_size=(5, 5), stride=(1, 1), padding=(2, 2))\n",
            "    (1): ReLU()\n",
            "    (2): MaxPool2d(kernel_size=2, stride=2, padding=0, dilation=1, ceil_mode=False)\n",
            "  )\n",
            "  (fc): Linear(in_features=1568, out_features=10, bias=True)\n",
            ")\n"
          ]
        },
        {
          "data": {
            "application/vnd.jupyter.widget-view+json": {
              "model_id": "f0c568fbd5a44ed1a10060fc9848864f",
              "version_major": 2,
              "version_minor": 0
            },
            "text/plain": [
              "  0%|          | 0/5 [00:00<?, ?it/s]"
            ]
          },
          "metadata": {},
          "output_type": "display_data"
        },
        {
          "name": "stdout",
          "output_type": "stream",
          "text": [
            "Loss after 03072 examples: 0.299\n",
            "Loss after 06272 examples: 0.278\n",
            "Loss after 09472 examples: 0.057\n",
            "Loss after 12640 examples: 0.118\n",
            "Loss after 15840 examples: 0.087\n",
            "Loss after 19040 examples: 0.053\n",
            "Loss after 22240 examples: 0.053\n",
            "Loss after 25408 examples: 0.115\n",
            "Loss after 28608 examples: 0.058\n",
            "Loss after 31808 examples: 0.041\n",
            "Loss after 35008 examples: 0.047\n",
            "Loss after 38176 examples: 0.018\n",
            "Loss after 41376 examples: 0.027\n",
            "Loss after 44576 examples: 0.019\n",
            "Loss after 47776 examples: 0.018\n",
            "Loss after 50944 examples: 0.027\n",
            "Loss after 54144 examples: 0.024\n",
            "Loss after 57344 examples: 0.027\n",
            "Accuracy of the model on the 2000 test images: 98.200000%\n"
          ]
        },
        {
          "name": "stderr",
          "output_type": "stream",
          "text": [
            "Traceback (most recent call last):\n",
            "  File \"C:\\Users\\firek\\AppData\\Roaming\\Python\\Python39\\site-packages\\torch\\onnx\\_internal\\onnx_proto_utils.py\", line 219, in _add_onnxscript_fn\n",
            "    import onnx\n",
            "  File \"C:\\Users\\firek\\AppData\\Roaming\\Python\\Python39\\site-packages\\onnx\\__init__.py\", line 77, in <module>\n",
            "    from onnx.onnx_cpp2py_export import ONNX_ML\n",
            "ImportError: DLL load failed while importing onnx_cpp2py_export: A dynamic link library (DLL) initialization routine failed.\n",
            "\n",
            "The above exception was the direct cause of the following exception:\n",
            "\n",
            "Traceback (most recent call last):\n",
            "  File \"C:\\Users\\firek\\AppData\\Local\\Temp\\ipykernel_18300\\615404671.py\", line 16, in model_pipeline\n",
            "    test(model, test_loader)\n",
            "  File \"C:\\Users\\firek\\AppData\\Local\\Temp\\ipykernel_18300\\3262146820.py\", line 20, in test\n",
            "    torch.onnx.export(model, images, \"model.onnx\")\n",
            "  File \"C:\\Users\\firek\\AppData\\Roaming\\Python\\Python39\\site-packages\\torch\\onnx\\utils.py\", line 506, in export\n",
            "    _export(\n",
            "  File \"C:\\Users\\firek\\AppData\\Roaming\\Python\\Python39\\site-packages\\torch\\onnx\\utils.py\", line 1620, in _export\n",
            "    proto = onnx_proto_utils._add_onnxscript_fn(\n",
            "  File \"C:\\Users\\firek\\AppData\\Roaming\\Python\\Python39\\site-packages\\torch\\onnx\\_internal\\onnx_proto_utils.py\", line 221, in _add_onnxscript_fn\n",
            "    raise errors.OnnxExporterError(\"Module onnx is not installed!\") from e\n",
            "torch.onnx.errors.OnnxExporterError: Module onnx is not installed!\n"
          ]
        },
        {
          "name": "stdout",
          "output_type": "stream",
          "text": [
            "============== Diagnostic Run torch.onnx.export version 2.0.1+cpu ==============\n",
            "verbose: False, log level: Level.ERROR\n",
            "======================= 0 NONE 0 NOTE 0 WARNING 0 ERROR ========================\n",
            "\n"
          ]
        },
        {
          "data": {
            "application/vnd.jupyter.widget-view+json": {
              "model_id": "12e79de512a14869af4d2c389f6042d8",
              "version_major": 2,
              "version_minor": 0
            },
            "text/plain": [
              "VBox(children=(Label(value='0.023 MB of 0.023 MB uploaded\\r'), FloatProgress(value=1.0, max=1.0)))"
            ]
          },
          "metadata": {},
          "output_type": "display_data"
        },
        {
          "data": {
            "text/html": [
              "<style>\n",
              "    table.wandb td:nth-child(1) { padding: 0 10px; text-align: left ; width: auto;} td:nth-child(2) {text-align: left ; width: 100%}\n",
              "    .wandb-row { display: flex; flex-direction: row; flex-wrap: wrap; justify-content: flex-start; width: 100% }\n",
              "    .wandb-col { display: flex; flex-direction: column; flex-basis: 100%; flex: 1; padding: 10px; }\n",
              "    </style>\n",
              "<div class=\"wandb-row\"><div class=\"wandb-col\"><h3>Run history:</h3><br/><table class=\"wandb\"><tr><td>epoch</td><td>▁▁▁▃▃▃▃▅▅▅▅▆▆▆▆███</td></tr><tr><td>loss</td><td>█▇▂▃▃▂▂▃▂▂▂▁▁▁▁▁▁▁</td></tr><tr><td>test_accuracy</td><td>▁</td></tr></table><br/></div><div class=\"wandb-col\"><h3>Run summary:</h3><br/><table class=\"wandb\"><tr><td>epoch</td><td>4</td></tr><tr><td>loss</td><td>0.027</td></tr><tr><td>test_accuracy</td><td>0.982</td></tr></table><br/></div></div>"
            ],
            "text/plain": [
              "<IPython.core.display.HTML object>"
            ]
          },
          "metadata": {},
          "output_type": "display_data"
        },
        {
          "data": {
            "text/html": [
              " View run <strong style=\"color:#cdcd00\">pleasant-serenity-1</strong> at: <a href='https://wandb.ai/fire-kidboy1505-vietnam-national-university-hanoi/pytorch-demo/runs/s6r9lfxq' target=\"_blank\">https://wandb.ai/fire-kidboy1505-vietnam-national-university-hanoi/pytorch-demo/runs/s6r9lfxq</a><br/> View project at: <a href='https://wandb.ai/fire-kidboy1505-vietnam-national-university-hanoi/pytorch-demo' target=\"_blank\">https://wandb.ai/fire-kidboy1505-vietnam-national-university-hanoi/pytorch-demo</a><br/>Synced 5 W&B file(s), 0 media file(s), 0 artifact file(s) and 0 other file(s)"
            ],
            "text/plain": [
              "<IPython.core.display.HTML object>"
            ]
          },
          "metadata": {},
          "output_type": "display_data"
        },
        {
          "data": {
            "text/html": [
              "Find logs at: <code>.\\wandb\\run-20241015_101409-s6r9lfxq\\logs</code>"
            ],
            "text/plain": [
              "<IPython.core.display.HTML object>"
            ]
          },
          "metadata": {},
          "output_type": "display_data"
        },
        {
          "ename": "OnnxExporterError",
          "evalue": "Module onnx is not installed!",
          "output_type": "error",
          "traceback": [
            "\u001b[1;31m---------------------------------------------------------------------------\u001b[0m",
            "\u001b[1;31mImportError\u001b[0m                               Traceback (most recent call last)",
            "File \u001b[1;32m~\\AppData\\Roaming\\Python\\Python39\\site-packages\\torch\\onnx\\_internal\\onnx_proto_utils.py:219\u001b[0m, in \u001b[0;36m_add_onnxscript_fn\u001b[1;34m(model_bytes, custom_opsets)\u001b[0m\n\u001b[0;32m    218\u001b[0m \u001b[38;5;28;01mtry\u001b[39;00m:\n\u001b[1;32m--> 219\u001b[0m     \u001b[38;5;28;01mimport\u001b[39;00m \u001b[38;5;21;01monnx\u001b[39;00m\n\u001b[0;32m    220\u001b[0m \u001b[38;5;28;01mexcept\u001b[39;00m \u001b[38;5;167;01mImportError\u001b[39;00m \u001b[38;5;28;01mas\u001b[39;00m e:\n",
            "File \u001b[1;32m~\\AppData\\Roaming\\Python\\Python39\\site-packages\\onnx\\__init__.py:77\u001b[0m\n\u001b[0;32m     76\u001b[0m \u001b[38;5;28;01mfrom\u001b[39;00m \u001b[38;5;21;01monnx\u001b[39;00m \u001b[38;5;28;01mimport\u001b[39;00m serialization\n\u001b[1;32m---> 77\u001b[0m \u001b[38;5;28;01mfrom\u001b[39;00m \u001b[38;5;21;01monnx\u001b[39;00m\u001b[38;5;21;01m.\u001b[39;00m\u001b[38;5;21;01monnx_cpp2py_export\u001b[39;00m \u001b[38;5;28;01mimport\u001b[39;00m ONNX_ML\n\u001b[0;32m     78\u001b[0m \u001b[38;5;28;01mfrom\u001b[39;00m \u001b[38;5;21;01monnx\u001b[39;00m\u001b[38;5;21;01m.\u001b[39;00m\u001b[38;5;21;01mexternal_data_helper\u001b[39;00m \u001b[38;5;28;01mimport\u001b[39;00m (\n\u001b[0;32m     79\u001b[0m     load_external_data_for_model,\n\u001b[0;32m     80\u001b[0m     write_external_data_tensors,\n\u001b[0;32m     81\u001b[0m     convert_model_to_external_data,\n\u001b[0;32m     82\u001b[0m )\n",
            "\u001b[1;31mImportError\u001b[0m: DLL load failed while importing onnx_cpp2py_export: A dynamic link library (DLL) initialization routine failed.",
            "\nThe above exception was the direct cause of the following exception:\n",
            "\u001b[1;31mOnnxExporterError\u001b[0m                         Traceback (most recent call last)",
            "Cell \u001b[1;32mIn[26], line 2\u001b[0m\n\u001b[0;32m      1\u001b[0m \u001b[38;5;66;03m# Build, train and analyze the model with the pipeline\u001b[39;00m\n\u001b[1;32m----> 2\u001b[0m model \u001b[38;5;241m=\u001b[39m \u001b[43mmodel_pipeline\u001b[49m\u001b[43m(\u001b[49m\u001b[43mconfig\u001b[49m\u001b[43m)\u001b[49m\n",
            "Cell \u001b[1;32mIn[19], line 16\u001b[0m, in \u001b[0;36mmodel_pipeline\u001b[1;34m(hyperparameters)\u001b[0m\n\u001b[0;32m     13\u001b[0m   train(model, train_loader, criterion, optimizer, config)\n\u001b[0;32m     15\u001b[0m   \u001b[38;5;66;03m# and test its final performance\u001b[39;00m\n\u001b[1;32m---> 16\u001b[0m   \u001b[43mtest\u001b[49m\u001b[43m(\u001b[49m\u001b[43mmodel\u001b[49m\u001b[43m,\u001b[49m\u001b[43m \u001b[49m\u001b[43mtest_loader\u001b[49m\u001b[43m)\u001b[49m\n\u001b[0;32m     18\u001b[0m \u001b[38;5;28;01mreturn\u001b[39;00m model\n",
            "Cell \u001b[1;32mIn[25], line 20\u001b[0m, in \u001b[0;36mtest\u001b[1;34m(model, test_loader)\u001b[0m\n\u001b[0;32m     17\u001b[0m     wandb\u001b[38;5;241m.\u001b[39mlog({\u001b[38;5;124m\"\u001b[39m\u001b[38;5;124mtest_accuracy\u001b[39m\u001b[38;5;124m\"\u001b[39m: correct \u001b[38;5;241m/\u001b[39m total})\n\u001b[0;32m     19\u001b[0m \u001b[38;5;66;03m# Save the model in the exchangeable ONNX format\u001b[39;00m\n\u001b[1;32m---> 20\u001b[0m \u001b[43mtorch\u001b[49m\u001b[38;5;241;43m.\u001b[39;49m\u001b[43monnx\u001b[49m\u001b[38;5;241;43m.\u001b[39;49m\u001b[43mexport\u001b[49m\u001b[43m(\u001b[49m\u001b[43mmodel\u001b[49m\u001b[43m,\u001b[49m\u001b[43m \u001b[49m\u001b[43mimages\u001b[49m\u001b[43m,\u001b[49m\u001b[43m \u001b[49m\u001b[38;5;124;43m\"\u001b[39;49m\u001b[38;5;124;43mmodel.onnx\u001b[39;49m\u001b[38;5;124;43m\"\u001b[39;49m\u001b[43m)\u001b[49m\n\u001b[0;32m     21\u001b[0m wandb\u001b[38;5;241m.\u001b[39msave(\u001b[38;5;124m\"\u001b[39m\u001b[38;5;124mmodel.onnx\u001b[39m\u001b[38;5;124m\"\u001b[39m)\n",
            "File \u001b[1;32m~\\AppData\\Roaming\\Python\\Python39\\site-packages\\torch\\onnx\\utils.py:506\u001b[0m, in \u001b[0;36mexport\u001b[1;34m(model, args, f, export_params, verbose, training, input_names, output_names, operator_export_type, opset_version, do_constant_folding, dynamic_axes, keep_initializers_as_inputs, custom_opsets, export_modules_as_functions)\u001b[0m\n\u001b[0;32m    188\u001b[0m \u001b[38;5;129m@_beartype\u001b[39m\u001b[38;5;241m.\u001b[39mbeartype\n\u001b[0;32m    189\u001b[0m \u001b[38;5;28;01mdef\u001b[39;00m \u001b[38;5;21mexport\u001b[39m(\n\u001b[0;32m    190\u001b[0m     model: Union[torch\u001b[38;5;241m.\u001b[39mnn\u001b[38;5;241m.\u001b[39mModule, torch\u001b[38;5;241m.\u001b[39mjit\u001b[38;5;241m.\u001b[39mScriptModule, torch\u001b[38;5;241m.\u001b[39mjit\u001b[38;5;241m.\u001b[39mScriptFunction],\n\u001b[1;32m   (...)\u001b[0m\n\u001b[0;32m    206\u001b[0m     export_modules_as_functions: Union[\u001b[38;5;28mbool\u001b[39m, Collection[Type[torch\u001b[38;5;241m.\u001b[39mnn\u001b[38;5;241m.\u001b[39mModule]]] \u001b[38;5;241m=\u001b[39m \u001b[38;5;28;01mFalse\u001b[39;00m,\n\u001b[0;32m    207\u001b[0m ) \u001b[38;5;241m-\u001b[39m\u001b[38;5;241m>\u001b[39m \u001b[38;5;28;01mNone\u001b[39;00m:\n\u001b[0;32m    208\u001b[0m \u001b[38;5;250m    \u001b[39m\u001b[38;5;124mr\u001b[39m\u001b[38;5;124;03m\"\"\"Exports a model into ONNX format.\u001b[39;00m\n\u001b[0;32m    209\u001b[0m \n\u001b[0;32m    210\u001b[0m \u001b[38;5;124;03m    If ``model`` is not a :class:`torch.jit.ScriptModule` nor a\u001b[39;00m\n\u001b[1;32m   (...)\u001b[0m\n\u001b[0;32m    503\u001b[0m \u001b[38;5;124;03m            All errors are subclasses of :class:`errors.OnnxExporterError`.\u001b[39;00m\n\u001b[0;32m    504\u001b[0m \u001b[38;5;124;03m    \"\"\"\u001b[39;00m\n\u001b[1;32m--> 506\u001b[0m     \u001b[43m_export\u001b[49m\u001b[43m(\u001b[49m\n\u001b[0;32m    507\u001b[0m \u001b[43m        \u001b[49m\u001b[43mmodel\u001b[49m\u001b[43m,\u001b[49m\n\u001b[0;32m    508\u001b[0m \u001b[43m        \u001b[49m\u001b[43margs\u001b[49m\u001b[43m,\u001b[49m\n\u001b[0;32m    509\u001b[0m \u001b[43m        \u001b[49m\u001b[43mf\u001b[49m\u001b[43m,\u001b[49m\n\u001b[0;32m    510\u001b[0m \u001b[43m        \u001b[49m\u001b[43mexport_params\u001b[49m\u001b[43m,\u001b[49m\n\u001b[0;32m    511\u001b[0m \u001b[43m        \u001b[49m\u001b[43mverbose\u001b[49m\u001b[43m,\u001b[49m\n\u001b[0;32m    512\u001b[0m \u001b[43m        \u001b[49m\u001b[43mtraining\u001b[49m\u001b[43m,\u001b[49m\n\u001b[0;32m    513\u001b[0m \u001b[43m        \u001b[49m\u001b[43minput_names\u001b[49m\u001b[43m,\u001b[49m\n\u001b[0;32m    514\u001b[0m \u001b[43m        \u001b[49m\u001b[43moutput_names\u001b[49m\u001b[43m,\u001b[49m\n\u001b[0;32m    515\u001b[0m \u001b[43m        \u001b[49m\u001b[43moperator_export_type\u001b[49m\u001b[38;5;241;43m=\u001b[39;49m\u001b[43moperator_export_type\u001b[49m\u001b[43m,\u001b[49m\n\u001b[0;32m    516\u001b[0m \u001b[43m        \u001b[49m\u001b[43mopset_version\u001b[49m\u001b[38;5;241;43m=\u001b[39;49m\u001b[43mopset_version\u001b[49m\u001b[43m,\u001b[49m\n\u001b[0;32m    517\u001b[0m \u001b[43m        \u001b[49m\u001b[43mdo_constant_folding\u001b[49m\u001b[38;5;241;43m=\u001b[39;49m\u001b[43mdo_constant_folding\u001b[49m\u001b[43m,\u001b[49m\n\u001b[0;32m    518\u001b[0m \u001b[43m        \u001b[49m\u001b[43mdynamic_axes\u001b[49m\u001b[38;5;241;43m=\u001b[39;49m\u001b[43mdynamic_axes\u001b[49m\u001b[43m,\u001b[49m\n\u001b[0;32m    519\u001b[0m \u001b[43m        \u001b[49m\u001b[43mkeep_initializers_as_inputs\u001b[49m\u001b[38;5;241;43m=\u001b[39;49m\u001b[43mkeep_initializers_as_inputs\u001b[49m\u001b[43m,\u001b[49m\n\u001b[0;32m    520\u001b[0m \u001b[43m        \u001b[49m\u001b[43mcustom_opsets\u001b[49m\u001b[38;5;241;43m=\u001b[39;49m\u001b[43mcustom_opsets\u001b[49m\u001b[43m,\u001b[49m\n\u001b[0;32m    521\u001b[0m \u001b[43m        \u001b[49m\u001b[43mexport_modules_as_functions\u001b[49m\u001b[38;5;241;43m=\u001b[39;49m\u001b[43mexport_modules_as_functions\u001b[49m\u001b[43m,\u001b[49m\n\u001b[0;32m    522\u001b[0m \u001b[43m    \u001b[49m\u001b[43m)\u001b[49m\n",
            "File \u001b[1;32m~\\AppData\\Roaming\\Python\\Python39\\site-packages\\torch\\onnx\\utils.py:1620\u001b[0m, in \u001b[0;36m_export\u001b[1;34m(model, args, f, export_params, verbose, training, input_names, output_names, operator_export_type, export_type, opset_version, do_constant_folding, dynamic_axes, keep_initializers_as_inputs, fixed_batch_size, custom_opsets, add_node_names, onnx_shape_inference, export_modules_as_functions)\u001b[0m\n\u001b[0;32m   1601\u001b[0m     (\n\u001b[0;32m   1602\u001b[0m         proto,\n\u001b[0;32m   1603\u001b[0m         export_map,\n\u001b[1;32m   (...)\u001b[0m\n\u001b[0;32m   1617\u001b[0m         node_attr_to_name,\n\u001b[0;32m   1618\u001b[0m     )\n\u001b[0;32m   1619\u001b[0m \u001b[38;5;66;03m# insert function_proto into model_proto.\u001b[39;00m\n\u001b[1;32m-> 1620\u001b[0m proto \u001b[38;5;241m=\u001b[39m \u001b[43monnx_proto_utils\u001b[49m\u001b[38;5;241;43m.\u001b[39;49m\u001b[43m_add_onnxscript_fn\u001b[49m\u001b[43m(\u001b[49m\n\u001b[0;32m   1621\u001b[0m \u001b[43m    \u001b[49m\u001b[43mproto\u001b[49m\u001b[43m,\u001b[49m\n\u001b[0;32m   1622\u001b[0m \u001b[43m    \u001b[49m\u001b[43mcustom_opsets\u001b[49m\u001b[43m,\u001b[49m\n\u001b[0;32m   1623\u001b[0m \u001b[43m\u001b[49m\u001b[43m)\u001b[49m\n\u001b[0;32m   1624\u001b[0m \u001b[38;5;28;01mif\u001b[39;00m verbose:\n\u001b[0;32m   1625\u001b[0m     torch\u001b[38;5;241m.\u001b[39monnx\u001b[38;5;241m.\u001b[39mlog(\u001b[38;5;124m\"\u001b[39m\u001b[38;5;124mExported graph: \u001b[39m\u001b[38;5;124m\"\u001b[39m, graph)\n",
            "File \u001b[1;32m~\\AppData\\Roaming\\Python\\Python39\\site-packages\\torch\\onnx\\_internal\\onnx_proto_utils.py:221\u001b[0m, in \u001b[0;36m_add_onnxscript_fn\u001b[1;34m(model_bytes, custom_opsets)\u001b[0m\n\u001b[0;32m    219\u001b[0m     \u001b[38;5;28;01mimport\u001b[39;00m \u001b[38;5;21;01monnx\u001b[39;00m\n\u001b[0;32m    220\u001b[0m \u001b[38;5;28;01mexcept\u001b[39;00m \u001b[38;5;167;01mImportError\u001b[39;00m \u001b[38;5;28;01mas\u001b[39;00m e:\n\u001b[1;32m--> 221\u001b[0m     \u001b[38;5;28;01mraise\u001b[39;00m errors\u001b[38;5;241m.\u001b[39mOnnxExporterError(\u001b[38;5;124m\"\u001b[39m\u001b[38;5;124mModule onnx is not installed!\u001b[39m\u001b[38;5;124m\"\u001b[39m) \u001b[38;5;28;01mfrom\u001b[39;00m \u001b[38;5;21;01me\u001b[39;00m\n\u001b[0;32m    223\u001b[0m \u001b[38;5;66;03m# For > 2GB model, onnx.load_fromstring would fail. However, because\u001b[39;00m\n\u001b[0;32m    224\u001b[0m \u001b[38;5;66;03m# in _export_onnx, the tensors should be saved separately if the proto\u001b[39;00m\n\u001b[0;32m    225\u001b[0m \u001b[38;5;66;03m# size > 2GB, and if it for some reason did not, the model would fail on\u001b[39;00m\n\u001b[0;32m    226\u001b[0m \u001b[38;5;66;03m# serialization anyway in terms of the protobuf limitation. So we don't\u001b[39;00m\n\u001b[0;32m    227\u001b[0m \u001b[38;5;66;03m# need to worry about > 2GB model getting here.\u001b[39;00m\n\u001b[0;32m    228\u001b[0m model_proto \u001b[38;5;241m=\u001b[39m onnx\u001b[38;5;241m.\u001b[39mload_from_string(model_bytes)\n",
            "\u001b[1;31mOnnxExporterError\u001b[0m: Module onnx is not installed!"
          ]
        }
      ],
      "source": [
        "# Build, train and analyze the model with the pipeline\n",
        "model = model_pipeline(config)"
      ]
    },
    {
      "cell_type": "markdown",
      "metadata": {
        "id": "Imrf4qSgIWYZ"
      },
      "source": [
        "# 🧹 Test Hyperparameters with Sweeps\n",
        "\n",
        "We only looked at a single set of hyperparameters in this example.\n",
        "But an important part of most ML workflows is iterating over\n",
        "a number of hyperparameters.\n",
        "\n",
        "You can use Weights & Biases Sweeps to automate hyperparameter testing and explore the space of possible models and optimization strategies.\n",
        "\n",
        "## [Check out Hyperparameter Optimization in PyTorch using W&B Sweeps $\\rightarrow$](http://wandb.me/sweeps-colab)\n",
        "\n",
        "Running a hyperparameter sweep with Weights & Biases is very easy. There are just 3 simple steps:\n",
        "\n",
        "1. **Define the sweep:** We do this by creating a dictionary or a [YAML file](https://docs.wandb.com/library/sweeps/configuration) that specifies the parameters to search through, the search strategy, the optimization metric et all.\n",
        "\n",
        "2. **Initialize the sweep:**\n",
        "`sweep_id = wandb.sweep(sweep_config)`\n",
        "\n",
        "3. **Run the sweep agent:**\n",
        "`wandb.agent(sweep_id, function=train)`\n",
        "\n",
        "And voila! That's all there is to running a hyperparameter sweep!\n",
        "<img src=\"https://imgur.com/UiQKg0L.png\" alt=\"Weights & Biases\" />\n"
      ]
    },
    {
      "cell_type": "markdown",
      "metadata": {
        "id": "aMQR1oWVIWYZ"
      },
      "source": [
        "# 🖼️ Example Gallery\n",
        "\n",
        "See examples of projects tracked and visualized with W&B in our [Gallery →](https://app.wandb.ai/gallery)"
      ]
    },
    {
      "cell_type": "markdown",
      "metadata": {
        "id": "NWOBGrk7IWYZ"
      },
      "source": [
        "# 🤓 Advanced Setup\n",
        "1. [Environment variables](https://docs.wandb.com/library/environment-variables): Set API keys in environment variables so you can run training on a managed cluster.\n",
        "2. [Offline mode](https://docs.wandb.com/library/technical-faq#can-i-run-wandb-offline): Use `dryrun` mode to train offline and sync results later.\n",
        "3. [On-prem](https://docs.wandb.com/self-hosted): Install W&B in a private cloud or air-gapped servers in your own infrastructure. We have local installations for everyone from academics to enterprise teams.\n",
        "4. [Sweeps](https://docs.wandb.com/sweeps): Set up hyperparameter search quickly with our lightweight tool for tuning."
      ]
    }
  ],
  "metadata": {
    "accelerator": "GPU",
    "colab": {
      "provenance": [],
      "toc_visible": true
    },
    "kernelspec": {
      "display_name": "Python 3",
      "name": "python3"
    },
    "language_info": {
      "codemirror_mode": {
        "name": "ipython",
        "version": 3
      },
      "file_extension": ".py",
      "mimetype": "text/x-python",
      "name": "python",
      "nbconvert_exporter": "python",
      "pygments_lexer": "ipython3",
      "version": "3.9.13"
    }
  },
  "nbformat": 4,
  "nbformat_minor": 0
}
