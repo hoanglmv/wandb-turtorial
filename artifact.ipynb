{
 "cells": [
  {
   "cell_type": "code",
   "execution_count": 1,
   "metadata": {},
   "outputs": [
    {
     "name": "stderr",
     "output_type": "stream",
     "text": [
      "\u001b[34m\u001b[1mwandb\u001b[0m: Using wandb-core as the SDK backend. Please refer to https://wandb.me/wandb-core for more information.\n",
      "\u001b[34m\u001b[1mwandb\u001b[0m: Currently logged in as: \u001b[33mfire-kidboy1505\u001b[0m (\u001b[33mfire-kidboy1505-vietnam-national-university-hanoi\u001b[0m). Use \u001b[1m`wandb login --relogin`\u001b[0m to force relogin\n"
     ]
    },
    {
     "data": {
      "text/html": [
       "Tracking run with wandb version 0.18.3"
      ],
      "text/plain": [
       "<IPython.core.display.HTML object>"
      ]
     },
     "metadata": {},
     "output_type": "display_data"
    },
    {
     "data": {
      "text/html": [
       "Run data is saved locally in <code>d:\\lmvh\\wandb-turtorial\\wandb\\run-20241015_172016-50sa771t</code>"
      ],
      "text/plain": [
       "<IPython.core.display.HTML object>"
      ]
     },
     "metadata": {},
     "output_type": "display_data"
    },
    {
     "data": {
      "text/html": [
       "Syncing run <strong><a href='https://wandb.ai/fire-kidboy1505-vietnam-national-university-hanoi/mnist-model-with-artifact/runs/50sa771t' target=\"_blank\">playful-sun-1</a></strong> to <a href='https://wandb.ai/fire-kidboy1505-vietnam-national-university-hanoi/mnist-model-with-artifact' target=\"_blank\">Weights & Biases</a> (<a href='https://wandb.me/run' target=\"_blank\">docs</a>)<br/>"
      ],
      "text/plain": [
       "<IPython.core.display.HTML object>"
      ]
     },
     "metadata": {},
     "output_type": "display_data"
    },
    {
     "data": {
      "text/html": [
       " View project at <a href='https://wandb.ai/fire-kidboy1505-vietnam-national-university-hanoi/mnist-model-with-artifact' target=\"_blank\">https://wandb.ai/fire-kidboy1505-vietnam-national-university-hanoi/mnist-model-with-artifact</a>"
      ],
      "text/plain": [
       "<IPython.core.display.HTML object>"
      ]
     },
     "metadata": {},
     "output_type": "display_data"
    },
    {
     "data": {
      "text/html": [
       " View run at <a href='https://wandb.ai/fire-kidboy1505-vietnam-national-university-hanoi/mnist-model-with-artifact/runs/50sa771t' target=\"_blank\">https://wandb.ai/fire-kidboy1505-vietnam-national-university-hanoi/mnist-model-with-artifact/runs/50sa771t</a>"
      ],
      "text/plain": [
       "<IPython.core.display.HTML object>"
      ]
     },
     "metadata": {},
     "output_type": "display_data"
    },
    {
     "name": "stdout",
     "output_type": "stream",
     "text": [
      "Epoch 1, Loss: 0.38141130430421344\n",
      "Epoch 2, Loss: 0.20243060422628356\n",
      "Epoch 3, Loss: 0.14681921711664148\n",
      "Epoch 4, Loss: 0.11722750216474268\n",
      "Epoch 5, Loss: 0.09936532973429002\n"
     ]
    },
    {
     "data": {
      "application/vnd.jupyter.widget-view+json": {
       "model_id": "d68f2e11d77749c98d2236eb79fb95e8",
       "version_major": 2,
       "version_minor": 0
      },
      "text/plain": [
       "VBox(children=(Label(value='0.006 MB of 0.006 MB uploaded\\r'), FloatProgress(value=1.0, max=1.0)))"
      ]
     },
     "metadata": {},
     "output_type": "display_data"
    },
    {
     "data": {
      "text/html": [
       "<style>\n",
       "    table.wandb td:nth-child(1) { padding: 0 10px; text-align: left ; width: auto;} td:nth-child(2) {text-align: left ; width: 100%}\n",
       "    .wandb-row { display: flex; flex-direction: row; flex-wrap: wrap; justify-content: flex-start; width: 100% }\n",
       "    .wandb-col { display: flex; flex-direction: column; flex-basis: 100%; flex: 1; padding: 10px; }\n",
       "    </style>\n",
       "<div class=\"wandb-row\"><div class=\"wandb-col\"><h3>Run history:</h3><br/><table class=\"wandb\"><tr><td>epoch</td><td>▁▃▅▆█</td></tr><tr><td>loss</td><td>█▄▂▁▁</td></tr></table><br/></div><div class=\"wandb-col\"><h3>Run summary:</h3><br/><table class=\"wandb\"><tr><td>epoch</td><td>5</td></tr><tr><td>loss</td><td>0.09937</td></tr></table><br/></div></div>"
      ],
      "text/plain": [
       "<IPython.core.display.HTML object>"
      ]
     },
     "metadata": {},
     "output_type": "display_data"
    },
    {
     "data": {
      "text/html": [
       " View run <strong style=\"color:#cdcd00\">playful-sun-1</strong> at: <a href='https://wandb.ai/fire-kidboy1505-vietnam-national-university-hanoi/mnist-model-with-artifact/runs/50sa771t' target=\"_blank\">https://wandb.ai/fire-kidboy1505-vietnam-national-university-hanoi/mnist-model-with-artifact/runs/50sa771t</a><br/> View project at: <a href='https://wandb.ai/fire-kidboy1505-vietnam-national-university-hanoi/mnist-model-with-artifact' target=\"_blank\">https://wandb.ai/fire-kidboy1505-vietnam-national-university-hanoi/mnist-model-with-artifact</a><br/>Synced 5 W&B file(s), 0 media file(s), 2 artifact file(s) and 0 other file(s)"
      ],
      "text/plain": [
       "<IPython.core.display.HTML object>"
      ]
     },
     "metadata": {},
     "output_type": "display_data"
    },
    {
     "data": {
      "text/html": [
       "Find logs at: <code>.\\wandb\\run-20241015_172016-50sa771t\\logs</code>"
      ],
      "text/plain": [
       "<IPython.core.display.HTML object>"
      ]
     },
     "metadata": {},
     "output_type": "display_data"
    }
   ],
   "source": [
    "import torch\n",
    "import torch.nn as nn\n",
    "import torch.optim as optim\n",
    "from torch.utils.data import DataLoader\n",
    "from torchvision import datasets, transforms\n",
    "import wandb\n",
    "\n",
    "# Khởi tạo W&B\n",
    "wandb.init(project=\"mnist-model-with-artifact\")\n",
    "\n",
    "# Tải MNIST dataset\n",
    "transform = transforms.Compose([transforms.ToTensor(), transforms.Normalize((0.5,), (0.5,))])\n",
    "train_dataset = datasets.MNIST(root='./data', train=True, download=True, transform=transform)\n",
    "train_loader = DataLoader(train_dataset, batch_size=64, shuffle=True)\n",
    "\n",
    "# Mô hình đơn giản (2 lớp fully connected)\n",
    "class MNISTModel(nn.Module):\n",
    "    def __init__(self):\n",
    "        super(MNISTModel, self).__init__()\n",
    "        self.fc1 = nn.Linear(28 * 28, 128)  # Mỗi ảnh MNIST có kích thước 28x28\n",
    "        self.fc2 = nn.Linear(128, 10)  # 10 classes (0-9)\n",
    "\n",
    "    def forward(self, x):\n",
    "        x = x.view(-1, 28 * 28)  # Flatten ảnh thành vector\n",
    "        x = torch.relu(self.fc1(x))\n",
    "        x = self.fc2(x)\n",
    "        return x\n",
    "\n",
    "model = MNISTModel()\n",
    "\n",
    "# Loss function và optimizer\n",
    "criterion = nn.CrossEntropyLoss()\n",
    "optimizer = optim.Adam(model.parameters(), lr=0.001)\n",
    "\n",
    "# Huấn luyện mô hình\n",
    "for epoch in range(5):  # Train trong 5 epochs\n",
    "    running_loss = 0.0\n",
    "    for images, labels in train_loader:\n",
    "        optimizer.zero_grad()\n",
    "        outputs = model(images)\n",
    "        loss = criterion(outputs, labels)\n",
    "        loss.backward()\n",
    "        optimizer.step()\n",
    "        running_loss += loss.item()\n",
    "    \n",
    "    avg_loss = running_loss / len(train_loader)\n",
    "    print(f\"Epoch {epoch+1}, Loss: {avg_loss}\")\n",
    "    wandb.log({\"epoch\": epoch + 1, \"loss\": avg_loss})\n",
    "\n",
    "# Lưu mô hình sau khi huấn luyện\n",
    "torch.save(model.state_dict(), \"mnist_model.pth\")\n",
    "\n",
    "# Tạo artifact để lưu mô hình\n",
    "model_artifact = wandb.Artifact('mnist_model', type='model')\n",
    "model_artifact.add_file('mnist_model.pth')\n",
    "\n",
    "# Log artifact vào W&B\n",
    "wandb.log_artifact(model_artifact)\n",
    "\n",
    "# Kết thúc phiên W&B\n",
    "wandb.finish()\n"
   ]
  },
  {
   "cell_type": "code",
   "execution_count": null,
   "metadata": {},
   "outputs": [],
   "source": [
    "!tree artifacts"
   ]
  }
 ],
 "metadata": {
  "kernelspec": {
   "display_name": "Python 3",
   "language": "python",
   "name": "python3"
  },
  "language_info": {
   "codemirror_mode": {
    "name": "ipython",
    "version": 3
   },
   "file_extension": ".py",
   "mimetype": "text/x-python",
   "name": "python",
   "nbconvert_exporter": "python",
   "pygments_lexer": "ipython3",
   "version": "3.9.13"
  }
 },
 "nbformat": 4,
 "nbformat_minor": 2
}
