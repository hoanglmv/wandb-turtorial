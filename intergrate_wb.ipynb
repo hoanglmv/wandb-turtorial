{
 "cells": [
  {
   "cell_type": "code",
   "execution_count": 41,
   "metadata": {},
   "outputs": [
    {
     "data": {
      "text/plain": [
       "True"
      ]
     },
     "execution_count": 41,
     "metadata": {},
     "output_type": "execute_result"
    }
   ],
   "source": [
    "import wandb\n",
    "\n",
    "wandb.login()"
   ]
  },
  {
   "cell_type": "code",
   "execution_count": 42,
   "metadata": {},
   "outputs": [],
   "source": [
    "config = dict(\n",
    "    epochs = 5,\n",
    "    classes = 10,\n",
    "    kernels = [16,32],\n",
    "    batch_size = 128,\n",
    "    learning_rate = 0.005,\n",
    "    dataset = \"MNIST\",\n",
    "    architecture = \"CNN\"\n",
    ")"
   ]
  },
  {
   "cell_type": "code",
   "execution_count": 43,
   "metadata": {},
   "outputs": [],
   "source": [
    "def model_pipleline(hyperparameters):\n",
    "    \n",
    "    # tell wandb to get started\n",
    "    with wandb.init(project = 'pytorch-demo', config = hyperparameters):\n",
    "        config = wandb.config\n",
    "    # make the model, data, and optimization problem\n",
    "        model, train_loader, test_loader, criterion, optimizer = make(config)\n",
    "        print(model)\n",
    "    # and use them to train the model\n",
    "        train(model, train_loader, criterion, optimizer, config)\n",
    "    # and test its final performance\n",
    "        test(model, test_loader)\n",
    "    \n",
    "    return model \n",
    "    "
   ]
  },
  {
   "cell_type": "code",
   "execution_count": 44,
   "metadata": {},
   "outputs": [],
   "source": [
    "def make(config):\n",
    "    # Make the data\n",
    "    train, test = get_data(train=True), get_data(train = False)\n",
    "    train_loader = make_loader(train, batch_size = config.batch_size)\n",
    "    test_loader = make_loader(test, batch_size = config.batch_size)\n",
    "    \n",
    "    #Make the model\n",
    "    model = ConvNet(config.kernels, config.classes).to(device)\n",
    "    \n",
    "    #Make the loss and optimizer\n",
    "    criterion = nn.CrossEntropyLoss()\n",
    "    optimizer = torch.optim.Adam(model.parameters(), lr = config.learning_rate)\n",
    "    \n",
    "    return model, train_loader, test_loader, criterion, optimizer\n",
    "    "
   ]
  },
  {
   "cell_type": "code",
   "execution_count": 45,
   "metadata": {},
   "outputs": [],
   "source": [
    "import torch\n",
    "import torchvision\n",
    "from torchvision import transforms\n",
    "\n",
    "def get_data(slice=5, train=True):\n",
    "    # Load MNIST dataset với transform là ToTensor\n",
    "    full_dataset = torchvision.datasets.MNIST(\n",
    "        root=\".\", \n",
    "        train=train, \n",
    "        transform=transforms.ToTensor(), \n",
    "        download=True\n",
    "    )\n",
    "    \n",
    "    # Slicing dataset theo chỉ số step = slice\n",
    "    sub_dataset = torch.utils.data.Subset(\n",
    "        full_dataset, indices=range(0, len(full_dataset), slice)\n",
    "    )\n",
    "    \n",
    "    return sub_dataset\n",
    "\n",
    "def make_loader(dataset, batch_size, num_workers=4):\n",
    "    # Tạo DataLoader từ dataset\n",
    "    loader = torch.utils.data.DataLoader(\n",
    "        dataset=dataset,\n",
    "        batch_size=batch_size,\n",
    "        shuffle=True,\n",
    "        pin_memory=True,\n",
    "        num_workers=num_workers\n",
    "    )\n",
    "    \n",
    "    return loader\n"
   ]
  },
  {
   "cell_type": "code",
   "execution_count": 46,
   "metadata": {},
   "outputs": [
    {
     "ename": "SyntaxError",
     "evalue": "invalid syntax (4072768612.py, line 7)",
     "output_type": "error",
     "traceback": [
      "\u001b[1;36m  Cell \u001b[1;32mIn[46], line 7\u001b[1;36m\u001b[0m\n\u001b[1;33m    nn.ReLu(0),\u001b[0m\n\u001b[1;37m    ^\u001b[0m\n\u001b[1;31mSyntaxError\u001b[0m\u001b[1;31m:\u001b[0m invalid syntax\n"
     ]
    }
   ],
   "source": [
    "import torch\n",
    "import torch.nn as nn\n",
    "\n",
    "class ConvNet(nn.Module):\n",
    "    def __init__(self, kernels, classes=10):\n",
    "        super(ConvNet, self).__init__()\n",
    "\n",
    "        self.layer1 = nn.Sequential(\n",
    "            nn.Conv2d(1, kernels[0], kernel_size=5, stride=1, padding=2),\n",
    "            nn.ReLU(),\n",
    "            nn.MaxPool2d(kernel_size=2, stride=2)\n",
    "        )\n",
    "        \n",
    "        self.layer2 = nn.Sequential(\n",
    "            nn.Conv2d(kernels[0], kernels[1], kernel_size=5, stride=1, padding=2),\n",
    "            nn.ReLU(),\n",
    "            nn.MaxPool2d(kernel_size=2, stride=2)\n",
    "        )\n",
    "        \n",
    "        # Fully connected layer\n",
    "        self.fc = nn.Linear(7 * 7 * kernels[-1], classes)\n",
    "    \n",
    "    def forward(self, x):\n",
    "        out = self.layer1(x)\n",
    "        out = self.layer2(out)\n",
    "        out = out.reshape(out.size(0), -1)  # Flatten\n",
    "        out = self.fc(out)\n",
    "        return out\n"
   ]
  },
  {
   "cell_type": "code",
   "execution_count": 34,
   "metadata": {},
   "outputs": [
    {
     "ename": "IndentationError",
     "evalue": "expected an indented block (1226189411.py, line 17)",
     "output_type": "error",
     "traceback": [
      "\u001b[1;36m  Cell \u001b[1;32mIn[34], line 17\u001b[1;36m\u001b[0m\n\u001b[1;33m    def train_batch(images, labels, model, optimizer,criterion):\u001b[0m\n\u001b[1;37m                                                                ^\u001b[0m\n\u001b[1;31mIndentationError\u001b[0m\u001b[1;31m:\u001b[0m expected an indented block\n"
     ]
    }
   ],
   "source": [
    "def train(model, loader, criterion, optimizer, config):\n",
    "    wandb.watch(model, criterion, log= \"all\", log_freq=10)\n",
    "    \n",
    "    total_batches = len(loader) * config.epochs\n",
    "    example_ct = 0\n",
    "    batch_ct =0\n",
    "    \n",
    "    for epoch in tqdp(range(config.epochs)):\n",
    "        for _, (images, labesl) in enumerate(loader):\n",
    "            \n",
    "            loss = train_batch(images, labels, model,optimizer,criterion)\n",
    "            example_ct += len(images)\n",
    "            batch_ct +=1\n",
    "            if ((batch_ct+1)%25) == 0:\n",
    "                train_log(loss,example_ct,epoch)\\\n",
    "                    \n",
    "def train_batch(images, labels, model, optimizer,criterion):\n",
    "    images, labels = images.to(device), labels.to(device)\n",
    "    \n",
    "    # Forward pass\n",
    "    outputs = model(images)\n",
    "    loss = criterion(outputs, labels)\n",
    "    \n",
    "    #Backward pass\n",
    "    optimizer.zero_grad()\n",
    "    loss.backward()\n",
    "    #Step with optimizer\n",
    "    optimizer.step()\n",
    "    \n",
    "    return loss"
   ]
  },
  {
   "cell_type": "code",
   "execution_count": null,
   "metadata": {},
   "outputs": [],
   "source": []
  }
 ],
 "metadata": {
  "kernelspec": {
   "display_name": "Python 3",
   "language": "python",
   "name": "python3"
  },
  "language_info": {
   "codemirror_mode": {
    "name": "ipython",
    "version": 3
   },
   "file_extension": ".py",
   "mimetype": "text/x-python",
   "name": "python",
   "nbconvert_exporter": "python",
   "pygments_lexer": "ipython3",
   "version": "3.9.13"
  }
 },
 "nbformat": 4,
 "nbformat_minor": 2
}
