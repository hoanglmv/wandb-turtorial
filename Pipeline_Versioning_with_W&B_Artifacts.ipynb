{
  "cells": [
    {
      "cell_type": "markdown",
      "metadata": {
        "id": "RjHUoLcEneqh"
      },
      "source": [
        "<a href=\"https://colab.research.google.com/github/wandb/examples/blob/master/colabs/wandb-artifacts/Pipeline_Versioning_with_W&B_Artifacts.ipynb\" target=\"_parent\"><img src=\"https://colab.research.google.com/assets/colab-badge.svg\" alt=\"Open In Colab\"/></a>\n",
        "<!--- @wandbcode{artifacts-pipeline} -->"
      ]
    },
    {
      "cell_type": "markdown",
      "metadata": {
        "id": "QYW7OOh6neqr"
      },
      "source": [
        "<img src=\"http://wandb.me/logo-im-png\" width=\"400\" alt=\"Weights & Biases\" />\n",
        "<!--- @wandbcode{artifacts-pipeline} -->"
      ]
    },
    {
      "cell_type": "markdown",
      "metadata": {
        "id": "3WFnCMaQneqt"
      },
      "source": [
        "\n",
        "# 🏺 Artifacts 🏺\n",
        "\n",
        "In this notebook, we'll show you how to use W&B Artifacts (🏺)\n",
        "to track your ML experiment pipelines (🧪).\n",
        "Our sophisticated mathematical models predict the following result:\n",
        "\n",
        "$$\n",
        "{\\Huge\n",
        "🧪 + 🏺 = 😃}\n",
        "$$\n"
      ]
    },
    {
      "cell_type": "markdown",
      "metadata": {
        "id": "FgNrQyyineqv"
      },
      "source": [
        "### Follow along with a [video tutorial](http://tiny.cc/wb-artifacts-video)!"
      ]
    },
    {
      "cell_type": "markdown",
      "metadata": {
        "id": "SJOU_YmCneqw"
      },
      "source": [
        "### 🤔 What are Artifacts and Why Should I Care?\n",
        "\n",
        "An \"artifact\", like a Greek [amphora 🏺](https://en.wikipedia.org/wiki/Amphora),\n",
        "is a produced object -- the output of a process.\n",
        "In ML, the most important artifacts are _datasets_ and _models_.\n",
        "\n",
        "And, like the [Cross of Coronado](https://indianajones.fandom.com/wiki/Cross_of_Coronado), these important artifacts belong in a museum!\n",
        "That is, they should be cataloged and organized\n",
        "so that you, your team, and the ML community at large can learn from them.\n",
        "After all, those who don't track training are doomed to repeat it.\n",
        "\n",
        "Using our Artifacts API, you can log `Artifact`s as outputs of W&B `Run`s or use `Artifact`s as input to `Run`s, as in this diagram,\n",
        "where a training run takes in a dataset and produces a model.\n",
        "\n",
        " ![](https://gblobscdn.gitbook.com/assets%2F-Lqya5RvLedGEWPhtkjU%2F-M94QAXA-oJmE6q07_iT%2F-M94QJCXLeePzH1p_fW1%2Fsimple%20artifact%20diagram%202.png?alt=media&token=94bc438a-bd3b-414d-a4e4-aa4f6f359f21)\n",
        "\n",
        "Since one run can use another's output as an input, Artifacts and Runs together form a directed graph -- actually, a bipartite [DAG](https://en.wikipedia.org/wiki/Directed_acyclic_graph)! -- with nodes for `Artifact`s and `Run`s\n",
        "and arrows connecting `Run`s to the `Artifact`s they consume or produce."
      ]
    },
    {
      "cell_type": "markdown",
      "metadata": {
        "id": "qdNzEITyneqy"
      },
      "source": [
        "# 0️⃣ Install and Import"
      ]
    },
    {
      "cell_type": "markdown",
      "metadata": {
        "id": "oZuVVc09neq0"
      },
      "source": [
        "Artifacts are part of our Python library, starting with version `0.9.2`.\n",
        "\n",
        "Like most parts of the ML Python stack, it's available via `pip`."
      ]
    },
    {
      "cell_type": "code",
      "execution_count": 1,
      "metadata": {
        "colab": {
          "base_uri": "https://localhost:8080/"
        },
        "id": "4uXJAWkkneq1",
        "outputId": "a9e1d92c-089d-48e4-dd7a-4d4225c23560"
      },
      "outputs": [
        {
          "output_type": "stream",
          "name": "stdout",
          "text": [
            "\u001b[2K   \u001b[90m━━━━━━━━━━━━━━━━━━━━━━━━━━━━━━━━━━━━━━━━\u001b[0m \u001b[32m13.0/13.0 MB\u001b[0m \u001b[31m41.7 MB/s\u001b[0m eta \u001b[36m0:00:00\u001b[0m\n",
            "\u001b[2K   \u001b[90m━━━━━━━━━━━━━━━━━━━━━━━━━━━━━━━━━━━━━━━━\u001b[0m \u001b[32m207.3/207.3 kB\u001b[0m \u001b[31m14.1 MB/s\u001b[0m eta \u001b[36m0:00:00\u001b[0m\n",
            "\u001b[2K   \u001b[90m━━━━━━━━━━━━━━━━━━━━━━━━━━━━━━━━━━━━━━━━\u001b[0m \u001b[32m313.8/313.8 kB\u001b[0m \u001b[31m11.9 MB/s\u001b[0m eta \u001b[36m0:00:00\u001b[0m\n",
            "\u001b[2K   \u001b[90m━━━━━━━━━━━━━━━━━━━━━━━━━━━━━━━━━━━━━━━━\u001b[0m \u001b[32m62.7/62.7 kB\u001b[0m \u001b[31m2.6 MB/s\u001b[0m eta \u001b[36m0:00:00\u001b[0m\n",
            "Reading package lists... Done\n",
            "Building dependency tree... Done\n",
            "Reading state information... Done\n",
            "The following NEW packages will be installed:\n",
            "  tree\n",
            "0 upgraded, 1 newly installed, 0 to remove and 49 not upgraded.\n",
            "Need to get 47.9 kB of archives.\n",
            "After this operation, 116 kB of additional disk space will be used.\n",
            "Get:1 http://archive.ubuntu.com/ubuntu jammy/universe amd64 tree amd64 2.0.2-1 [47.9 kB]\n",
            "Fetched 47.9 kB in 0s (177 kB/s)\n",
            "Selecting previously unselected package tree.\n",
            "(Reading database ... 123621 files and directories currently installed.)\n",
            "Preparing to unpack .../tree_2.0.2-1_amd64.deb ...\n",
            "Unpacking tree (2.0.2-1) ...\n",
            "Setting up tree (2.0.2-1) ...\n",
            "Processing triggers for man-db (2.10.2-1) ...\n"
          ]
        }
      ],
      "source": [
        "# Compatible with wandb version 0.9.2+\n",
        "!pip install wandb -qqq\n",
        "!apt install tree"
      ]
    },
    {
      "cell_type": "code",
      "execution_count": 2,
      "metadata": {
        "id": "-MNh-X_lneq4"
      },
      "outputs": [],
      "source": [
        "import os\n",
        "import wandb"
      ]
    },
    {
      "cell_type": "markdown",
      "metadata": {
        "id": "hmDtoyGHneq5"
      },
      "source": [
        "# 1️⃣ Log a Dataset"
      ]
    },
    {
      "cell_type": "markdown",
      "metadata": {
        "id": "QvljRmCWneq6"
      },
      "source": [
        "First, let's define some Artifacts.\n",
        "\n",
        "This example is based off of this PyTorch\n",
        "[\"Basic MNIST Example\"](https://github.com/pytorch/examples/tree/master/mnist/),\n",
        "but could just as easily have been done in [TensorFlow](http://wandb.me/artifacts-colab), in any other framework,\n",
        "or in pure Python.\n",
        "\n",
        "We start with the `Dataset`s:\n",
        "- a `train`ing set, for choosing the parameters,\n",
        "- a `validation` set, for choosing the hyperparameters,\n",
        "- a `test`ing set, for evaluating the final model\n",
        "\n",
        "The first cell below defines these three datasets."
      ]
    },
    {
      "cell_type": "code",
      "execution_count": 3,
      "metadata": {
        "id": "T1-FdoUPneq7"
      },
      "outputs": [],
      "source": [
        "import random\n",
        "\n",
        "import torch\n",
        "import torchvision\n",
        "from torch.utils.data import TensorDataset\n",
        "from tqdm.auto import tqdm\n",
        "\n",
        "# Ensure deterministic behavior\n",
        "torch.backends.cudnn.deterministic = True\n",
        "random.seed(0)\n",
        "torch.manual_seed(0)\n",
        "torch.cuda.manual_seed_all(0)\n",
        "\n",
        "# Device configuration\n",
        "device = torch.device(\"cuda:0\" if torch.cuda.is_available() else \"cpu\")\n",
        "\n",
        "# Data parameters\n",
        "num_classes = 10\n",
        "input_shape = (1, 28, 28)\n",
        "\n",
        "# drop slow mirror from list of MNIST mirrors\n",
        "torchvision.datasets.MNIST.mirrors = [mirror for mirror in torchvision.datasets.MNIST.mirrors\n",
        "                                      if not mirror.startswith(\"http://yann.lecun.com\")]\n",
        "\n",
        "def load(train_size=50_000):\n",
        "    \"\"\"\n",
        "    # Load the data\n",
        "    \"\"\"\n",
        "\n",
        "    # the data, split between train and test sets\n",
        "    train = torchvision.datasets.MNIST(\"./\", train=True, download=True)\n",
        "    test = torchvision.datasets.MNIST(\"./\", train=False, download=True)\n",
        "    (x_train, y_train), (x_test, y_test) = (train.data, train.targets), (test.data, test.targets)\n",
        "\n",
        "    # split off a validation set for hyperparameter tuning\n",
        "    x_train, x_val = x_train[:train_size], x_train[train_size:]\n",
        "    y_train, y_val = y_train[:train_size], y_train[train_size:]\n",
        "\n",
        "    training_set = TensorDataset(x_train, y_train)\n",
        "    validation_set = TensorDataset(x_val, y_val)\n",
        "    test_set = TensorDataset(x_test, y_test)\n",
        "\n",
        "    datasets = [training_set, validation_set, test_set]\n",
        "\n",
        "    return datasets"
      ]
    },
    {
      "cell_type": "markdown",
      "metadata": {
        "id": "JULp6dA4neq8"
      },
      "source": [
        "This sets up a pattern we'll see repeated in this example:\n",
        "the code to log the data as an Artifact is wrapped around the code for\n",
        "producing that data.\n",
        "In this case, the code for `load`ing the data is\n",
        "separated out from the code for `load_and_log`ging the data.\n",
        "\n",
        "This is good practice!"
      ]
    },
    {
      "cell_type": "markdown",
      "metadata": {
        "id": "bO1OREMIneq9"
      },
      "source": [
        "In order to log these datasets as Artifacts,\n",
        "we just need to\n",
        "1. create a `Run` with `wandb.init`, (L4)\n",
        "2. create an `Artifact` for the dataset (L10), and\n",
        "3. save and log the associated `file`s (L20, L23).\n",
        "\n",
        "Check out the example the code cell below\n",
        "and then expand the sections afterwards for more details."
      ]
    },
    {
      "cell_type": "code",
      "execution_count": 4,
      "metadata": {
        "colab": {
          "base_uri": "https://localhost:8080/",
          "height": 644,
          "referenced_widgets": [
            "b5c08cb8a9d648fe9742c38081380715",
            "3552b6e9e2684c79843d57d874f79d6a",
            "06efce40fd4d47eab3c0b04539d2c262",
            "7a151333eaed4b7fb75fca8dd32b170b",
            "ad389244d352466bb39e0b3e2efe1367",
            "e0a4c222527147f695c8cc64a5809df3",
            "ee61cbc1a86443ebbc8992bdeb5ea78f",
            "d6cdd1a6f6bc4609b12d6618da1be4eb"
          ]
        },
        "id": "3YTBHVn5neq-",
        "outputId": "6c7077f5-799e-4c06-d656-505c793ae88f"
      },
      "outputs": [
        {
          "output_type": "stream",
          "name": "stderr",
          "text": [
            "\u001b[34m\u001b[1mwandb\u001b[0m: Using wandb-core as the SDK backend. Please refer to https://wandb.me/wandb-core for more information.\n"
          ]
        },
        {
          "output_type": "display_data",
          "data": {
            "text/plain": [
              "<IPython.core.display.Javascript object>"
            ],
            "application/javascript": [
              "\n",
              "        window._wandbApiKey = new Promise((resolve, reject) => {\n",
              "            function loadScript(url) {\n",
              "            return new Promise(function(resolve, reject) {\n",
              "                let newScript = document.createElement(\"script\");\n",
              "                newScript.onerror = reject;\n",
              "                newScript.onload = resolve;\n",
              "                document.body.appendChild(newScript);\n",
              "                newScript.src = url;\n",
              "            });\n",
              "            }\n",
              "            loadScript(\"https://cdn.jsdelivr.net/npm/postmate/build/postmate.min.js\").then(() => {\n",
              "            const iframe = document.createElement('iframe')\n",
              "            iframe.style.cssText = \"width:0;height:0;border:none\"\n",
              "            document.body.appendChild(iframe)\n",
              "            const handshake = new Postmate({\n",
              "                container: iframe,\n",
              "                url: 'https://wandb.ai/authorize'\n",
              "            });\n",
              "            const timeout = setTimeout(() => reject(\"Couldn't auto authenticate\"), 5000)\n",
              "            handshake.then(function(child) {\n",
              "                child.on('authorize', data => {\n",
              "                    clearTimeout(timeout)\n",
              "                    resolve(data)\n",
              "                });\n",
              "            });\n",
              "            })\n",
              "        });\n",
              "    "
            ]
          },
          "metadata": {}
        },
        {
          "output_type": "stream",
          "name": "stderr",
          "text": [
            "\u001b[34m\u001b[1mwandb\u001b[0m: Logging into wandb.ai. (Learn how to deploy a W&B server locally: https://wandb.me/wandb-server)\n",
            "\u001b[34m\u001b[1mwandb\u001b[0m: You can find your API key in your browser here: https://wandb.ai/authorize\n",
            "wandb: Paste an API key from your profile and hit enter, or press ctrl+c to quit:"
          ]
        },
        {
          "name": "stdout",
          "output_type": "stream",
          "text": [
            " ··········\n"
          ]
        },
        {
          "output_type": "stream",
          "name": "stderr",
          "text": [
            "\u001b[34m\u001b[1mwandb\u001b[0m: Appending key for api.wandb.ai to your netrc file: /root/.netrc\n"
          ]
        },
        {
          "output_type": "display_data",
          "data": {
            "text/plain": [
              "<IPython.core.display.HTML object>"
            ],
            "text/html": [
              "Tracking run with wandb version 0.18.3"
            ]
          },
          "metadata": {}
        },
        {
          "output_type": "display_data",
          "data": {
            "text/plain": [
              "<IPython.core.display.HTML object>"
            ],
            "text/html": [
              "Run data is saved locally in <code>/content/wandb/run-20241015_134348-nlrc3w7f</code>"
            ]
          },
          "metadata": {}
        },
        {
          "output_type": "display_data",
          "data": {
            "text/plain": [
              "<IPython.core.display.HTML object>"
            ],
            "text/html": [
              "Syncing run <strong><a href='https://wandb.ai/fire-kidboy1505-vietnam-national-university-hanoi/artifacts-example/runs/nlrc3w7f' target=\"_blank\">elated-moon-1</a></strong> to <a href='https://wandb.ai/fire-kidboy1505-vietnam-national-university-hanoi/artifacts-example' target=\"_blank\">Weights & Biases</a> (<a href='https://wandb.me/run' target=\"_blank\">docs</a>)<br/>"
            ]
          },
          "metadata": {}
        },
        {
          "output_type": "display_data",
          "data": {
            "text/plain": [
              "<IPython.core.display.HTML object>"
            ],
            "text/html": [
              " View project at <a href='https://wandb.ai/fire-kidboy1505-vietnam-national-university-hanoi/artifacts-example' target=\"_blank\">https://wandb.ai/fire-kidboy1505-vietnam-national-university-hanoi/artifacts-example</a>"
            ]
          },
          "metadata": {}
        },
        {
          "output_type": "display_data",
          "data": {
            "text/plain": [
              "<IPython.core.display.HTML object>"
            ],
            "text/html": [
              " View run at <a href='https://wandb.ai/fire-kidboy1505-vietnam-national-university-hanoi/artifacts-example/runs/nlrc3w7f' target=\"_blank\">https://wandb.ai/fire-kidboy1505-vietnam-national-university-hanoi/artifacts-example/runs/nlrc3w7f</a>"
            ]
          },
          "metadata": {}
        },
        {
          "output_type": "stream",
          "name": "stdout",
          "text": [
            "Downloading https://ossci-datasets.s3.amazonaws.com/mnist/train-images-idx3-ubyte.gz\n",
            "Downloading https://ossci-datasets.s3.amazonaws.com/mnist/train-images-idx3-ubyte.gz to ./MNIST/raw/train-images-idx3-ubyte.gz\n"
          ]
        },
        {
          "output_type": "stream",
          "name": "stderr",
          "text": [
            "100%|██████████| 9912422/9912422 [00:00<00:00, 16009709.73it/s]\n"
          ]
        },
        {
          "output_type": "stream",
          "name": "stdout",
          "text": [
            "Extracting ./MNIST/raw/train-images-idx3-ubyte.gz to ./MNIST/raw\n",
            "\n",
            "Downloading https://ossci-datasets.s3.amazonaws.com/mnist/train-labels-idx1-ubyte.gz\n",
            "Downloading https://ossci-datasets.s3.amazonaws.com/mnist/train-labels-idx1-ubyte.gz to ./MNIST/raw/train-labels-idx1-ubyte.gz\n"
          ]
        },
        {
          "output_type": "stream",
          "name": "stderr",
          "text": [
            "100%|██████████| 28881/28881 [00:00<00:00, 489032.09it/s]\n"
          ]
        },
        {
          "output_type": "stream",
          "name": "stdout",
          "text": [
            "Extracting ./MNIST/raw/train-labels-idx1-ubyte.gz to ./MNIST/raw\n",
            "\n",
            "Downloading https://ossci-datasets.s3.amazonaws.com/mnist/t10k-images-idx3-ubyte.gz\n",
            "Downloading https://ossci-datasets.s3.amazonaws.com/mnist/t10k-images-idx3-ubyte.gz to ./MNIST/raw/t10k-images-idx3-ubyte.gz\n"
          ]
        },
        {
          "output_type": "stream",
          "name": "stderr",
          "text": [
            "100%|██████████| 1648877/1648877 [00:00<00:00, 4416836.48it/s]\n"
          ]
        },
        {
          "output_type": "stream",
          "name": "stdout",
          "text": [
            "Extracting ./MNIST/raw/t10k-images-idx3-ubyte.gz to ./MNIST/raw\n",
            "\n",
            "Downloading https://ossci-datasets.s3.amazonaws.com/mnist/t10k-labels-idx1-ubyte.gz\n",
            "Downloading https://ossci-datasets.s3.amazonaws.com/mnist/t10k-labels-idx1-ubyte.gz to ./MNIST/raw/t10k-labels-idx1-ubyte.gz\n"
          ]
        },
        {
          "output_type": "stream",
          "name": "stderr",
          "text": [
            "100%|██████████| 4542/4542 [00:00<00:00, 4843765.26it/s]\n"
          ]
        },
        {
          "output_type": "stream",
          "name": "stdout",
          "text": [
            "Extracting ./MNIST/raw/t10k-labels-idx1-ubyte.gz to ./MNIST/raw\n",
            "\n"
          ]
        },
        {
          "output_type": "display_data",
          "data": {
            "text/plain": [
              "VBox(children=(Label(value='22.419 MB of 98.207 MB uploaded\\r'), FloatProgress(value=0.22828350219673196, max=…"
            ],
            "application/vnd.jupyter.widget-view+json": {
              "version_major": 2,
              "version_minor": 0,
              "model_id": "b5c08cb8a9d648fe9742c38081380715"
            }
          },
          "metadata": {}
        },
        {
          "output_type": "display_data",
          "data": {
            "text/plain": [
              "<IPython.core.display.HTML object>"
            ],
            "text/html": [
              " View run <strong style=\"color:#cdcd00\">elated-moon-1</strong> at: <a href='https://wandb.ai/fire-kidboy1505-vietnam-national-university-hanoi/artifacts-example/runs/nlrc3w7f' target=\"_blank\">https://wandb.ai/fire-kidboy1505-vietnam-national-university-hanoi/artifacts-example/runs/nlrc3w7f</a><br/> View project at: <a href='https://wandb.ai/fire-kidboy1505-vietnam-national-university-hanoi/artifacts-example' target=\"_blank\">https://wandb.ai/fire-kidboy1505-vietnam-national-university-hanoi/artifacts-example</a><br/>Synced 5 W&B file(s), 0 media file(s), 4 artifact file(s) and 0 other file(s)"
            ]
          },
          "metadata": {}
        },
        {
          "output_type": "display_data",
          "data": {
            "text/plain": [
              "<IPython.core.display.HTML object>"
            ],
            "text/html": [
              "Find logs at: <code>./wandb/run-20241015_134348-nlrc3w7f/logs</code>"
            ]
          },
          "metadata": {}
        }
      ],
      "source": [
        "def load_and_log():\n",
        "\n",
        "    # 🚀 start a run, with a type to label it and a project it can call home\n",
        "    with wandb.init(project=\"artifacts-example\", job_type=\"load-data\") as run:\n",
        "\n",
        "        datasets = load()  # separate code for loading the datasets\n",
        "        names = [\"training\", \"validation\", \"test\"]\n",
        "\n",
        "        # 🏺 create our Artifact\n",
        "        raw_data = wandb.Artifact(\n",
        "            \"mnist-raw\", type=\"dataset\",\n",
        "            description=\"Raw MNIST dataset, split into train/val/test\",\n",
        "            metadata={\"source\": \"torchvision.datasets.MNIST\",\n",
        "                      \"sizes\": [len(dataset) for dataset in datasets]})\n",
        "\n",
        "        for name, data in zip(names, datasets):\n",
        "            # 🐣 Store a new file in the artifact, and write something into its contents.\n",
        "            with raw_data.new_file(name + \".pt\", mode=\"wb\") as file:\n",
        "                x, y = data.tensors\n",
        "                torch.save((x, y), file)\n",
        "\n",
        "        # ✍️ Save the artifact to W&B.\n",
        "        run.log_artifact(raw_data)\n",
        "\n",
        "load_and_log()"
      ]
    },
    {
      "cell_type": "markdown",
      "metadata": {
        "id": "gXFOoR9Nneq-"
      },
      "source": [
        "### 🚀 `wandb.init`"
      ]
    },
    {
      "cell_type": "markdown",
      "metadata": {
        "id": "Ry9Br3cKneq_"
      },
      "source": [
        "\n",
        "When we make the `Run` that's going to produce the `Artifact`s,\n",
        "we need to state which `project` it belongs to.\n",
        "\n",
        "Depending on your workflow,\n",
        "a project might be as big as `car-that-drives-itself`\n",
        "or as small as `iterative-architecture-experiment-117`.\n",
        "\n",
        "> **Rule of 👍**: if you can, keep all of the `Run`s that share `Artifact`s\n",
        "inside a single project. This keeps things simple,\n",
        "but don't worry -- `Artifact`s are portable across projects!\n",
        "\n",
        "To help keep track of all the different kinds of jobs you might run,\n",
        "it's useful to provide a `job_type` when making `Runs`.\n",
        "This keeps the graph of your Artifacts nice and tidy.\n",
        "\n",
        "> **Rule of 👍**: the `job_type` should be descriptive and correspond to a single step of your pipeline. Here, we separate out `load`ing data from `preprocess`ing data."
      ]
    },
    {
      "cell_type": "markdown",
      "metadata": {
        "id": "spvNqUQOneq_"
      },
      "source": [
        "### 🏺 `wandb.Artifact`"
      ]
    },
    {
      "cell_type": "markdown",
      "metadata": {
        "id": "HVArOC4Qneq_"
      },
      "source": [
        "\n",
        "To log something as an `Artifact`, we have to first make an `Artifact` object.\n",
        "\n",
        "Every `Artifact` has a `name` -- that's what the first argument sets.\n",
        "\n",
        "> **Rule of 👍**: the `name` should be descriptive, but easy to remember and type --\n",
        "we like to use names that are hyphen-separated and correspond to variable names in the code.\n",
        "\n",
        "It also has a `type`. Just like `job_type`s for `Run`s,\n",
        "this is used for organizing the graph of `Run`s and `Artifact`s.\n",
        "\n",
        "> **Rule of 👍**: the `type` should be simple:\n",
        "more like `dataset` or `model`\n",
        "than `mnist-data-YYYYMMDD`.\n",
        "\n",
        "You can also attach a `description` and some `metadata`, as a dictionary.\n",
        "The `metadata` just needs to be serializable to JSON.\n",
        "\n",
        "> **Rule of 👍**: the `metadata` should be as descriptive as possible."
      ]
    },
    {
      "cell_type": "markdown",
      "metadata": {
        "id": "rXhDBc3jnerA"
      },
      "source": [
        "### 🐣 `artifact.new_file` and ✍️ `run.log_artifact`"
      ]
    },
    {
      "cell_type": "markdown",
      "metadata": {
        "id": "x6n0tp2-nerA"
      },
      "source": [
        "Once we've made an `Artifact` object, we need to add files to it.\n",
        "\n",
        "You read that right: _files_ with an _s_.\n",
        "`Artifact`s are structured like directories,\n",
        "with files and sub-directories.\n",
        "\n",
        "> **Rule of 👍**: whenever it makes sense to do so, split the contents\n",
        "of an `Artifact` up into multiple files. This will help if it comes time to scale!\n",
        "\n",
        "We use the `new_file` method\n",
        "to simultaneously write the file and attach it to the `Artifact`.\n",
        "Below, we'll use the `add_file` method,\n",
        "which separates those two steps.\n",
        "\n",
        "Once we've added all of our files, we need to `log_artifact` to [wandb.ai](https://wandb.ai).\n",
        "\n",
        "You'll notice some URLs appeared in the output,\n",
        "including one for the Run page.\n",
        "That's where you can view the results of the `Run`,\n",
        "including any `Artifact`s that got logged.\n",
        "\n",
        "We'll see some examples that make better use of the other components of the Run page below."
      ]
    },
    {
      "cell_type": "markdown",
      "metadata": {
        "id": "l04bao0YnerA"
      },
      "source": [
        "# 2️⃣ Use a Logged Dataset Artifact"
      ]
    },
    {
      "cell_type": "markdown",
      "metadata": {
        "id": "SFL9ajPknerB"
      },
      "source": [
        "`Artifact`s in W&B, unlike artifacts in museums,\n",
        "are designed to be _used_, not just stored.\n",
        "\n",
        "Let's see what that looks like.\n",
        "\n",
        "The cell below defines a pipeline step that takes in a raw dataset\n",
        "and uses it to produce a `preprocess`ed dataset:\n",
        "`normalize`d and shaped correctly.\n",
        "\n",
        "Notice again that we split out the meat of the code, `preprocess`,\n",
        "from the code that interfaces with `wandb`."
      ]
    },
    {
      "cell_type": "code",
      "execution_count": 5,
      "metadata": {
        "id": "kKJKwjdLnerB"
      },
      "outputs": [],
      "source": [
        "def preprocess(dataset, normalize=True, expand_dims=True):\n",
        "    \"\"\"\n",
        "    ## Prepare the data\n",
        "    \"\"\"\n",
        "    x, y = dataset.tensors\n",
        "\n",
        "    if normalize:\n",
        "        # Scale images to the [0, 1] range\n",
        "        x = x.type(torch.float32) / 255\n",
        "\n",
        "    if expand_dims:\n",
        "        # Make sure images have shape (1, 28, 28)\n",
        "        x = torch.unsqueeze(x, 1)\n",
        "\n",
        "    return TensorDataset(x, y)"
      ]
    },
    {
      "cell_type": "markdown",
      "metadata": {
        "id": "jxGIriSmnerC"
      },
      "source": [
        "Now for the code that instruments this `preprocess` step with `wandb.Artifact` logging.\n",
        "\n",
        "Note that the example below both `use`s an `Artifact`,\n",
        "which is new,\n",
        "and `log`s it,\n",
        "which is the same as the last step.\n",
        "`Artifact`s are both the inputs and the outputs of `Run`s!\n",
        "\n",
        "We use a new `job_type`, `preprocess-data`,\n",
        "to make it clear that this is a different kind of job from the previous one."
      ]
    },
    {
      "cell_type": "code",
      "execution_count": 6,
      "metadata": {
        "id": "hCtA-qJ_nerC"
      },
      "outputs": [],
      "source": [
        "def preprocess_and_log(steps):\n",
        "\n",
        "    with wandb.init(project=\"artifacts-example\", job_type=\"preprocess-data\") as run:\n",
        "\n",
        "        processed_data = wandb.Artifact(\n",
        "            \"mnist-preprocess\", type=\"dataset\",\n",
        "            description=\"Preprocessed MNIST dataset\",\n",
        "            metadata=steps)\n",
        "\n",
        "        # ✔️ declare which artifact we'll be using\n",
        "        raw_data_artifact = run.use_artifact('mnist-raw:latest')\n",
        "\n",
        "        # 📥 if need be, download the artifact\n",
        "        raw_dataset = raw_data_artifact.download()\n",
        "\n",
        "        for split in [\"training\", \"validation\", \"test\"]:\n",
        "            raw_split = read(raw_dataset, split)\n",
        "            processed_dataset = preprocess(raw_split, **steps)\n",
        "\n",
        "            with processed_data.new_file(split + \".pt\", mode=\"wb\") as file:\n",
        "                x, y = processed_dataset.tensors\n",
        "                torch.save((x, y), file)\n",
        "\n",
        "        run.log_artifact(processed_data)\n",
        "\n",
        "\n",
        "def read(data_dir, split):\n",
        "    filename = split + \".pt\"\n",
        "    x, y = torch.load(os.path.join(data_dir, filename))\n",
        "\n",
        "    return TensorDataset(x, y)"
      ]
    },
    {
      "cell_type": "markdown",
      "metadata": {
        "id": "Km6tg4TonerD"
      },
      "source": [
        "One thing to notice here is that the `steps` of the preprocessing\n",
        "are saved with the `preprocessed_data` as `metadata`.\n",
        "\n",
        "If you're trying to make your experiments reproducible,\n",
        "capturing lots of metadata is a good idea!\n",
        "\n",
        "Also, even though our dataset is a \"`large artifact`\",\n",
        "the `download` step is done in much less than a second.\n",
        "\n",
        "Expand the markdown cell below for details."
      ]
    },
    {
      "cell_type": "code",
      "execution_count": 7,
      "metadata": {
        "colab": {
          "base_uri": "https://localhost:8080/",
          "height": 361,
          "referenced_widgets": [
            "deeb2dd7f4ab45cfb3fd1421360c8f5f",
            "28a647cb8cfa434f98d17f1352756973",
            "9ad02aa654814be585b204a12a6087b7",
            "a618256fe4444854bfe10decac83e792",
            "635d17f5e0964197a8d3be35f48ef396",
            "b3afed10bc3146239b697f7fd5695805",
            "b62a8b6c7e754bb9abb48bab6bc23308",
            "098791aae63a42ec9cdfdc1cf421bfa1",
            "5bd2acdc0275440c80b5de89d0a83d27",
            "18134f4bff8a4b239ef65a102ae35741",
            "ee5edf6ca8f64df5a6c2c9f2e1399e0b",
            "cbf861d5060e483d8848e2319b903ccf",
            "9630078723e341a0ad7b577f2c79f531",
            "4c1761720a3f4026b1271ac621343742",
            "799bbe32a3824ac6922f09d0e7097cba",
            "262c2bb46a0842cebdcac4b8a7ae0d09"
          ]
        },
        "id": "32ehyS6ZnerD",
        "outputId": "c1728b65-c7fd-4d7b-ff5a-0efadeb30551"
      },
      "outputs": [
        {
          "output_type": "stream",
          "name": "stderr",
          "text": [
            "\u001b[34m\u001b[1mwandb\u001b[0m: Currently logged in as: \u001b[33mfire-kidboy1505\u001b[0m (\u001b[33mfire-kidboy1505-vietnam-national-university-hanoi\u001b[0m). Use \u001b[1m`wandb login --relogin`\u001b[0m to force relogin\n"
          ]
        },
        {
          "output_type": "display_data",
          "data": {
            "text/plain": [
              "VBox(children=(Label(value='Waiting for wandb.init()...\\r'), FloatProgress(value=0.01111243759999954, max=1.0)…"
            ],
            "application/vnd.jupyter.widget-view+json": {
              "version_major": 2,
              "version_minor": 0,
              "model_id": "deeb2dd7f4ab45cfb3fd1421360c8f5f"
            }
          },
          "metadata": {}
        },
        {
          "output_type": "display_data",
          "data": {
            "text/plain": [
              "<IPython.core.display.HTML object>"
            ],
            "text/html": [
              "Tracking run with wandb version 0.18.3"
            ]
          },
          "metadata": {}
        },
        {
          "output_type": "display_data",
          "data": {
            "text/plain": [
              "<IPython.core.display.HTML object>"
            ],
            "text/html": [
              "Run data is saved locally in <code>/content/wandb/run-20241015_134359-khnm94cj</code>"
            ]
          },
          "metadata": {}
        },
        {
          "output_type": "display_data",
          "data": {
            "text/plain": [
              "<IPython.core.display.HTML object>"
            ],
            "text/html": [
              "Syncing run <strong><a href='https://wandb.ai/fire-kidboy1505-vietnam-national-university-hanoi/artifacts-example/runs/khnm94cj' target=\"_blank\">daily-waterfall-2</a></strong> to <a href='https://wandb.ai/fire-kidboy1505-vietnam-national-university-hanoi/artifacts-example' target=\"_blank\">Weights & Biases</a> (<a href='https://wandb.me/run' target=\"_blank\">docs</a>)<br/>"
            ]
          },
          "metadata": {}
        },
        {
          "output_type": "display_data",
          "data": {
            "text/plain": [
              "<IPython.core.display.HTML object>"
            ],
            "text/html": [
              " View project at <a href='https://wandb.ai/fire-kidboy1505-vietnam-national-university-hanoi/artifacts-example' target=\"_blank\">https://wandb.ai/fire-kidboy1505-vietnam-national-university-hanoi/artifacts-example</a>"
            ]
          },
          "metadata": {}
        },
        {
          "output_type": "display_data",
          "data": {
            "text/plain": [
              "<IPython.core.display.HTML object>"
            ],
            "text/html": [
              " View run at <a href='https://wandb.ai/fire-kidboy1505-vietnam-national-university-hanoi/artifacts-example/runs/khnm94cj' target=\"_blank\">https://wandb.ai/fire-kidboy1505-vietnam-national-university-hanoi/artifacts-example/runs/khnm94cj</a>"
            ]
          },
          "metadata": {}
        },
        {
          "output_type": "stream",
          "name": "stderr",
          "text": [
            "\u001b[34m\u001b[1mwandb\u001b[0m: Downloading large artifact mnist-raw:latest, 98.19MB. 3 files... \n",
            "\u001b[34m\u001b[1mwandb\u001b[0m:   3 of 3 files downloaded.  \n",
            "Done. 0:0:1.2\n",
            "<ipython-input-6-f524931a46e1>:29: FutureWarning: You are using `torch.load` with `weights_only=False` (the current default value), which uses the default pickle module implicitly. It is possible to construct malicious pickle data which will execute arbitrary code during unpickling (See https://github.com/pytorch/pytorch/blob/main/SECURITY.md#untrusted-models for more details). In a future release, the default value for `weights_only` will be flipped to `True`. This limits the functions that could be executed during unpickling. Arbitrary objects will no longer be allowed to be loaded via this mode unless they are explicitly allowlisted by the user via `torch.serialization.add_safe_globals`. We recommend you start setting `weights_only=True` for any use case where you don't have full control of the loaded file. Please open an issue on GitHub for any issues related to this experimental feature.\n",
            "  x, y = torch.load(os.path.join(data_dir, filename))\n"
          ]
        },
        {
          "output_type": "display_data",
          "data": {
            "text/plain": [
              "VBox(children=(Label(value='36.653 MB of 210.359 MB uploaded\\r'), FloatProgress(value=0.1742409278928194, max=…"
            ],
            "application/vnd.jupyter.widget-view+json": {
              "version_major": 2,
              "version_minor": 0,
              "model_id": "5bd2acdc0275440c80b5de89d0a83d27"
            }
          },
          "metadata": {}
        },
        {
          "output_type": "display_data",
          "data": {
            "text/plain": [
              "<IPython.core.display.HTML object>"
            ],
            "text/html": [
              " View run <strong style=\"color:#cdcd00\">daily-waterfall-2</strong> at: <a href='https://wandb.ai/fire-kidboy1505-vietnam-national-university-hanoi/artifacts-example/runs/khnm94cj' target=\"_blank\">https://wandb.ai/fire-kidboy1505-vietnam-national-university-hanoi/artifacts-example/runs/khnm94cj</a><br/> View project at: <a href='https://wandb.ai/fire-kidboy1505-vietnam-national-university-hanoi/artifacts-example' target=\"_blank\">https://wandb.ai/fire-kidboy1505-vietnam-national-university-hanoi/artifacts-example</a><br/>Synced 5 W&B file(s), 0 media file(s), 4 artifact file(s) and 0 other file(s)"
            ]
          },
          "metadata": {}
        },
        {
          "output_type": "display_data",
          "data": {
            "text/plain": [
              "<IPython.core.display.HTML object>"
            ],
            "text/html": [
              "Find logs at: <code>./wandb/run-20241015_134359-khnm94cj/logs</code>"
            ]
          },
          "metadata": {}
        }
      ],
      "source": [
        "steps = {\"normalize\": True,\n",
        "         \"expand_dims\": True}\n",
        "\n",
        "preprocess_and_log(steps)"
      ]
    },
    {
      "cell_type": "markdown",
      "metadata": {
        "id": "Tw6MisS2nerE"
      },
      "source": [
        "### ✔️ `run.use_artifact`"
      ]
    },
    {
      "cell_type": "markdown",
      "metadata": {
        "id": "uRFu2vxcnerE"
      },
      "source": [
        "These steps are simpler. The consumer just needs to know the `name` of the `Artifact`, plus a bit more.\n",
        "\n",
        "That \"bit more\" is the `alias` of the particular version of the `Artifact` you want.\n",
        "\n",
        "By default, the last version to be uploaded is tagged `latest`.\n",
        "Otherwise, you can pick older versions with `v0`/`v1`, etc.,\n",
        "or you can provide your own aliases, like `best` or `jit-script`.\n",
        "Just like [Docker Hub](https://hub.docker.com/) tags,\n",
        "aliases are separated from names with `:`,\n",
        "so the `Artifact` we want is `mnist-raw:latest`.\n",
        "\n",
        "> **Rule of 👍**: Keep aliases short and sweet.\n",
        "Use custom `alias`es like `latest` or `best` when you want an `Artifact`\n",
        "that satisifies some property"
      ]
    },
    {
      "cell_type": "markdown",
      "metadata": {
        "id": "wChYekm6nerF"
      },
      "source": [
        "### 📥 `artifact.download`"
      ]
    },
    {
      "cell_type": "markdown",
      "metadata": {
        "id": "4moZudDwnerF"
      },
      "source": [
        "\n",
        "Now, you may be worrying about the `download` call.\n",
        "If we download another copy, won't that double the burden on memory?\n",
        "\n",
        "Don't worry friend. Before we actually download anything,\n",
        "we check to see if the right version is available locally.\n",
        "This uses the same technology that underlies [torrenting](https://en.wikipedia.org/wiki/Torrent_file) and [version control with `git`](https://blog.thoughtram.io/git/2014/11/18/the-anatomy-of-a-git-commit.html): hashing.\n",
        "\n",
        "As `Artifact`s are created and logged,\n",
        "a folder called `artifacts` in the working directory\n",
        "will start to fill with sub-directories,\n",
        "one for each `Artifact`.\n",
        "Check out its contents with `!tree artifacts`:"
      ]
    },
    {
      "cell_type": "code",
      "execution_count": 8,
      "metadata": {
        "colab": {
          "base_uri": "https://localhost:8080/"
        },
        "id": "KR7EIbfonerH",
        "outputId": "0b91ee22-f3a2-4fae-8810-90fdca796a9f"
      },
      "outputs": [
        {
          "output_type": "stream",
          "name": "stdout",
          "text": [
            "\u001b[01;34martifacts\u001b[0m\n",
            "└── \u001b[01;34mmnist-raw:v0\u001b[0m\n",
            "    ├── \u001b[00mtest.pt\u001b[0m\n",
            "    ├── \u001b[00mtraining.pt\u001b[0m\n",
            "    └── \u001b[00mvalidation.pt\u001b[0m\n",
            "\n",
            "1 directory, 3 files\n"
          ]
        }
      ],
      "source": [
        "!tree artifacts"
      ]
    },
    {
      "cell_type": "markdown",
      "metadata": {
        "id": "UkhAk4wHnerH"
      },
      "source": [
        "### 🌐 The Artifacts page on [wandb.ai](https://wandb.ai)\n",
        "\n",
        "Now that we've logged and used an `Artifact`,\n",
        "let's check out the Artifacts tab on the Run page.\n",
        "\n",
        "Navigate to the Run page URL from the `wandb` output\n",
        "and select the \"Artifacts\" tab from the left sidebar\n",
        "(it's the one with the database icon,\n",
        "which looks like three hockey pucks stacked on top of one another).\n",
        "\n",
        "Click a row in either the \"Input Artifacts\" table\n",
        "or in the \"Output Artifacts\" table,\n",
        "then check out the tabs (\"Overview\", \"Metadata\")\n",
        "to see everything logged about the `Artifact`.\n",
        "\n",
        "We particularly like the \"Graph View\".\n",
        "By default, it shows a graph\n",
        "with the `type`s of `Artifact`s\n",
        "and the `job_type`s of `Run` as the two types of nodes,\n",
        "with arrows to represent consumption and production."
      ]
    },
    {
      "cell_type": "markdown",
      "metadata": {
        "id": "MJPOhMUTnerI"
      },
      "source": [
        "# 3️⃣ Log a Model"
      ]
    },
    {
      "cell_type": "markdown",
      "metadata": {
        "id": "JD4HVKPOnerI"
      },
      "source": [
        "That's enough to see how the API for `Artifact`s works,\n",
        "but let's follow this example through to the end of the pipeline\n",
        "so we can see how `Artifact`s can improve your ML workflow.\n",
        "\n",
        "This first cell here builds a DNN `model` in PyTorch -- a really simple ConvNet.\n",
        "\n",
        "We'll start by just initializing the `model`, not training it.\n",
        "That way, we can repeat the training while keeping everything else constant."
      ]
    },
    {
      "cell_type": "code",
      "execution_count": 9,
      "metadata": {
        "id": "KBFPR7jCnerI"
      },
      "outputs": [],
      "source": [
        "from math import floor\n",
        "\n",
        "import torch.nn as nn\n",
        "\n",
        "class ConvNet(nn.Module):\n",
        "    def __init__(self, hidden_layer_sizes=[32, 64],\n",
        "                  kernel_sizes=[3],\n",
        "                  activation=\"ReLU\",\n",
        "                  pool_sizes=[2],\n",
        "                  dropout=0.5,\n",
        "                  num_classes=num_classes,\n",
        "                  input_shape=input_shape):\n",
        "\n",
        "        super(ConvNet, self).__init__()\n",
        "\n",
        "        self.layer1 = nn.Sequential(\n",
        "              nn.Conv2d(in_channels=input_shape[0], out_channels=hidden_layer_sizes[0], kernel_size=kernel_sizes[0]),\n",
        "              getattr(nn, activation)(),\n",
        "              nn.MaxPool2d(kernel_size=pool_sizes[0])\n",
        "        )\n",
        "        self.layer2 = nn.Sequential(\n",
        "              nn.Conv2d(in_channels=hidden_layer_sizes[0], out_channels=hidden_layer_sizes[-1], kernel_size=kernel_sizes[-1]),\n",
        "              getattr(nn, activation)(),\n",
        "              nn.MaxPool2d(kernel_size=pool_sizes[-1])\n",
        "        )\n",
        "        self.layer3 = nn.Sequential(\n",
        "              nn.Flatten(),\n",
        "              nn.Dropout(dropout)\n",
        "        )\n",
        "\n",
        "        fc_input_dims = floor((input_shape[1] - kernel_sizes[0] + 1) / pool_sizes[0]) # layer 1 output size\n",
        "        fc_input_dims = floor((fc_input_dims - kernel_sizes[-1] + 1) / pool_sizes[-1]) # layer 2 output size\n",
        "        fc_input_dims = fc_input_dims*fc_input_dims*hidden_layer_sizes[-1] # layer 3 output size\n",
        "\n",
        "        self.fc = nn.Linear(fc_input_dims, num_classes)\n",
        "\n",
        "    def forward(self, x):\n",
        "        x = self.layer1(x)\n",
        "        x = self.layer2(x)\n",
        "        x = self.layer3(x)\n",
        "        x = self.fc(x)\n",
        "        return x"
      ]
    },
    {
      "cell_type": "markdown",
      "metadata": {
        "id": "b2hTnCj-nerJ"
      },
      "source": [
        "Here, we're using W&B to track the run,\n",
        "and so using the [`wandb.config`](https://colab.research.google.com/github/wandb/examples/blob/master/colabs/wandb-config/Configs_in_W%26B.ipynb)\n",
        "object to store all of the hyperparameters.\n",
        "\n",
        "The `dict`ionary version of that `config` object is a really useful piece of `metadata`, so make sure to include it!"
      ]
    },
    {
      "cell_type": "code",
      "execution_count": 10,
      "metadata": {
        "colab": {
          "base_uri": "https://localhost:8080/",
          "height": 173,
          "referenced_widgets": [
            "4e4929ac60984f059cf3b349af0b6ee3",
            "652a31676e394c8aa82c50ebe355dae0",
            "c6597e0aafa6465b92947a29bb81e45b",
            "08d924a157894af58fe13738bf23a5da",
            "7996fbffff8842e79ca440a685d212f2",
            "486d37379f634e31a9840f0d59751fa8",
            "c447036e65904642896b241d300700ce",
            "34d10d81de4648e0a07991c4d7020712"
          ]
        },
        "id": "vLlMQ5pZnerJ",
        "outputId": "8e6755a0-cf9b-4554-8ed9-6cee168bc252"
      },
      "outputs": [
        {
          "output_type": "display_data",
          "data": {
            "text/plain": [
              "<IPython.core.display.HTML object>"
            ],
            "text/html": [
              "Tracking run with wandb version 0.18.3"
            ]
          },
          "metadata": {}
        },
        {
          "output_type": "display_data",
          "data": {
            "text/plain": [
              "<IPython.core.display.HTML object>"
            ],
            "text/html": [
              "Run data is saved locally in <code>/content/wandb/run-20241015_134415-09nqqbna</code>"
            ]
          },
          "metadata": {}
        },
        {
          "output_type": "display_data",
          "data": {
            "text/plain": [
              "<IPython.core.display.HTML object>"
            ],
            "text/html": [
              "Syncing run <strong><a href='https://wandb.ai/fire-kidboy1505-vietnam-national-university-hanoi/artifacts-example/runs/09nqqbna' target=\"_blank\">solar-plasma-3</a></strong> to <a href='https://wandb.ai/fire-kidboy1505-vietnam-national-university-hanoi/artifacts-example' target=\"_blank\">Weights & Biases</a> (<a href='https://wandb.me/run' target=\"_blank\">docs</a>)<br/>"
            ]
          },
          "metadata": {}
        },
        {
          "output_type": "display_data",
          "data": {
            "text/plain": [
              "<IPython.core.display.HTML object>"
            ],
            "text/html": [
              " View project at <a href='https://wandb.ai/fire-kidboy1505-vietnam-national-university-hanoi/artifacts-example' target=\"_blank\">https://wandb.ai/fire-kidboy1505-vietnam-national-university-hanoi/artifacts-example</a>"
            ]
          },
          "metadata": {}
        },
        {
          "output_type": "display_data",
          "data": {
            "text/plain": [
              "<IPython.core.display.HTML object>"
            ],
            "text/html": [
              " View run at <a href='https://wandb.ai/fire-kidboy1505-vietnam-national-university-hanoi/artifacts-example/runs/09nqqbna' target=\"_blank\">https://wandb.ai/fire-kidboy1505-vietnam-national-university-hanoi/artifacts-example/runs/09nqqbna</a>"
            ]
          },
          "metadata": {}
        },
        {
          "output_type": "display_data",
          "data": {
            "text/plain": [
              "VBox(children=(Label(value='0.147 MB of 0.147 MB uploaded\\r'), FloatProgress(value=1.0, max=1.0)))"
            ],
            "application/vnd.jupyter.widget-view+json": {
              "version_major": 2,
              "version_minor": 0,
              "model_id": "4e4929ac60984f059cf3b349af0b6ee3"
            }
          },
          "metadata": {}
        },
        {
          "output_type": "display_data",
          "data": {
            "text/plain": [
              "<IPython.core.display.HTML object>"
            ],
            "text/html": [
              " View run <strong style=\"color:#cdcd00\">solar-plasma-3</strong> at: <a href='https://wandb.ai/fire-kidboy1505-vietnam-national-university-hanoi/artifacts-example/runs/09nqqbna' target=\"_blank\">https://wandb.ai/fire-kidboy1505-vietnam-national-university-hanoi/artifacts-example/runs/09nqqbna</a><br/> View project at: <a href='https://wandb.ai/fire-kidboy1505-vietnam-national-university-hanoi/artifacts-example' target=\"_blank\">https://wandb.ai/fire-kidboy1505-vietnam-national-university-hanoi/artifacts-example</a><br/>Synced 5 W&B file(s), 0 media file(s), 2 artifact file(s) and 1 other file(s)"
            ]
          },
          "metadata": {}
        },
        {
          "output_type": "display_data",
          "data": {
            "text/plain": [
              "<IPython.core.display.HTML object>"
            ],
            "text/html": [
              "Find logs at: <code>./wandb/run-20241015_134415-09nqqbna/logs</code>"
            ]
          },
          "metadata": {}
        }
      ],
      "source": [
        "def build_model_and_log(config):\n",
        "    with wandb.init(project=\"artifacts-example\", job_type=\"initialize\", config=config) as run:\n",
        "        config = wandb.config\n",
        "\n",
        "        model = ConvNet(**config)\n",
        "\n",
        "        model_artifact = wandb.Artifact(\n",
        "            \"convnet\", type=\"model\",\n",
        "            description=\"Simple AlexNet style CNN\",\n",
        "            metadata=dict(config))\n",
        "\n",
        "        torch.save(model.state_dict(), \"initialized_model.pth\")\n",
        "        # ➕ another way to add a file to an Artifact\n",
        "        model_artifact.add_file(\"initialized_model.pth\")\n",
        "\n",
        "        wandb.save(\"initialized_model.pth\")\n",
        "\n",
        "        run.log_artifact(model_artifact)\n",
        "\n",
        "model_config = {\"hidden_layer_sizes\": [32, 64],\n",
        "                \"kernel_sizes\": [3],\n",
        "                \"activation\": \"ReLU\",\n",
        "                \"pool_sizes\": [2],\n",
        "                \"dropout\": 0.5,\n",
        "                \"num_classes\": 10}\n",
        "\n",
        "build_model_and_log(model_config)"
      ]
    },
    {
      "cell_type": "markdown",
      "metadata": {
        "id": "SJXkiKXOnerU"
      },
      "source": [
        "### ➕ `artifact.add_file`"
      ]
    },
    {
      "cell_type": "markdown",
      "metadata": {
        "id": "8VAYNEsHnerU"
      },
      "source": [
        "\n",
        "Instead of simultaneously writing a `new_file` and adding it to the `Artifact`,\n",
        "as in the dataset logging examples,\n",
        "we can also write files in one step\n",
        "(here, `torch.save`)\n",
        "and then `add` them to the `Artifact` in another.\n",
        "\n",
        "> **Rule of 👍**: use `new_file` when you can, to prevent duplication."
      ]
    },
    {
      "cell_type": "markdown",
      "metadata": {
        "id": "8FVq3GAjnerV"
      },
      "source": [
        "# 4️⃣ Use a Logged Model Artifact"
      ]
    },
    {
      "cell_type": "markdown",
      "metadata": {
        "id": "8SQRwmQYnerW"
      },
      "source": [
        "Just like we could call `use_artifact` on a `dataset`,\n",
        "we can call it on our `initialized_model`\n",
        "to use it in another `Run`.\n",
        "\n",
        "This time, let's `train` the `model`.\n",
        "\n",
        "For more details, check out our Colab on\n",
        "[instrumenting W&B with PyTorch](http://wandb.me/pytorch-colab)."
      ]
    },
    {
      "cell_type": "code",
      "execution_count": 11,
      "metadata": {
        "id": "Dv8EKxO4nerX"
      },
      "outputs": [],
      "source": [
        "import torch.nn.functional as F\n",
        "\n",
        "def train(model, train_loader, valid_loader, config):\n",
        "    optimizer = getattr(torch.optim, config.optimizer)(model.parameters())\n",
        "    model.train()\n",
        "    example_ct = 0\n",
        "    for epoch in range(config.epochs):\n",
        "        for batch_idx, (data, target) in enumerate(train_loader):\n",
        "            data, target = data.to(device), target.to(device)\n",
        "            optimizer.zero_grad()\n",
        "            output = model(data)\n",
        "            loss = F.cross_entropy(output, target)\n",
        "            loss.backward()\n",
        "            optimizer.step()\n",
        "\n",
        "            example_ct += len(data)\n",
        "\n",
        "            if batch_idx % config.batch_log_interval == 0:\n",
        "                print('Train Epoch: {} [{}/{} ({:.0%})]\\tLoss: {:.6f}'.format(\n",
        "                    epoch, batch_idx * len(data), len(train_loader.dataset),\n",
        "                    batch_idx / len(train_loader), loss.item()))\n",
        "\n",
        "                train_log(loss, example_ct, epoch)\n",
        "\n",
        "        # evaluate the model on the validation set at each epoch\n",
        "        loss, accuracy = test(model, valid_loader)\n",
        "        test_log(loss, accuracy, example_ct, epoch)\n",
        "\n",
        "\n",
        "def test(model, test_loader):\n",
        "    model.eval()\n",
        "    test_loss = 0\n",
        "    correct = 0\n",
        "    with torch.no_grad():\n",
        "        for data, target in test_loader:\n",
        "            data, target = data.to(device), target.to(device)\n",
        "            output = model(data)\n",
        "            test_loss += F.cross_entropy(output, target, reduction='sum')  # sum up batch loss\n",
        "            pred = output.argmax(dim=1, keepdim=True)  # get the index of the max log-probability\n",
        "            correct += pred.eq(target.view_as(pred)).sum()\n",
        "\n",
        "    test_loss /= len(test_loader.dataset)\n",
        "\n",
        "    accuracy = 100. * correct / len(test_loader.dataset)\n",
        "\n",
        "    return test_loss, accuracy\n",
        "\n",
        "\n",
        "def train_log(loss, example_ct, epoch):\n",
        "    loss = float(loss)\n",
        "\n",
        "    # where the magic happens\n",
        "    wandb.log({\"epoch\": epoch, \"train/loss\": loss}, step=example_ct)\n",
        "    print(f\"Loss after \" + str(example_ct).zfill(5) + f\" examples: {loss:.3f}\")\n",
        "\n",
        "\n",
        "def test_log(loss, accuracy, example_ct, epoch):\n",
        "    loss = float(loss)\n",
        "    accuracy = float(accuracy)\n",
        "\n",
        "    # where the magic happens\n",
        "    wandb.log({\"epoch\": epoch, \"validation/loss\": loss, \"validation/accuracy\": accuracy}, step=example_ct)\n",
        "    print(f\"Loss/accuracy after \" + str(example_ct).zfill(5) + f\" examples: {loss:.3f}/{accuracy:.3f}\")"
      ]
    },
    {
      "cell_type": "markdown",
      "metadata": {
        "id": "tfY8hP3Tnera"
      },
      "source": [
        "We'll run two separate `Artifact`-producing `Run`s this time.\n",
        "\n",
        "Once the first finishes `train`ing the `model`,\n",
        "the `second` will consume the `trained-model` `Artifact`\n",
        "by `evaluate`ing its performance on the `test_dataset`.\n",
        "\n",
        "Also, we'll pull out the 32 examples on which the network gets the most confused --\n",
        "on which the `categorical_crossentropy` is highest.\n",
        "\n",
        "This is a good way to diagnose issues with your dataset and your model!"
      ]
    },
    {
      "cell_type": "code",
      "execution_count": 12,
      "metadata": {
        "id": "LsfpEM3qnerb"
      },
      "outputs": [],
      "source": [
        "def evaluate(model, test_loader):\n",
        "    \"\"\"\n",
        "    ## Evaluate the trained model\n",
        "    \"\"\"\n",
        "\n",
        "    loss, accuracy = test(model, test_loader)\n",
        "    highest_losses, hardest_examples, true_labels, predictions = get_hardest_k_examples(model, test_loader.dataset)\n",
        "\n",
        "    return loss, accuracy, highest_losses, hardest_examples, true_labels, predictions\n",
        "\n",
        "def get_hardest_k_examples(model, testing_set, k=32):\n",
        "    model.eval()\n",
        "\n",
        "    loader = DataLoader(testing_set, 1, shuffle=False)\n",
        "\n",
        "    # get the losses and predictions for each item in the dataset\n",
        "    losses = None\n",
        "    predictions = None\n",
        "    with torch.no_grad():\n",
        "        for data, target in loader:\n",
        "            data, target = data.to(device), target.to(device)\n",
        "            output = model(data)\n",
        "            loss = F.cross_entropy(output, target)\n",
        "            pred = output.argmax(dim=1, keepdim=True)\n",
        "\n",
        "            if losses is None:\n",
        "                losses = loss.view((1, 1))\n",
        "                predictions = pred\n",
        "            else:\n",
        "                losses = torch.cat((losses, loss.view((1, 1))), 0)\n",
        "                predictions = torch.cat((predictions, pred), 0)\n",
        "\n",
        "    argsort_loss = torch.argsort(losses, dim=0).cpu()\n",
        "\n",
        "    highest_k_losses = losses[argsort_loss[-k:]]\n",
        "    hardest_k_examples = testing_set[argsort_loss[-k:]][0]\n",
        "    true_labels = testing_set[argsort_loss[-k:]][1]\n",
        "    predicted_labels = predictions[argsort_loss[-k:]]\n",
        "\n",
        "    return highest_k_losses, hardest_k_examples, true_labels, predicted_labels"
      ]
    },
    {
      "cell_type": "markdown",
      "metadata": {
        "id": "OsGvrfQ6nerc"
      },
      "source": [
        "These logging functions don't add any new `Artifact` features,\n",
        "so we won't comment on them:\n",
        "we're just `use`ing, `download`ing,\n",
        "and `log`ging `Artifact`s."
      ]
    },
    {
      "cell_type": "code",
      "execution_count": 13,
      "metadata": {
        "id": "kl8oe4-Nnerc"
      },
      "outputs": [],
      "source": [
        "from torch.utils.data import DataLoader\n",
        "\n",
        "def train_and_log(config):\n",
        "\n",
        "    with wandb.init(project=\"artifacts-example\", job_type=\"train\", config=config) as run:\n",
        "        config = wandb.config\n",
        "\n",
        "        data = run.use_artifact('mnist-preprocess:latest')\n",
        "        data_dir = data.download()\n",
        "\n",
        "        training_dataset =  read(data_dir, \"training\")\n",
        "        validation_dataset = read(data_dir, \"validation\")\n",
        "\n",
        "        train_loader = DataLoader(training_dataset, batch_size=config.batch_size)\n",
        "        validation_loader = DataLoader(validation_dataset, batch_size=config.batch_size)\n",
        "\n",
        "        model_artifact = run.use_artifact(\"convnet:latest\")\n",
        "        model_dir = model_artifact.download()\n",
        "        model_path = os.path.join(model_dir, \"initialized_model.pth\")\n",
        "        model_config = model_artifact.metadata\n",
        "        config.update(model_config)\n",
        "\n",
        "        model = ConvNet(**model_config)\n",
        "        model.load_state_dict(torch.load(model_path))\n",
        "        model = model.to(device)\n",
        "\n",
        "        train(model, train_loader, validation_loader, config)\n",
        "\n",
        "        model_artifact = wandb.Artifact(\n",
        "            \"trained-model\", type=\"model\",\n",
        "            description=\"Trained NN model\",\n",
        "            metadata=dict(model_config))\n",
        "\n",
        "        torch.save(model.state_dict(), \"trained_model.pth\")\n",
        "        model_artifact.add_file(\"trained_model.pth\")\n",
        "        wandb.save(\"trained_model.pth\")\n",
        "\n",
        "        run.log_artifact(model_artifact)\n",
        "\n",
        "    return model\n",
        "\n",
        "\n",
        "def evaluate_and_log(config=None):\n",
        "\n",
        "    with wandb.init(project=\"artifacts-example\", job_type=\"report\", config=config) as run:\n",
        "        data = run.use_artifact('mnist-preprocess:latest')\n",
        "        data_dir = data.download()\n",
        "        testing_set = read(data_dir, \"test\")\n",
        "\n",
        "        test_loader = torch.utils.data.DataLoader(testing_set, batch_size=128, shuffle=False)\n",
        "\n",
        "        model_artifact = run.use_artifact(\"trained-model:latest\")\n",
        "        model_dir = model_artifact.download()\n",
        "        model_path = os.path.join(model_dir, \"trained_model.pth\")\n",
        "        model_config = model_artifact.metadata\n",
        "\n",
        "        model = ConvNet(**model_config)\n",
        "        model.load_state_dict(torch.load(model_path))\n",
        "        model.to(device)\n",
        "\n",
        "        loss, accuracy, highest_losses, hardest_examples, true_labels, preds = evaluate(model, test_loader)\n",
        "\n",
        "        run.summary.update({\"loss\": loss, \"accuracy\": accuracy})\n",
        "\n",
        "        wandb.log({\"high-loss-examples\":\n",
        "            [wandb.Image(hard_example, caption=str(int(pred)) + \",\" +  str(int(label)))\n",
        "             for hard_example, pred, label in zip(hardest_examples, preds, true_labels)]})"
      ]
    },
    {
      "cell_type": "code",
      "execution_count": 14,
      "metadata": {
        "colab": {
          "base_uri": "https://localhost:8080/",
          "height": 1000,
          "referenced_widgets": [
            "4dfac6d62c6740e19ff585db6e1a5205",
            "a1d97fe80c4749848315ef7ef859642b",
            "04ecdfbcb5604adc97938e5e9adbcbf9",
            "cb2b3a6250b048babcea10f78e52c914",
            "8772c95255804fd7b30b78972f992da3",
            "964df699f9c44398a9aa674ec9e050e4",
            "d4c3f300adb64abb9b15921a7dca47be",
            "0626f75ffedf48059f6ebf2ccb9a7517",
            "eb426071a2f64cd19f775a05b5b14c92",
            "cefd3867363348dba0a67bf03ab3629c",
            "df43b86325e64d7da34647cfb5fbe03a",
            "f798bd238fc94a359e27910058312cb9",
            "23e04125bb1246a2a5ac0d133ec7a984",
            "c9f6a0a9ba5a471da5b3e3861065ebdc",
            "482a69755fe141a7ae9773d7ca583832",
            "4918c3f58a5f4756bb94bc8ab48748c1"
          ]
        },
        "id": "ZVjgUcVTnerd",
        "outputId": "88bc00a6-89fb-4f6a-ae07-5622af6445ca"
      },
      "outputs": [
        {
          "output_type": "display_data",
          "data": {
            "text/plain": [
              "<IPython.core.display.HTML object>"
            ],
            "text/html": [
              "Tracking run with wandb version 0.18.3"
            ]
          },
          "metadata": {}
        },
        {
          "output_type": "display_data",
          "data": {
            "text/plain": [
              "<IPython.core.display.HTML object>"
            ],
            "text/html": [
              "Run data is saved locally in <code>/content/wandb/run-20241015_134421-wz9vfyhf</code>"
            ]
          },
          "metadata": {}
        },
        {
          "output_type": "display_data",
          "data": {
            "text/plain": [
              "<IPython.core.display.HTML object>"
            ],
            "text/html": [
              "Syncing run <strong><a href='https://wandb.ai/fire-kidboy1505-vietnam-national-university-hanoi/artifacts-example/runs/wz9vfyhf' target=\"_blank\">pious-dragon-4</a></strong> to <a href='https://wandb.ai/fire-kidboy1505-vietnam-national-university-hanoi/artifacts-example' target=\"_blank\">Weights & Biases</a> (<a href='https://wandb.me/run' target=\"_blank\">docs</a>)<br/>"
            ]
          },
          "metadata": {}
        },
        {
          "output_type": "display_data",
          "data": {
            "text/plain": [
              "<IPython.core.display.HTML object>"
            ],
            "text/html": [
              " View project at <a href='https://wandb.ai/fire-kidboy1505-vietnam-national-university-hanoi/artifacts-example' target=\"_blank\">https://wandb.ai/fire-kidboy1505-vietnam-national-university-hanoi/artifacts-example</a>"
            ]
          },
          "metadata": {}
        },
        {
          "output_type": "display_data",
          "data": {
            "text/plain": [
              "<IPython.core.display.HTML object>"
            ],
            "text/html": [
              " View run at <a href='https://wandb.ai/fire-kidboy1505-vietnam-national-university-hanoi/artifacts-example/runs/wz9vfyhf' target=\"_blank\">https://wandb.ai/fire-kidboy1505-vietnam-national-university-hanoi/artifacts-example/runs/wz9vfyhf</a>"
            ]
          },
          "metadata": {}
        },
        {
          "output_type": "stream",
          "name": "stderr",
          "text": [
            "\u001b[34m\u001b[1mwandb\u001b[0m: Downloading large artifact mnist-preprocess:latest, 210.35MB. 3 files... \n",
            "\u001b[34m\u001b[1mwandb\u001b[0m:   3 of 3 files downloaded.  \n",
            "Done. 0:0:4.5\n",
            "<ipython-input-6-f524931a46e1>:29: FutureWarning: You are using `torch.load` with `weights_only=False` (the current default value), which uses the default pickle module implicitly. It is possible to construct malicious pickle data which will execute arbitrary code during unpickling (See https://github.com/pytorch/pytorch/blob/main/SECURITY.md#untrusted-models for more details). In a future release, the default value for `weights_only` will be flipped to `True`. This limits the functions that could be executed during unpickling. Arbitrary objects will no longer be allowed to be loaded via this mode unless they are explicitly allowlisted by the user via `torch.serialization.add_safe_globals`. We recommend you start setting `weights_only=True` for any use case where you don't have full control of the loaded file. Please open an issue on GitHub for any issues related to this experimental feature.\n",
            "  x, y = torch.load(os.path.join(data_dir, filename))\n",
            "\u001b[34m\u001b[1mwandb\u001b[0m:   1 of 1 files downloaded.  \n",
            "<ipython-input-13-4a5cf8d98b80>:24: FutureWarning: You are using `torch.load` with `weights_only=False` (the current default value), which uses the default pickle module implicitly. It is possible to construct malicious pickle data which will execute arbitrary code during unpickling (See https://github.com/pytorch/pytorch/blob/main/SECURITY.md#untrusted-models for more details). In a future release, the default value for `weights_only` will be flipped to `True`. This limits the functions that could be executed during unpickling. Arbitrary objects will no longer be allowed to be loaded via this mode unless they are explicitly allowlisted by the user via `torch.serialization.add_safe_globals`. We recommend you start setting `weights_only=True` for any use case where you don't have full control of the loaded file. Please open an issue on GitHub for any issues related to this experimental feature.\n",
            "  model.load_state_dict(torch.load(model_path))\n"
          ]
        },
        {
          "output_type": "stream",
          "name": "stdout",
          "text": [
            "Train Epoch: 0 [0/50000 (0%)]\tLoss: 2.312536\n",
            "Loss after 00128 examples: 2.313\n",
            "Train Epoch: 0 [3200/50000 (6%)]\tLoss: 1.016427\n",
            "Loss after 03328 examples: 1.016\n",
            "Train Epoch: 0 [6400/50000 (13%)]\tLoss: 0.543447\n",
            "Loss after 06528 examples: 0.543\n",
            "Train Epoch: 0 [9600/50000 (19%)]\tLoss: 0.295397\n",
            "Loss after 09728 examples: 0.295\n",
            "Train Epoch: 0 [12800/50000 (26%)]\tLoss: 0.240047\n",
            "Loss after 12928 examples: 0.240\n",
            "Train Epoch: 0 [16000/50000 (32%)]\tLoss: 0.339060\n",
            "Loss after 16128 examples: 0.339\n",
            "Train Epoch: 0 [19200/50000 (38%)]\tLoss: 0.196616\n",
            "Loss after 19328 examples: 0.197\n",
            "Train Epoch: 0 [22400/50000 (45%)]\tLoss: 0.194720\n",
            "Loss after 22528 examples: 0.195\n",
            "Train Epoch: 0 [25600/50000 (51%)]\tLoss: 0.137736\n",
            "Loss after 25728 examples: 0.138\n",
            "Train Epoch: 0 [28800/50000 (58%)]\tLoss: 0.132933\n",
            "Loss after 28928 examples: 0.133\n",
            "Train Epoch: 0 [32000/50000 (64%)]\tLoss: 0.222700\n",
            "Loss after 32128 examples: 0.223\n",
            "Train Epoch: 0 [35200/50000 (70%)]\tLoss: 0.189966\n",
            "Loss after 35328 examples: 0.190\n",
            "Train Epoch: 0 [38400/50000 (77%)]\tLoss: 0.111620\n",
            "Loss after 38528 examples: 0.112\n",
            "Train Epoch: 0 [41600/50000 (83%)]\tLoss: 0.119710\n",
            "Loss after 41728 examples: 0.120\n",
            "Train Epoch: 0 [44800/50000 (90%)]\tLoss: 0.225979\n",
            "Loss after 44928 examples: 0.226\n",
            "Train Epoch: 0 [48000/50000 (96%)]\tLoss: 0.100768\n",
            "Loss after 48128 examples: 0.101\n",
            "Loss/accuracy after 50000 examples: 0.094/97.490\n",
            "Train Epoch: 1 [0/50000 (0%)]\tLoss: 0.118347\n",
            "Loss after 50128 examples: 0.118\n",
            "Train Epoch: 1 [3200/50000 (6%)]\tLoss: 0.070442\n",
            "Loss after 53328 examples: 0.070\n",
            "Train Epoch: 1 [6400/50000 (13%)]\tLoss: 0.112362\n",
            "Loss after 56528 examples: 0.112\n",
            "Train Epoch: 1 [9600/50000 (19%)]\tLoss: 0.073480\n",
            "Loss after 59728 examples: 0.073\n",
            "Train Epoch: 1 [12800/50000 (26%)]\tLoss: 0.060022\n",
            "Loss after 62928 examples: 0.060\n",
            "Train Epoch: 1 [16000/50000 (32%)]\tLoss: 0.091994\n",
            "Loss after 66128 examples: 0.092\n",
            "Train Epoch: 1 [19200/50000 (38%)]\tLoss: 0.064658\n",
            "Loss after 69328 examples: 0.065\n",
            "Train Epoch: 1 [22400/50000 (45%)]\tLoss: 0.059957\n",
            "Loss after 72528 examples: 0.060\n",
            "Train Epoch: 1 [25600/50000 (51%)]\tLoss: 0.079567\n",
            "Loss after 75728 examples: 0.080\n",
            "Train Epoch: 1 [28800/50000 (58%)]\tLoss: 0.037339\n",
            "Loss after 78928 examples: 0.037\n",
            "Train Epoch: 1 [32000/50000 (64%)]\tLoss: 0.130031\n",
            "Loss after 82128 examples: 0.130\n",
            "Train Epoch: 1 [35200/50000 (70%)]\tLoss: 0.066711\n",
            "Loss after 85328 examples: 0.067\n",
            "Train Epoch: 1 [38400/50000 (77%)]\tLoss: 0.090664\n",
            "Loss after 88528 examples: 0.091\n",
            "Train Epoch: 1 [41600/50000 (83%)]\tLoss: 0.048247\n",
            "Loss after 91728 examples: 0.048\n",
            "Train Epoch: 1 [44800/50000 (90%)]\tLoss: 0.097168\n",
            "Loss after 94928 examples: 0.097\n",
            "Train Epoch: 1 [48000/50000 (96%)]\tLoss: 0.058256\n",
            "Loss after 98128 examples: 0.058\n",
            "Loss/accuracy after 100000 examples: 0.063/98.140\n",
            "Train Epoch: 2 [0/50000 (0%)]\tLoss: 0.066787\n",
            "Loss after 100128 examples: 0.067\n",
            "Train Epoch: 2 [3200/50000 (6%)]\tLoss: 0.027623\n",
            "Loss after 103328 examples: 0.028\n",
            "Train Epoch: 2 [6400/50000 (13%)]\tLoss: 0.099428\n",
            "Loss after 106528 examples: 0.099\n",
            "Train Epoch: 2 [9600/50000 (19%)]\tLoss: 0.036179\n",
            "Loss after 109728 examples: 0.036\n",
            "Train Epoch: 2 [12800/50000 (26%)]\tLoss: 0.048890\n",
            "Loss after 112928 examples: 0.049\n",
            "Train Epoch: 2 [16000/50000 (32%)]\tLoss: 0.050217\n",
            "Loss after 116128 examples: 0.050\n",
            "Train Epoch: 2 [19200/50000 (38%)]\tLoss: 0.038872\n",
            "Loss after 119328 examples: 0.039\n",
            "Train Epoch: 2 [22400/50000 (45%)]\tLoss: 0.029957\n",
            "Loss after 122528 examples: 0.030\n",
            "Train Epoch: 2 [25600/50000 (51%)]\tLoss: 0.055318\n",
            "Loss after 125728 examples: 0.055\n",
            "Train Epoch: 2 [28800/50000 (58%)]\tLoss: 0.019568\n",
            "Loss after 128928 examples: 0.020\n",
            "Train Epoch: 2 [32000/50000 (64%)]\tLoss: 0.093243\n",
            "Loss after 132128 examples: 0.093\n",
            "Train Epoch: 2 [35200/50000 (70%)]\tLoss: 0.058261\n",
            "Loss after 135328 examples: 0.058\n",
            "Train Epoch: 2 [38400/50000 (77%)]\tLoss: 0.085433\n",
            "Loss after 138528 examples: 0.085\n",
            "Train Epoch: 2 [41600/50000 (83%)]\tLoss: 0.037635\n",
            "Loss after 141728 examples: 0.038\n",
            "Train Epoch: 2 [44800/50000 (90%)]\tLoss: 0.056549\n",
            "Loss after 144928 examples: 0.057\n",
            "Train Epoch: 2 [48000/50000 (96%)]\tLoss: 0.040943\n",
            "Loss after 148128 examples: 0.041\n",
            "Loss/accuracy after 150000 examples: 0.055/98.420\n",
            "Train Epoch: 3 [0/50000 (0%)]\tLoss: 0.049036\n",
            "Loss after 150128 examples: 0.049\n",
            "Train Epoch: 3 [3200/50000 (6%)]\tLoss: 0.020155\n",
            "Loss after 153328 examples: 0.020\n",
            "Train Epoch: 3 [6400/50000 (13%)]\tLoss: 0.095541\n",
            "Loss after 156528 examples: 0.096\n",
            "Train Epoch: 3 [9600/50000 (19%)]\tLoss: 0.022203\n",
            "Loss after 159728 examples: 0.022\n",
            "Train Epoch: 3 [12800/50000 (26%)]\tLoss: 0.035108\n",
            "Loss after 162928 examples: 0.035\n",
            "Train Epoch: 3 [16000/50000 (32%)]\tLoss: 0.038146\n",
            "Loss after 166128 examples: 0.038\n",
            "Train Epoch: 3 [19200/50000 (38%)]\tLoss: 0.027009\n",
            "Loss after 169328 examples: 0.027\n",
            "Train Epoch: 3 [22400/50000 (45%)]\tLoss: 0.018159\n",
            "Loss after 172528 examples: 0.018\n",
            "Train Epoch: 3 [25600/50000 (51%)]\tLoss: 0.047424\n",
            "Loss after 175728 examples: 0.047\n",
            "Train Epoch: 3 [28800/50000 (58%)]\tLoss: 0.011278\n",
            "Loss after 178928 examples: 0.011\n",
            "Train Epoch: 3 [32000/50000 (64%)]\tLoss: 0.063865\n",
            "Loss after 182128 examples: 0.064\n",
            "Train Epoch: 3 [35200/50000 (70%)]\tLoss: 0.055050\n",
            "Loss after 185328 examples: 0.055\n",
            "Train Epoch: 3 [38400/50000 (77%)]\tLoss: 0.077180\n",
            "Loss after 188528 examples: 0.077\n",
            "Train Epoch: 3 [41600/50000 (83%)]\tLoss: 0.029739\n",
            "Loss after 191728 examples: 0.030\n",
            "Train Epoch: 3 [44800/50000 (90%)]\tLoss: 0.036135\n",
            "Loss after 194928 examples: 0.036\n",
            "Train Epoch: 3 [48000/50000 (96%)]\tLoss: 0.027451\n",
            "Loss after 198128 examples: 0.027\n",
            "Loss/accuracy after 200000 examples: 0.051/98.520\n",
            "Train Epoch: 4 [0/50000 (0%)]\tLoss: 0.037085\n",
            "Loss after 200128 examples: 0.037\n",
            "Train Epoch: 4 [3200/50000 (6%)]\tLoss: 0.018228\n",
            "Loss after 203328 examples: 0.018\n",
            "Train Epoch: 4 [6400/50000 (13%)]\tLoss: 0.093834\n",
            "Loss after 206528 examples: 0.094\n",
            "Train Epoch: 4 [9600/50000 (19%)]\tLoss: 0.015658\n",
            "Loss after 209728 examples: 0.016\n",
            "Train Epoch: 4 [12800/50000 (26%)]\tLoss: 0.025457\n",
            "Loss after 212928 examples: 0.025\n",
            "Train Epoch: 4 [16000/50000 (32%)]\tLoss: 0.028723\n",
            "Loss after 216128 examples: 0.029\n",
            "Train Epoch: 4 [19200/50000 (38%)]\tLoss: 0.023222\n",
            "Loss after 219328 examples: 0.023\n",
            "Train Epoch: 4 [22400/50000 (45%)]\tLoss: 0.015843\n",
            "Loss after 222528 examples: 0.016\n",
            "Train Epoch: 4 [25600/50000 (51%)]\tLoss: 0.046216\n",
            "Loss after 225728 examples: 0.046\n",
            "Train Epoch: 4 [28800/50000 (58%)]\tLoss: 0.007720\n",
            "Loss after 228928 examples: 0.008\n",
            "Train Epoch: 4 [32000/50000 (64%)]\tLoss: 0.048485\n",
            "Loss after 232128 examples: 0.048\n",
            "Train Epoch: 4 [35200/50000 (70%)]\tLoss: 0.043970\n",
            "Loss after 235328 examples: 0.044\n",
            "Train Epoch: 4 [38400/50000 (77%)]\tLoss: 0.066505\n",
            "Loss after 238528 examples: 0.067\n",
            "Train Epoch: 4 [41600/50000 (83%)]\tLoss: 0.024618\n",
            "Loss after 241728 examples: 0.025\n",
            "Train Epoch: 4 [44800/50000 (90%)]\tLoss: 0.024293\n",
            "Loss after 244928 examples: 0.024\n",
            "Train Epoch: 4 [48000/50000 (96%)]\tLoss: 0.017629\n",
            "Loss after 248128 examples: 0.018\n",
            "Loss/accuracy after 250000 examples: 0.048/98.640\n"
          ]
        },
        {
          "output_type": "display_data",
          "data": {
            "text/plain": [
              "VBox(children=(Label(value='0.292 MB of 0.292 MB uploaded\\r'), FloatProgress(value=1.0, max=1.0)))"
            ],
            "application/vnd.jupyter.widget-view+json": {
              "version_major": 2,
              "version_minor": 0,
              "model_id": "4dfac6d62c6740e19ff585db6e1a5205"
            }
          },
          "metadata": {}
        },
        {
          "output_type": "display_data",
          "data": {
            "text/plain": [
              "<IPython.core.display.HTML object>"
            ],
            "text/html": [
              "<style>\n",
              "    table.wandb td:nth-child(1) { padding: 0 10px; text-align: left ; width: auto;} td:nth-child(2) {text-align: left ; width: 100%}\n",
              "    .wandb-row { display: flex; flex-direction: row; flex-wrap: wrap; justify-content: flex-start; width: 100% }\n",
              "    .wandb-col { display: flex; flex-direction: column; flex-basis: 100%; flex: 1; padding: 10px; }\n",
              "    </style>\n",
              "<div class=\"wandb-row\"><div class=\"wandb-col\"><h3>Run history:</h3><br/><table class=\"wandb\"><tr><td>epoch</td><td>▁▁▁▁▁▁▃▃▃▃▃▃▃▃▃▅▅▅▅▅▅▅▅▅▅▆▆▆▆▆▆▆▆███████</td></tr><tr><td>train/loss</td><td>█▃▂▂▂▁▁▁▁▂▂▂▁▁▂▁▁▁▂▂▁▁▁▂▁▁▁▁▁▁▁▁▂▁▁▁▁▁▁▁</td></tr><tr><td>validation/accuracy</td><td>▁▅▇▇█</td></tr><tr><td>validation/loss</td><td>█▃▂▁▁</td></tr></table><br/></div><div class=\"wandb-col\"><h3>Run summary:</h3><br/><table class=\"wandb\"><tr><td>epoch</td><td>4</td></tr><tr><td>train/loss</td><td>0.01763</td></tr><tr><td>validation/accuracy</td><td>98.64</td></tr><tr><td>validation/loss</td><td>0.04769</td></tr></table><br/></div></div>"
            ]
          },
          "metadata": {}
        },
        {
          "output_type": "display_data",
          "data": {
            "text/plain": [
              "<IPython.core.display.HTML object>"
            ],
            "text/html": [
              " View run <strong style=\"color:#cdcd00\">pious-dragon-4</strong> at: <a href='https://wandb.ai/fire-kidboy1505-vietnam-national-university-hanoi/artifacts-example/runs/wz9vfyhf' target=\"_blank\">https://wandb.ai/fire-kidboy1505-vietnam-national-university-hanoi/artifacts-example/runs/wz9vfyhf</a><br/> View project at: <a href='https://wandb.ai/fire-kidboy1505-vietnam-national-university-hanoi/artifacts-example' target=\"_blank\">https://wandb.ai/fire-kidboy1505-vietnam-national-university-hanoi/artifacts-example</a><br/>Synced 5 W&B file(s), 0 media file(s), 2 artifact file(s) and 1 other file(s)"
            ]
          },
          "metadata": {}
        },
        {
          "output_type": "display_data",
          "data": {
            "text/plain": [
              "<IPython.core.display.HTML object>"
            ],
            "text/html": [
              "Find logs at: <code>./wandb/run-20241015_134421-wz9vfyhf/logs</code>"
            ]
          },
          "metadata": {}
        },
        {
          "output_type": "display_data",
          "data": {
            "text/plain": [
              "<IPython.core.display.HTML object>"
            ],
            "text/html": [
              "Tracking run with wandb version 0.18.3"
            ]
          },
          "metadata": {}
        },
        {
          "output_type": "display_data",
          "data": {
            "text/plain": [
              "<IPython.core.display.HTML object>"
            ],
            "text/html": [
              "Run data is saved locally in <code>/content/wandb/run-20241015_134440-gq2o8tz6</code>"
            ]
          },
          "metadata": {}
        },
        {
          "output_type": "display_data",
          "data": {
            "text/plain": [
              "<IPython.core.display.HTML object>"
            ],
            "text/html": [
              "Syncing run <strong><a href='https://wandb.ai/fire-kidboy1505-vietnam-national-university-hanoi/artifacts-example/runs/gq2o8tz6' target=\"_blank\">cool-snow-5</a></strong> to <a href='https://wandb.ai/fire-kidboy1505-vietnam-national-university-hanoi/artifacts-example' target=\"_blank\">Weights & Biases</a> (<a href='https://wandb.me/run' target=\"_blank\">docs</a>)<br/>"
            ]
          },
          "metadata": {}
        },
        {
          "output_type": "display_data",
          "data": {
            "text/plain": [
              "<IPython.core.display.HTML object>"
            ],
            "text/html": [
              " View project at <a href='https://wandb.ai/fire-kidboy1505-vietnam-national-university-hanoi/artifacts-example' target=\"_blank\">https://wandb.ai/fire-kidboy1505-vietnam-national-university-hanoi/artifacts-example</a>"
            ]
          },
          "metadata": {}
        },
        {
          "output_type": "display_data",
          "data": {
            "text/plain": [
              "<IPython.core.display.HTML object>"
            ],
            "text/html": [
              " View run at <a href='https://wandb.ai/fire-kidboy1505-vietnam-national-university-hanoi/artifacts-example/runs/gq2o8tz6' target=\"_blank\">https://wandb.ai/fire-kidboy1505-vietnam-national-university-hanoi/artifacts-example/runs/gq2o8tz6</a>"
            ]
          },
          "metadata": {}
        },
        {
          "output_type": "stream",
          "name": "stderr",
          "text": [
            "\u001b[34m\u001b[1mwandb\u001b[0m: Downloading large artifact mnist-preprocess:latest, 210.35MB. 3 files... \n",
            "\u001b[34m\u001b[1mwandb\u001b[0m:   3 of 3 files downloaded.  \n",
            "Done. 0:0:0.5\n",
            "\u001b[34m\u001b[1mwandb\u001b[0m:   1 of 1 files downloaded.  \n",
            "<ipython-input-13-4a5cf8d98b80>:58: FutureWarning: You are using `torch.load` with `weights_only=False` (the current default value), which uses the default pickle module implicitly. It is possible to construct malicious pickle data which will execute arbitrary code during unpickling (See https://github.com/pytorch/pytorch/blob/main/SECURITY.md#untrusted-models for more details). In a future release, the default value for `weights_only` will be flipped to `True`. This limits the functions that could be executed during unpickling. Arbitrary objects will no longer be allowed to be loaded via this mode unless they are explicitly allowlisted by the user via `torch.serialization.add_safe_globals`. We recommend you start setting `weights_only=True` for any use case where you don't have full control of the loaded file. Please open an issue on GitHub for any issues related to this experimental feature.\n",
            "  model.load_state_dict(torch.load(model_path))\n"
          ]
        },
        {
          "output_type": "display_data",
          "data": {
            "text/plain": [
              "VBox(children=(Label(value='0.029 MB of 0.029 MB uploaded\\r'), FloatProgress(value=1.0, max=1.0)))"
            ],
            "application/vnd.jupyter.widget-view+json": {
              "version_major": 2,
              "version_minor": 0,
              "model_id": "eb426071a2f64cd19f775a05b5b14c92"
            }
          },
          "metadata": {}
        },
        {
          "output_type": "display_data",
          "data": {
            "text/plain": [
              "<IPython.core.display.HTML object>"
            ],
            "text/html": [
              "<style>\n",
              "    table.wandb td:nth-child(1) { padding: 0 10px; text-align: left ; width: auto;} td:nth-child(2) {text-align: left ; width: 100%}\n",
              "    .wandb-row { display: flex; flex-direction: row; flex-wrap: wrap; justify-content: flex-start; width: 100% }\n",
              "    .wandb-col { display: flex; flex-direction: column; flex-basis: 100%; flex: 1; padding: 10px; }\n",
              "    </style>\n",
              "<div class=\"wandb-row\"><div class=\"wandb-col\"><h3>Run summary:</h3><br/><table class=\"wandb\"><tr><td>accuracy</td><td>98.88</td></tr><tr><td>loss</td><td>0.03584</td></tr></table><br/></div></div>"
            ]
          },
          "metadata": {}
        },
        {
          "output_type": "display_data",
          "data": {
            "text/plain": [
              "<IPython.core.display.HTML object>"
            ],
            "text/html": [
              " View run <strong style=\"color:#cdcd00\">cool-snow-5</strong> at: <a href='https://wandb.ai/fire-kidboy1505-vietnam-national-university-hanoi/artifacts-example/runs/gq2o8tz6' target=\"_blank\">https://wandb.ai/fire-kidboy1505-vietnam-national-university-hanoi/artifacts-example/runs/gq2o8tz6</a><br/> View project at: <a href='https://wandb.ai/fire-kidboy1505-vietnam-national-university-hanoi/artifacts-example' target=\"_blank\">https://wandb.ai/fire-kidboy1505-vietnam-national-university-hanoi/artifacts-example</a><br/>Synced 5 W&B file(s), 0 media file(s), 0 artifact file(s) and 32 other file(s)"
            ]
          },
          "metadata": {}
        },
        {
          "output_type": "display_data",
          "data": {
            "text/plain": [
              "<IPython.core.display.HTML object>"
            ],
            "text/html": [
              "Find logs at: <code>./wandb/run-20241015_134440-gq2o8tz6/logs</code>"
            ]
          },
          "metadata": {}
        }
      ],
      "source": [
        "train_config = {\"batch_size\": 128,\n",
        "                \"epochs\": 5,\n",
        "                \"batch_log_interval\": 25,\n",
        "                \"optimizer\": \"Adam\"}\n",
        "\n",
        "model = train_and_log(train_config)\n",
        "evaluate_and_log()"
      ]
    },
    {
      "cell_type": "markdown",
      "metadata": {
        "id": "vz_VZTg7nere"
      },
      "source": [
        "### 🔁 The Graph View\n",
        "\n",
        "Notice that we changed the `type` of the `Artifact`:\n",
        "these `Run`s used a `model`, rather than `dataset`.\n",
        "`Run`s that produce `model`s will be separated\n",
        "from those that produce `dataset`s in the graph view on the Artifacts page.\n",
        "\n",
        "Go check it out! As before, you'll want to head to the Run page,\n",
        "select the \"Artifacts\" tab from the left sidebar,\n",
        "pick an `Artifact`,\n",
        "and then click the \"Graph View\" tab."
      ]
    },
    {
      "cell_type": "markdown",
      "metadata": {
        "id": "OxtAm5gwnere"
      },
      "source": [
        "\n",
        "### 💣 Exploded Graphs"
      ]
    },
    {
      "cell_type": "markdown",
      "metadata": {
        "id": "J1cnpT2Mnere"
      },
      "source": [
        "You may have noticed a button labeled \"Explode\". Don't click that, as it will set off a small bomb underneath your humble author's desk in the W&B HQ!\n",
        "\n",
        "Just kidding. It \"explodes\" the graph in a much gentler way:\n",
        "`Artifact`s and `Run`s become separated at the level of a single instance,\n",
        "rather than a `type`:\n",
        "the nodes are not `dataset` and `load-data`, but `dataset:mnist-raw:v1` and `load-data:sunny-smoke-1`, and so on.\n",
        "\n",
        "This provides total insight into your pipeline,\n",
        "with logged metrics, metadata, and more\n",
        "all at your fingertips --\n",
        "you're only limited by what you choose to log with us."
      ]
    }
  ],
  "metadata": {
    "accelerator": "GPU",
    "colab": {
      "provenance": [],
      "toc_visible": true
    },
    "kernelspec": {
      "display_name": "Python 3",
      "name": "python3"
    },
    "widgets": {
      "application/vnd.jupyter.widget-state+json": {
        "b5c08cb8a9d648fe9742c38081380715": {
          "model_module": "@jupyter-widgets/controls",
          "model_name": "VBoxModel",
          "model_module_version": "1.5.0",
          "state": {
            "_dom_classes": [],
            "_model_module": "@jupyter-widgets/controls",
            "_model_module_version": "1.5.0",
            "_model_name": "VBoxModel",
            "_view_count": null,
            "_view_module": "@jupyter-widgets/controls",
            "_view_module_version": "1.5.0",
            "_view_name": "VBoxView",
            "box_style": "",
            "children": [
              "IPY_MODEL_3552b6e9e2684c79843d57d874f79d6a",
              "IPY_MODEL_06efce40fd4d47eab3c0b04539d2c262"
            ],
            "layout": "IPY_MODEL_7a151333eaed4b7fb75fca8dd32b170b"
          }
        },
        "3552b6e9e2684c79843d57d874f79d6a": {
          "model_module": "@jupyter-widgets/controls",
          "model_name": "LabelModel",
          "model_module_version": "1.5.0",
          "state": {
            "_dom_classes": [],
            "_model_module": "@jupyter-widgets/controls",
            "_model_module_version": "1.5.0",
            "_model_name": "LabelModel",
            "_view_count": null,
            "_view_module": "@jupyter-widgets/controls",
            "_view_module_version": "1.5.0",
            "_view_name": "LabelView",
            "description": "",
            "description_tooltip": null,
            "layout": "IPY_MODEL_ad389244d352466bb39e0b3e2efe1367",
            "placeholder": "​",
            "style": "IPY_MODEL_e0a4c222527147f695c8cc64a5809df3",
            "value": "98.208 MB of 98.208 MB uploaded\r"
          }
        },
        "06efce40fd4d47eab3c0b04539d2c262": {
          "model_module": "@jupyter-widgets/controls",
          "model_name": "FloatProgressModel",
          "model_module_version": "1.5.0",
          "state": {
            "_dom_classes": [],
            "_model_module": "@jupyter-widgets/controls",
            "_model_module_version": "1.5.0",
            "_model_name": "FloatProgressModel",
            "_view_count": null,
            "_view_module": "@jupyter-widgets/controls",
            "_view_module_version": "1.5.0",
            "_view_name": "ProgressView",
            "bar_style": "",
            "description": "",
            "description_tooltip": null,
            "layout": "IPY_MODEL_ee61cbc1a86443ebbc8992bdeb5ea78f",
            "max": 1,
            "min": 0,
            "orientation": "horizontal",
            "style": "IPY_MODEL_d6cdd1a6f6bc4609b12d6618da1be4eb",
            "value": 1
          }
        },
        "7a151333eaed4b7fb75fca8dd32b170b": {
          "model_module": "@jupyter-widgets/base",
          "model_name": "LayoutModel",
          "model_module_version": "1.2.0",
          "state": {
            "_model_module": "@jupyter-widgets/base",
            "_model_module_version": "1.2.0",
            "_model_name": "LayoutModel",
            "_view_count": null,
            "_view_module": "@jupyter-widgets/base",
            "_view_module_version": "1.2.0",
            "_view_name": "LayoutView",
            "align_content": null,
            "align_items": null,
            "align_self": null,
            "border": null,
            "bottom": null,
            "display": null,
            "flex": null,
            "flex_flow": null,
            "grid_area": null,
            "grid_auto_columns": null,
            "grid_auto_flow": null,
            "grid_auto_rows": null,
            "grid_column": null,
            "grid_gap": null,
            "grid_row": null,
            "grid_template_areas": null,
            "grid_template_columns": null,
            "grid_template_rows": null,
            "height": null,
            "justify_content": null,
            "justify_items": null,
            "left": null,
            "margin": null,
            "max_height": null,
            "max_width": null,
            "min_height": null,
            "min_width": null,
            "object_fit": null,
            "object_position": null,
            "order": null,
            "overflow": null,
            "overflow_x": null,
            "overflow_y": null,
            "padding": null,
            "right": null,
            "top": null,
            "visibility": null,
            "width": null
          }
        },
        "ad389244d352466bb39e0b3e2efe1367": {
          "model_module": "@jupyter-widgets/base",
          "model_name": "LayoutModel",
          "model_module_version": "1.2.0",
          "state": {
            "_model_module": "@jupyter-widgets/base",
            "_model_module_version": "1.2.0",
            "_model_name": "LayoutModel",
            "_view_count": null,
            "_view_module": "@jupyter-widgets/base",
            "_view_module_version": "1.2.0",
            "_view_name": "LayoutView",
            "align_content": null,
            "align_items": null,
            "align_self": null,
            "border": null,
            "bottom": null,
            "display": null,
            "flex": null,
            "flex_flow": null,
            "grid_area": null,
            "grid_auto_columns": null,
            "grid_auto_flow": null,
            "grid_auto_rows": null,
            "grid_column": null,
            "grid_gap": null,
            "grid_row": null,
            "grid_template_areas": null,
            "grid_template_columns": null,
            "grid_template_rows": null,
            "height": null,
            "justify_content": null,
            "justify_items": null,
            "left": null,
            "margin": null,
            "max_height": null,
            "max_width": null,
            "min_height": null,
            "min_width": null,
            "object_fit": null,
            "object_position": null,
            "order": null,
            "overflow": null,
            "overflow_x": null,
            "overflow_y": null,
            "padding": null,
            "right": null,
            "top": null,
            "visibility": null,
            "width": null
          }
        },
        "e0a4c222527147f695c8cc64a5809df3": {
          "model_module": "@jupyter-widgets/controls",
          "model_name": "DescriptionStyleModel",
          "model_module_version": "1.5.0",
          "state": {
            "_model_module": "@jupyter-widgets/controls",
            "_model_module_version": "1.5.0",
            "_model_name": "DescriptionStyleModel",
            "_view_count": null,
            "_view_module": "@jupyter-widgets/base",
            "_view_module_version": "1.2.0",
            "_view_name": "StyleView",
            "description_width": ""
          }
        },
        "ee61cbc1a86443ebbc8992bdeb5ea78f": {
          "model_module": "@jupyter-widgets/base",
          "model_name": "LayoutModel",
          "model_module_version": "1.2.0",
          "state": {
            "_model_module": "@jupyter-widgets/base",
            "_model_module_version": "1.2.0",
            "_model_name": "LayoutModel",
            "_view_count": null,
            "_view_module": "@jupyter-widgets/base",
            "_view_module_version": "1.2.0",
            "_view_name": "LayoutView",
            "align_content": null,
            "align_items": null,
            "align_self": null,
            "border": null,
            "bottom": null,
            "display": null,
            "flex": null,
            "flex_flow": null,
            "grid_area": null,
            "grid_auto_columns": null,
            "grid_auto_flow": null,
            "grid_auto_rows": null,
            "grid_column": null,
            "grid_gap": null,
            "grid_row": null,
            "grid_template_areas": null,
            "grid_template_columns": null,
            "grid_template_rows": null,
            "height": null,
            "justify_content": null,
            "justify_items": null,
            "left": null,
            "margin": null,
            "max_height": null,
            "max_width": null,
            "min_height": null,
            "min_width": null,
            "object_fit": null,
            "object_position": null,
            "order": null,
            "overflow": null,
            "overflow_x": null,
            "overflow_y": null,
            "padding": null,
            "right": null,
            "top": null,
            "visibility": null,
            "width": null
          }
        },
        "d6cdd1a6f6bc4609b12d6618da1be4eb": {
          "model_module": "@jupyter-widgets/controls",
          "model_name": "ProgressStyleModel",
          "model_module_version": "1.5.0",
          "state": {
            "_model_module": "@jupyter-widgets/controls",
            "_model_module_version": "1.5.0",
            "_model_name": "ProgressStyleModel",
            "_view_count": null,
            "_view_module": "@jupyter-widgets/base",
            "_view_module_version": "1.2.0",
            "_view_name": "StyleView",
            "bar_color": null,
            "description_width": ""
          }
        },
        "deeb2dd7f4ab45cfb3fd1421360c8f5f": {
          "model_module": "@jupyter-widgets/controls",
          "model_name": "VBoxModel",
          "model_module_version": "1.5.0",
          "state": {
            "_dom_classes": [],
            "_model_module": "@jupyter-widgets/controls",
            "_model_module_version": "1.5.0",
            "_model_name": "VBoxModel",
            "_view_count": null,
            "_view_module": "@jupyter-widgets/controls",
            "_view_module_version": "1.5.0",
            "_view_name": "VBoxView",
            "box_style": "",
            "children": [
              "IPY_MODEL_28a647cb8cfa434f98d17f1352756973",
              "IPY_MODEL_9ad02aa654814be585b204a12a6087b7"
            ],
            "layout": "IPY_MODEL_a618256fe4444854bfe10decac83e792"
          }
        },
        "28a647cb8cfa434f98d17f1352756973": {
          "model_module": "@jupyter-widgets/controls",
          "model_name": "LabelModel",
          "model_module_version": "1.5.0",
          "state": {
            "_dom_classes": [],
            "_model_module": "@jupyter-widgets/controls",
            "_model_module_version": "1.5.0",
            "_model_name": "LabelModel",
            "_view_count": null,
            "_view_module": "@jupyter-widgets/controls",
            "_view_module_version": "1.5.0",
            "_view_name": "LabelView",
            "description": "",
            "description_tooltip": null,
            "layout": "IPY_MODEL_635d17f5e0964197a8d3be35f48ef396",
            "placeholder": "​",
            "style": "IPY_MODEL_b3afed10bc3146239b697f7fd5695805",
            "value": "Waiting for wandb.init()...\r"
          }
        },
        "9ad02aa654814be585b204a12a6087b7": {
          "model_module": "@jupyter-widgets/controls",
          "model_name": "FloatProgressModel",
          "model_module_version": "1.5.0",
          "state": {
            "_dom_classes": [],
            "_model_module": "@jupyter-widgets/controls",
            "_model_module_version": "1.5.0",
            "_model_name": "FloatProgressModel",
            "_view_count": null,
            "_view_module": "@jupyter-widgets/controls",
            "_view_module_version": "1.5.0",
            "_view_name": "ProgressView",
            "bar_style": "",
            "description": "",
            "description_tooltip": null,
            "layout": "IPY_MODEL_b62a8b6c7e754bb9abb48bab6bc23308",
            "max": 1,
            "min": 0,
            "orientation": "horizontal",
            "style": "IPY_MODEL_098791aae63a42ec9cdfdc1cf421bfa1",
            "value": 1
          }
        },
        "a618256fe4444854bfe10decac83e792": {
          "model_module": "@jupyter-widgets/base",
          "model_name": "LayoutModel",
          "model_module_version": "1.2.0",
          "state": {
            "_model_module": "@jupyter-widgets/base",
            "_model_module_version": "1.2.0",
            "_model_name": "LayoutModel",
            "_view_count": null,
            "_view_module": "@jupyter-widgets/base",
            "_view_module_version": "1.2.0",
            "_view_name": "LayoutView",
            "align_content": null,
            "align_items": null,
            "align_self": null,
            "border": null,
            "bottom": null,
            "display": null,
            "flex": null,
            "flex_flow": null,
            "grid_area": null,
            "grid_auto_columns": null,
            "grid_auto_flow": null,
            "grid_auto_rows": null,
            "grid_column": null,
            "grid_gap": null,
            "grid_row": null,
            "grid_template_areas": null,
            "grid_template_columns": null,
            "grid_template_rows": null,
            "height": null,
            "justify_content": null,
            "justify_items": null,
            "left": null,
            "margin": null,
            "max_height": null,
            "max_width": null,
            "min_height": null,
            "min_width": null,
            "object_fit": null,
            "object_position": null,
            "order": null,
            "overflow": null,
            "overflow_x": null,
            "overflow_y": null,
            "padding": null,
            "right": null,
            "top": null,
            "visibility": null,
            "width": null
          }
        },
        "635d17f5e0964197a8d3be35f48ef396": {
          "model_module": "@jupyter-widgets/base",
          "model_name": "LayoutModel",
          "model_module_version": "1.2.0",
          "state": {
            "_model_module": "@jupyter-widgets/base",
            "_model_module_version": "1.2.0",
            "_model_name": "LayoutModel",
            "_view_count": null,
            "_view_module": "@jupyter-widgets/base",
            "_view_module_version": "1.2.0",
            "_view_name": "LayoutView",
            "align_content": null,
            "align_items": null,
            "align_self": null,
            "border": null,
            "bottom": null,
            "display": null,
            "flex": null,
            "flex_flow": null,
            "grid_area": null,
            "grid_auto_columns": null,
            "grid_auto_flow": null,
            "grid_auto_rows": null,
            "grid_column": null,
            "grid_gap": null,
            "grid_row": null,
            "grid_template_areas": null,
            "grid_template_columns": null,
            "grid_template_rows": null,
            "height": null,
            "justify_content": null,
            "justify_items": null,
            "left": null,
            "margin": null,
            "max_height": null,
            "max_width": null,
            "min_height": null,
            "min_width": null,
            "object_fit": null,
            "object_position": null,
            "order": null,
            "overflow": null,
            "overflow_x": null,
            "overflow_y": null,
            "padding": null,
            "right": null,
            "top": null,
            "visibility": null,
            "width": null
          }
        },
        "b3afed10bc3146239b697f7fd5695805": {
          "model_module": "@jupyter-widgets/controls",
          "model_name": "DescriptionStyleModel",
          "model_module_version": "1.5.0",
          "state": {
            "_model_module": "@jupyter-widgets/controls",
            "_model_module_version": "1.5.0",
            "_model_name": "DescriptionStyleModel",
            "_view_count": null,
            "_view_module": "@jupyter-widgets/base",
            "_view_module_version": "1.2.0",
            "_view_name": "StyleView",
            "description_width": ""
          }
        },
        "b62a8b6c7e754bb9abb48bab6bc23308": {
          "model_module": "@jupyter-widgets/base",
          "model_name": "LayoutModel",
          "model_module_version": "1.2.0",
          "state": {
            "_model_module": "@jupyter-widgets/base",
            "_model_module_version": "1.2.0",
            "_model_name": "LayoutModel",
            "_view_count": null,
            "_view_module": "@jupyter-widgets/base",
            "_view_module_version": "1.2.0",
            "_view_name": "LayoutView",
            "align_content": null,
            "align_items": null,
            "align_self": null,
            "border": null,
            "bottom": null,
            "display": null,
            "flex": null,
            "flex_flow": null,
            "grid_area": null,
            "grid_auto_columns": null,
            "grid_auto_flow": null,
            "grid_auto_rows": null,
            "grid_column": null,
            "grid_gap": null,
            "grid_row": null,
            "grid_template_areas": null,
            "grid_template_columns": null,
            "grid_template_rows": null,
            "height": null,
            "justify_content": null,
            "justify_items": null,
            "left": null,
            "margin": null,
            "max_height": null,
            "max_width": null,
            "min_height": null,
            "min_width": null,
            "object_fit": null,
            "object_position": null,
            "order": null,
            "overflow": null,
            "overflow_x": null,
            "overflow_y": null,
            "padding": null,
            "right": null,
            "top": null,
            "visibility": null,
            "width": null
          }
        },
        "098791aae63a42ec9cdfdc1cf421bfa1": {
          "model_module": "@jupyter-widgets/controls",
          "model_name": "ProgressStyleModel",
          "model_module_version": "1.5.0",
          "state": {
            "_model_module": "@jupyter-widgets/controls",
            "_model_module_version": "1.5.0",
            "_model_name": "ProgressStyleModel",
            "_view_count": null,
            "_view_module": "@jupyter-widgets/base",
            "_view_module_version": "1.2.0",
            "_view_name": "StyleView",
            "bar_color": null,
            "description_width": ""
          }
        },
        "5bd2acdc0275440c80b5de89d0a83d27": {
          "model_module": "@jupyter-widgets/controls",
          "model_name": "VBoxModel",
          "model_module_version": "1.5.0",
          "state": {
            "_dom_classes": [],
            "_model_module": "@jupyter-widgets/controls",
            "_model_module_version": "1.5.0",
            "_model_name": "VBoxModel",
            "_view_count": null,
            "_view_module": "@jupyter-widgets/controls",
            "_view_module_version": "1.5.0",
            "_view_name": "VBoxView",
            "box_style": "",
            "children": [
              "IPY_MODEL_18134f4bff8a4b239ef65a102ae35741",
              "IPY_MODEL_ee5edf6ca8f64df5a6c2c9f2e1399e0b"
            ],
            "layout": "IPY_MODEL_cbf861d5060e483d8848e2319b903ccf"
          }
        },
        "18134f4bff8a4b239ef65a102ae35741": {
          "model_module": "@jupyter-widgets/controls",
          "model_name": "LabelModel",
          "model_module_version": "1.5.0",
          "state": {
            "_dom_classes": [],
            "_model_module": "@jupyter-widgets/controls",
            "_model_module_version": "1.5.0",
            "_model_name": "LabelModel",
            "_view_count": null,
            "_view_module": "@jupyter-widgets/controls",
            "_view_module_version": "1.5.0",
            "_view_name": "LabelView",
            "description": "",
            "description_tooltip": null,
            "layout": "IPY_MODEL_9630078723e341a0ad7b577f2c79f531",
            "placeholder": "​",
            "style": "IPY_MODEL_4c1761720a3f4026b1271ac621343742",
            "value": "210.359 MB of 210.359 MB uploaded\r"
          }
        },
        "ee5edf6ca8f64df5a6c2c9f2e1399e0b": {
          "model_module": "@jupyter-widgets/controls",
          "model_name": "FloatProgressModel",
          "model_module_version": "1.5.0",
          "state": {
            "_dom_classes": [],
            "_model_module": "@jupyter-widgets/controls",
            "_model_module_version": "1.5.0",
            "_model_name": "FloatProgressModel",
            "_view_count": null,
            "_view_module": "@jupyter-widgets/controls",
            "_view_module_version": "1.5.0",
            "_view_name": "ProgressView",
            "bar_style": "",
            "description": "",
            "description_tooltip": null,
            "layout": "IPY_MODEL_799bbe32a3824ac6922f09d0e7097cba",
            "max": 1,
            "min": 0,
            "orientation": "horizontal",
            "style": "IPY_MODEL_262c2bb46a0842cebdcac4b8a7ae0d09",
            "value": 1
          }
        },
        "cbf861d5060e483d8848e2319b903ccf": {
          "model_module": "@jupyter-widgets/base",
          "model_name": "LayoutModel",
          "model_module_version": "1.2.0",
          "state": {
            "_model_module": "@jupyter-widgets/base",
            "_model_module_version": "1.2.0",
            "_model_name": "LayoutModel",
            "_view_count": null,
            "_view_module": "@jupyter-widgets/base",
            "_view_module_version": "1.2.0",
            "_view_name": "LayoutView",
            "align_content": null,
            "align_items": null,
            "align_self": null,
            "border": null,
            "bottom": null,
            "display": null,
            "flex": null,
            "flex_flow": null,
            "grid_area": null,
            "grid_auto_columns": null,
            "grid_auto_flow": null,
            "grid_auto_rows": null,
            "grid_column": null,
            "grid_gap": null,
            "grid_row": null,
            "grid_template_areas": null,
            "grid_template_columns": null,
            "grid_template_rows": null,
            "height": null,
            "justify_content": null,
            "justify_items": null,
            "left": null,
            "margin": null,
            "max_height": null,
            "max_width": null,
            "min_height": null,
            "min_width": null,
            "object_fit": null,
            "object_position": null,
            "order": null,
            "overflow": null,
            "overflow_x": null,
            "overflow_y": null,
            "padding": null,
            "right": null,
            "top": null,
            "visibility": null,
            "width": null
          }
        },
        "9630078723e341a0ad7b577f2c79f531": {
          "model_module": "@jupyter-widgets/base",
          "model_name": "LayoutModel",
          "model_module_version": "1.2.0",
          "state": {
            "_model_module": "@jupyter-widgets/base",
            "_model_module_version": "1.2.0",
            "_model_name": "LayoutModel",
            "_view_count": null,
            "_view_module": "@jupyter-widgets/base",
            "_view_module_version": "1.2.0",
            "_view_name": "LayoutView",
            "align_content": null,
            "align_items": null,
            "align_self": null,
            "border": null,
            "bottom": null,
            "display": null,
            "flex": null,
            "flex_flow": null,
            "grid_area": null,
            "grid_auto_columns": null,
            "grid_auto_flow": null,
            "grid_auto_rows": null,
            "grid_column": null,
            "grid_gap": null,
            "grid_row": null,
            "grid_template_areas": null,
            "grid_template_columns": null,
            "grid_template_rows": null,
            "height": null,
            "justify_content": null,
            "justify_items": null,
            "left": null,
            "margin": null,
            "max_height": null,
            "max_width": null,
            "min_height": null,
            "min_width": null,
            "object_fit": null,
            "object_position": null,
            "order": null,
            "overflow": null,
            "overflow_x": null,
            "overflow_y": null,
            "padding": null,
            "right": null,
            "top": null,
            "visibility": null,
            "width": null
          }
        },
        "4c1761720a3f4026b1271ac621343742": {
          "model_module": "@jupyter-widgets/controls",
          "model_name": "DescriptionStyleModel",
          "model_module_version": "1.5.0",
          "state": {
            "_model_module": "@jupyter-widgets/controls",
            "_model_module_version": "1.5.0",
            "_model_name": "DescriptionStyleModel",
            "_view_count": null,
            "_view_module": "@jupyter-widgets/base",
            "_view_module_version": "1.2.0",
            "_view_name": "StyleView",
            "description_width": ""
          }
        },
        "799bbe32a3824ac6922f09d0e7097cba": {
          "model_module": "@jupyter-widgets/base",
          "model_name": "LayoutModel",
          "model_module_version": "1.2.0",
          "state": {
            "_model_module": "@jupyter-widgets/base",
            "_model_module_version": "1.2.0",
            "_model_name": "LayoutModel",
            "_view_count": null,
            "_view_module": "@jupyter-widgets/base",
            "_view_module_version": "1.2.0",
            "_view_name": "LayoutView",
            "align_content": null,
            "align_items": null,
            "align_self": null,
            "border": null,
            "bottom": null,
            "display": null,
            "flex": null,
            "flex_flow": null,
            "grid_area": null,
            "grid_auto_columns": null,
            "grid_auto_flow": null,
            "grid_auto_rows": null,
            "grid_column": null,
            "grid_gap": null,
            "grid_row": null,
            "grid_template_areas": null,
            "grid_template_columns": null,
            "grid_template_rows": null,
            "height": null,
            "justify_content": null,
            "justify_items": null,
            "left": null,
            "margin": null,
            "max_height": null,
            "max_width": null,
            "min_height": null,
            "min_width": null,
            "object_fit": null,
            "object_position": null,
            "order": null,
            "overflow": null,
            "overflow_x": null,
            "overflow_y": null,
            "padding": null,
            "right": null,
            "top": null,
            "visibility": null,
            "width": null
          }
        },
        "262c2bb46a0842cebdcac4b8a7ae0d09": {
          "model_module": "@jupyter-widgets/controls",
          "model_name": "ProgressStyleModel",
          "model_module_version": "1.5.0",
          "state": {
            "_model_module": "@jupyter-widgets/controls",
            "_model_module_version": "1.5.0",
            "_model_name": "ProgressStyleModel",
            "_view_count": null,
            "_view_module": "@jupyter-widgets/base",
            "_view_module_version": "1.2.0",
            "_view_name": "StyleView",
            "bar_color": null,
            "description_width": ""
          }
        },
        "4e4929ac60984f059cf3b349af0b6ee3": {
          "model_module": "@jupyter-widgets/controls",
          "model_name": "VBoxModel",
          "model_module_version": "1.5.0",
          "state": {
            "_dom_classes": [],
            "_model_module": "@jupyter-widgets/controls",
            "_model_module_version": "1.5.0",
            "_model_name": "VBoxModel",
            "_view_count": null,
            "_view_module": "@jupyter-widgets/controls",
            "_view_module_version": "1.5.0",
            "_view_name": "VBoxView",
            "box_style": "",
            "children": [
              "IPY_MODEL_652a31676e394c8aa82c50ebe355dae0",
              "IPY_MODEL_c6597e0aafa6465b92947a29bb81e45b"
            ],
            "layout": "IPY_MODEL_08d924a157894af58fe13738bf23a5da"
          }
        },
        "652a31676e394c8aa82c50ebe355dae0": {
          "model_module": "@jupyter-widgets/controls",
          "model_name": "LabelModel",
          "model_module_version": "1.5.0",
          "state": {
            "_dom_classes": [],
            "_model_module": "@jupyter-widgets/controls",
            "_model_module_version": "1.5.0",
            "_model_name": "LabelModel",
            "_view_count": null,
            "_view_module": "@jupyter-widgets/controls",
            "_view_module_version": "1.5.0",
            "_view_name": "LabelView",
            "description": "",
            "description_tooltip": null,
            "layout": "IPY_MODEL_7996fbffff8842e79ca440a685d212f2",
            "placeholder": "​",
            "style": "IPY_MODEL_486d37379f634e31a9840f0d59751fa8",
            "value": "0.283 MB of 0.283 MB uploaded\r"
          }
        },
        "c6597e0aafa6465b92947a29bb81e45b": {
          "model_module": "@jupyter-widgets/controls",
          "model_name": "FloatProgressModel",
          "model_module_version": "1.5.0",
          "state": {
            "_dom_classes": [],
            "_model_module": "@jupyter-widgets/controls",
            "_model_module_version": "1.5.0",
            "_model_name": "FloatProgressModel",
            "_view_count": null,
            "_view_module": "@jupyter-widgets/controls",
            "_view_module_version": "1.5.0",
            "_view_name": "ProgressView",
            "bar_style": "",
            "description": "",
            "description_tooltip": null,
            "layout": "IPY_MODEL_c447036e65904642896b241d300700ce",
            "max": 1,
            "min": 0,
            "orientation": "horizontal",
            "style": "IPY_MODEL_34d10d81de4648e0a07991c4d7020712",
            "value": 1
          }
        },
        "08d924a157894af58fe13738bf23a5da": {
          "model_module": "@jupyter-widgets/base",
          "model_name": "LayoutModel",
          "model_module_version": "1.2.0",
          "state": {
            "_model_module": "@jupyter-widgets/base",
            "_model_module_version": "1.2.0",
            "_model_name": "LayoutModel",
            "_view_count": null,
            "_view_module": "@jupyter-widgets/base",
            "_view_module_version": "1.2.0",
            "_view_name": "LayoutView",
            "align_content": null,
            "align_items": null,
            "align_self": null,
            "border": null,
            "bottom": null,
            "display": null,
            "flex": null,
            "flex_flow": null,
            "grid_area": null,
            "grid_auto_columns": null,
            "grid_auto_flow": null,
            "grid_auto_rows": null,
            "grid_column": null,
            "grid_gap": null,
            "grid_row": null,
            "grid_template_areas": null,
            "grid_template_columns": null,
            "grid_template_rows": null,
            "height": null,
            "justify_content": null,
            "justify_items": null,
            "left": null,
            "margin": null,
            "max_height": null,
            "max_width": null,
            "min_height": null,
            "min_width": null,
            "object_fit": null,
            "object_position": null,
            "order": null,
            "overflow": null,
            "overflow_x": null,
            "overflow_y": null,
            "padding": null,
            "right": null,
            "top": null,
            "visibility": null,
            "width": null
          }
        },
        "7996fbffff8842e79ca440a685d212f2": {
          "model_module": "@jupyter-widgets/base",
          "model_name": "LayoutModel",
          "model_module_version": "1.2.0",
          "state": {
            "_model_module": "@jupyter-widgets/base",
            "_model_module_version": "1.2.0",
            "_model_name": "LayoutModel",
            "_view_count": null,
            "_view_module": "@jupyter-widgets/base",
            "_view_module_version": "1.2.0",
            "_view_name": "LayoutView",
            "align_content": null,
            "align_items": null,
            "align_self": null,
            "border": null,
            "bottom": null,
            "display": null,
            "flex": null,
            "flex_flow": null,
            "grid_area": null,
            "grid_auto_columns": null,
            "grid_auto_flow": null,
            "grid_auto_rows": null,
            "grid_column": null,
            "grid_gap": null,
            "grid_row": null,
            "grid_template_areas": null,
            "grid_template_columns": null,
            "grid_template_rows": null,
            "height": null,
            "justify_content": null,
            "justify_items": null,
            "left": null,
            "margin": null,
            "max_height": null,
            "max_width": null,
            "min_height": null,
            "min_width": null,
            "object_fit": null,
            "object_position": null,
            "order": null,
            "overflow": null,
            "overflow_x": null,
            "overflow_y": null,
            "padding": null,
            "right": null,
            "top": null,
            "visibility": null,
            "width": null
          }
        },
        "486d37379f634e31a9840f0d59751fa8": {
          "model_module": "@jupyter-widgets/controls",
          "model_name": "DescriptionStyleModel",
          "model_module_version": "1.5.0",
          "state": {
            "_model_module": "@jupyter-widgets/controls",
            "_model_module_version": "1.5.0",
            "_model_name": "DescriptionStyleModel",
            "_view_count": null,
            "_view_module": "@jupyter-widgets/base",
            "_view_module_version": "1.2.0",
            "_view_name": "StyleView",
            "description_width": ""
          }
        },
        "c447036e65904642896b241d300700ce": {
          "model_module": "@jupyter-widgets/base",
          "model_name": "LayoutModel",
          "model_module_version": "1.2.0",
          "state": {
            "_model_module": "@jupyter-widgets/base",
            "_model_module_version": "1.2.0",
            "_model_name": "LayoutModel",
            "_view_count": null,
            "_view_module": "@jupyter-widgets/base",
            "_view_module_version": "1.2.0",
            "_view_name": "LayoutView",
            "align_content": null,
            "align_items": null,
            "align_self": null,
            "border": null,
            "bottom": null,
            "display": null,
            "flex": null,
            "flex_flow": null,
            "grid_area": null,
            "grid_auto_columns": null,
            "grid_auto_flow": null,
            "grid_auto_rows": null,
            "grid_column": null,
            "grid_gap": null,
            "grid_row": null,
            "grid_template_areas": null,
            "grid_template_columns": null,
            "grid_template_rows": null,
            "height": null,
            "justify_content": null,
            "justify_items": null,
            "left": null,
            "margin": null,
            "max_height": null,
            "max_width": null,
            "min_height": null,
            "min_width": null,
            "object_fit": null,
            "object_position": null,
            "order": null,
            "overflow": null,
            "overflow_x": null,
            "overflow_y": null,
            "padding": null,
            "right": null,
            "top": null,
            "visibility": null,
            "width": null
          }
        },
        "34d10d81de4648e0a07991c4d7020712": {
          "model_module": "@jupyter-widgets/controls",
          "model_name": "ProgressStyleModel",
          "model_module_version": "1.5.0",
          "state": {
            "_model_module": "@jupyter-widgets/controls",
            "_model_module_version": "1.5.0",
            "_model_name": "ProgressStyleModel",
            "_view_count": null,
            "_view_module": "@jupyter-widgets/base",
            "_view_module_version": "1.2.0",
            "_view_name": "StyleView",
            "bar_color": null,
            "description_width": ""
          }
        },
        "4dfac6d62c6740e19ff585db6e1a5205": {
          "model_module": "@jupyter-widgets/controls",
          "model_name": "VBoxModel",
          "model_module_version": "1.5.0",
          "state": {
            "_dom_classes": [],
            "_model_module": "@jupyter-widgets/controls",
            "_model_module_version": "1.5.0",
            "_model_name": "VBoxModel",
            "_view_count": null,
            "_view_module": "@jupyter-widgets/controls",
            "_view_module_version": "1.5.0",
            "_view_name": "VBoxView",
            "box_style": "",
            "children": [
              "IPY_MODEL_a1d97fe80c4749848315ef7ef859642b",
              "IPY_MODEL_04ecdfbcb5604adc97938e5e9adbcbf9"
            ],
            "layout": "IPY_MODEL_cb2b3a6250b048babcea10f78e52c914"
          }
        },
        "a1d97fe80c4749848315ef7ef859642b": {
          "model_module": "@jupyter-widgets/controls",
          "model_name": "LabelModel",
          "model_module_version": "1.5.0",
          "state": {
            "_dom_classes": [],
            "_model_module": "@jupyter-widgets/controls",
            "_model_module_version": "1.5.0",
            "_model_name": "LabelModel",
            "_view_count": null,
            "_view_module": "@jupyter-widgets/controls",
            "_view_module_version": "1.5.0",
            "_view_name": "LabelView",
            "description": "",
            "description_tooltip": null,
            "layout": "IPY_MODEL_8772c95255804fd7b30b78972f992da3",
            "placeholder": "​",
            "style": "IPY_MODEL_964df699f9c44398a9aa674ec9e050e4",
            "value": "0.292 MB of 0.292 MB uploaded\r"
          }
        },
        "04ecdfbcb5604adc97938e5e9adbcbf9": {
          "model_module": "@jupyter-widgets/controls",
          "model_name": "FloatProgressModel",
          "model_module_version": "1.5.0",
          "state": {
            "_dom_classes": [],
            "_model_module": "@jupyter-widgets/controls",
            "_model_module_version": "1.5.0",
            "_model_name": "FloatProgressModel",
            "_view_count": null,
            "_view_module": "@jupyter-widgets/controls",
            "_view_module_version": "1.5.0",
            "_view_name": "ProgressView",
            "bar_style": "",
            "description": "",
            "description_tooltip": null,
            "layout": "IPY_MODEL_d4c3f300adb64abb9b15921a7dca47be",
            "max": 1,
            "min": 0,
            "orientation": "horizontal",
            "style": "IPY_MODEL_0626f75ffedf48059f6ebf2ccb9a7517",
            "value": 1
          }
        },
        "cb2b3a6250b048babcea10f78e52c914": {
          "model_module": "@jupyter-widgets/base",
          "model_name": "LayoutModel",
          "model_module_version": "1.2.0",
          "state": {
            "_model_module": "@jupyter-widgets/base",
            "_model_module_version": "1.2.0",
            "_model_name": "LayoutModel",
            "_view_count": null,
            "_view_module": "@jupyter-widgets/base",
            "_view_module_version": "1.2.0",
            "_view_name": "LayoutView",
            "align_content": null,
            "align_items": null,
            "align_self": null,
            "border": null,
            "bottom": null,
            "display": null,
            "flex": null,
            "flex_flow": null,
            "grid_area": null,
            "grid_auto_columns": null,
            "grid_auto_flow": null,
            "grid_auto_rows": null,
            "grid_column": null,
            "grid_gap": null,
            "grid_row": null,
            "grid_template_areas": null,
            "grid_template_columns": null,
            "grid_template_rows": null,
            "height": null,
            "justify_content": null,
            "justify_items": null,
            "left": null,
            "margin": null,
            "max_height": null,
            "max_width": null,
            "min_height": null,
            "min_width": null,
            "object_fit": null,
            "object_position": null,
            "order": null,
            "overflow": null,
            "overflow_x": null,
            "overflow_y": null,
            "padding": null,
            "right": null,
            "top": null,
            "visibility": null,
            "width": null
          }
        },
        "8772c95255804fd7b30b78972f992da3": {
          "model_module": "@jupyter-widgets/base",
          "model_name": "LayoutModel",
          "model_module_version": "1.2.0",
          "state": {
            "_model_module": "@jupyter-widgets/base",
            "_model_module_version": "1.2.0",
            "_model_name": "LayoutModel",
            "_view_count": null,
            "_view_module": "@jupyter-widgets/base",
            "_view_module_version": "1.2.0",
            "_view_name": "LayoutView",
            "align_content": null,
            "align_items": null,
            "align_self": null,
            "border": null,
            "bottom": null,
            "display": null,
            "flex": null,
            "flex_flow": null,
            "grid_area": null,
            "grid_auto_columns": null,
            "grid_auto_flow": null,
            "grid_auto_rows": null,
            "grid_column": null,
            "grid_gap": null,
            "grid_row": null,
            "grid_template_areas": null,
            "grid_template_columns": null,
            "grid_template_rows": null,
            "height": null,
            "justify_content": null,
            "justify_items": null,
            "left": null,
            "margin": null,
            "max_height": null,
            "max_width": null,
            "min_height": null,
            "min_width": null,
            "object_fit": null,
            "object_position": null,
            "order": null,
            "overflow": null,
            "overflow_x": null,
            "overflow_y": null,
            "padding": null,
            "right": null,
            "top": null,
            "visibility": null,
            "width": null
          }
        },
        "964df699f9c44398a9aa674ec9e050e4": {
          "model_module": "@jupyter-widgets/controls",
          "model_name": "DescriptionStyleModel",
          "model_module_version": "1.5.0",
          "state": {
            "_model_module": "@jupyter-widgets/controls",
            "_model_module_version": "1.5.0",
            "_model_name": "DescriptionStyleModel",
            "_view_count": null,
            "_view_module": "@jupyter-widgets/base",
            "_view_module_version": "1.2.0",
            "_view_name": "StyleView",
            "description_width": ""
          }
        },
        "d4c3f300adb64abb9b15921a7dca47be": {
          "model_module": "@jupyter-widgets/base",
          "model_name": "LayoutModel",
          "model_module_version": "1.2.0",
          "state": {
            "_model_module": "@jupyter-widgets/base",
            "_model_module_version": "1.2.0",
            "_model_name": "LayoutModel",
            "_view_count": null,
            "_view_module": "@jupyter-widgets/base",
            "_view_module_version": "1.2.0",
            "_view_name": "LayoutView",
            "align_content": null,
            "align_items": null,
            "align_self": null,
            "border": null,
            "bottom": null,
            "display": null,
            "flex": null,
            "flex_flow": null,
            "grid_area": null,
            "grid_auto_columns": null,
            "grid_auto_flow": null,
            "grid_auto_rows": null,
            "grid_column": null,
            "grid_gap": null,
            "grid_row": null,
            "grid_template_areas": null,
            "grid_template_columns": null,
            "grid_template_rows": null,
            "height": null,
            "justify_content": null,
            "justify_items": null,
            "left": null,
            "margin": null,
            "max_height": null,
            "max_width": null,
            "min_height": null,
            "min_width": null,
            "object_fit": null,
            "object_position": null,
            "order": null,
            "overflow": null,
            "overflow_x": null,
            "overflow_y": null,
            "padding": null,
            "right": null,
            "top": null,
            "visibility": null,
            "width": null
          }
        },
        "0626f75ffedf48059f6ebf2ccb9a7517": {
          "model_module": "@jupyter-widgets/controls",
          "model_name": "ProgressStyleModel",
          "model_module_version": "1.5.0",
          "state": {
            "_model_module": "@jupyter-widgets/controls",
            "_model_module_version": "1.5.0",
            "_model_name": "ProgressStyleModel",
            "_view_count": null,
            "_view_module": "@jupyter-widgets/base",
            "_view_module_version": "1.2.0",
            "_view_name": "StyleView",
            "bar_color": null,
            "description_width": ""
          }
        },
        "eb426071a2f64cd19f775a05b5b14c92": {
          "model_module": "@jupyter-widgets/controls",
          "model_name": "VBoxModel",
          "model_module_version": "1.5.0",
          "state": {
            "_dom_classes": [],
            "_model_module": "@jupyter-widgets/controls",
            "_model_module_version": "1.5.0",
            "_model_name": "VBoxModel",
            "_view_count": null,
            "_view_module": "@jupyter-widgets/controls",
            "_view_module_version": "1.5.0",
            "_view_name": "VBoxView",
            "box_style": "",
            "children": [
              "IPY_MODEL_cefd3867363348dba0a67bf03ab3629c",
              "IPY_MODEL_df43b86325e64d7da34647cfb5fbe03a"
            ],
            "layout": "IPY_MODEL_f798bd238fc94a359e27910058312cb9"
          }
        },
        "cefd3867363348dba0a67bf03ab3629c": {
          "model_module": "@jupyter-widgets/controls",
          "model_name": "LabelModel",
          "model_module_version": "1.5.0",
          "state": {
            "_dom_classes": [],
            "_model_module": "@jupyter-widgets/controls",
            "_model_module_version": "1.5.0",
            "_model_name": "LabelModel",
            "_view_count": null,
            "_view_module": "@jupyter-widgets/controls",
            "_view_module_version": "1.5.0",
            "_view_name": "LabelView",
            "description": "",
            "description_tooltip": null,
            "layout": "IPY_MODEL_23e04125bb1246a2a5ac0d133ec7a984",
            "placeholder": "​",
            "style": "IPY_MODEL_c9f6a0a9ba5a471da5b3e3861065ebdc",
            "value": "0.029 MB of 0.029 MB uploaded\r"
          }
        },
        "df43b86325e64d7da34647cfb5fbe03a": {
          "model_module": "@jupyter-widgets/controls",
          "model_name": "FloatProgressModel",
          "model_module_version": "1.5.0",
          "state": {
            "_dom_classes": [],
            "_model_module": "@jupyter-widgets/controls",
            "_model_module_version": "1.5.0",
            "_model_name": "FloatProgressModel",
            "_view_count": null,
            "_view_module": "@jupyter-widgets/controls",
            "_view_module_version": "1.5.0",
            "_view_name": "ProgressView",
            "bar_style": "",
            "description": "",
            "description_tooltip": null,
            "layout": "IPY_MODEL_482a69755fe141a7ae9773d7ca583832",
            "max": 1,
            "min": 0,
            "orientation": "horizontal",
            "style": "IPY_MODEL_4918c3f58a5f4756bb94bc8ab48748c1",
            "value": 1
          }
        },
        "f798bd238fc94a359e27910058312cb9": {
          "model_module": "@jupyter-widgets/base",
          "model_name": "LayoutModel",
          "model_module_version": "1.2.0",
          "state": {
            "_model_module": "@jupyter-widgets/base",
            "_model_module_version": "1.2.0",
            "_model_name": "LayoutModel",
            "_view_count": null,
            "_view_module": "@jupyter-widgets/base",
            "_view_module_version": "1.2.0",
            "_view_name": "LayoutView",
            "align_content": null,
            "align_items": null,
            "align_self": null,
            "border": null,
            "bottom": null,
            "display": null,
            "flex": null,
            "flex_flow": null,
            "grid_area": null,
            "grid_auto_columns": null,
            "grid_auto_flow": null,
            "grid_auto_rows": null,
            "grid_column": null,
            "grid_gap": null,
            "grid_row": null,
            "grid_template_areas": null,
            "grid_template_columns": null,
            "grid_template_rows": null,
            "height": null,
            "justify_content": null,
            "justify_items": null,
            "left": null,
            "margin": null,
            "max_height": null,
            "max_width": null,
            "min_height": null,
            "min_width": null,
            "object_fit": null,
            "object_position": null,
            "order": null,
            "overflow": null,
            "overflow_x": null,
            "overflow_y": null,
            "padding": null,
            "right": null,
            "top": null,
            "visibility": null,
            "width": null
          }
        },
        "23e04125bb1246a2a5ac0d133ec7a984": {
          "model_module": "@jupyter-widgets/base",
          "model_name": "LayoutModel",
          "model_module_version": "1.2.0",
          "state": {
            "_model_module": "@jupyter-widgets/base",
            "_model_module_version": "1.2.0",
            "_model_name": "LayoutModel",
            "_view_count": null,
            "_view_module": "@jupyter-widgets/base",
            "_view_module_version": "1.2.0",
            "_view_name": "LayoutView",
            "align_content": null,
            "align_items": null,
            "align_self": null,
            "border": null,
            "bottom": null,
            "display": null,
            "flex": null,
            "flex_flow": null,
            "grid_area": null,
            "grid_auto_columns": null,
            "grid_auto_flow": null,
            "grid_auto_rows": null,
            "grid_column": null,
            "grid_gap": null,
            "grid_row": null,
            "grid_template_areas": null,
            "grid_template_columns": null,
            "grid_template_rows": null,
            "height": null,
            "justify_content": null,
            "justify_items": null,
            "left": null,
            "margin": null,
            "max_height": null,
            "max_width": null,
            "min_height": null,
            "min_width": null,
            "object_fit": null,
            "object_position": null,
            "order": null,
            "overflow": null,
            "overflow_x": null,
            "overflow_y": null,
            "padding": null,
            "right": null,
            "top": null,
            "visibility": null,
            "width": null
          }
        },
        "c9f6a0a9ba5a471da5b3e3861065ebdc": {
          "model_module": "@jupyter-widgets/controls",
          "model_name": "DescriptionStyleModel",
          "model_module_version": "1.5.0",
          "state": {
            "_model_module": "@jupyter-widgets/controls",
            "_model_module_version": "1.5.0",
            "_model_name": "DescriptionStyleModel",
            "_view_count": null,
            "_view_module": "@jupyter-widgets/base",
            "_view_module_version": "1.2.0",
            "_view_name": "StyleView",
            "description_width": ""
          }
        },
        "482a69755fe141a7ae9773d7ca583832": {
          "model_module": "@jupyter-widgets/base",
          "model_name": "LayoutModel",
          "model_module_version": "1.2.0",
          "state": {
            "_model_module": "@jupyter-widgets/base",
            "_model_module_version": "1.2.0",
            "_model_name": "LayoutModel",
            "_view_count": null,
            "_view_module": "@jupyter-widgets/base",
            "_view_module_version": "1.2.0",
            "_view_name": "LayoutView",
            "align_content": null,
            "align_items": null,
            "align_self": null,
            "border": null,
            "bottom": null,
            "display": null,
            "flex": null,
            "flex_flow": null,
            "grid_area": null,
            "grid_auto_columns": null,
            "grid_auto_flow": null,
            "grid_auto_rows": null,
            "grid_column": null,
            "grid_gap": null,
            "grid_row": null,
            "grid_template_areas": null,
            "grid_template_columns": null,
            "grid_template_rows": null,
            "height": null,
            "justify_content": null,
            "justify_items": null,
            "left": null,
            "margin": null,
            "max_height": null,
            "max_width": null,
            "min_height": null,
            "min_width": null,
            "object_fit": null,
            "object_position": null,
            "order": null,
            "overflow": null,
            "overflow_x": null,
            "overflow_y": null,
            "padding": null,
            "right": null,
            "top": null,
            "visibility": null,
            "width": null
          }
        },
        "4918c3f58a5f4756bb94bc8ab48748c1": {
          "model_module": "@jupyter-widgets/controls",
          "model_name": "ProgressStyleModel",
          "model_module_version": "1.5.0",
          "state": {
            "_model_module": "@jupyter-widgets/controls",
            "_model_module_version": "1.5.0",
            "_model_name": "ProgressStyleModel",
            "_view_count": null,
            "_view_module": "@jupyter-widgets/base",
            "_view_module_version": "1.2.0",
            "_view_name": "StyleView",
            "bar_color": null,
            "description_width": ""
          }
        }
      }
    }
  },
  "nbformat": 4,
  "nbformat_minor": 0
}